{
  "nbformat": 4,
  "nbformat_minor": 0,
  "metadata": {
    "colab": {
      "provenance": [],
      "authorship_tag": "ABX9TyPnhNgvlfeAQQySzC0iuwoU",
      "include_colab_link": true
    },
    "kernelspec": {
      "name": "python3",
      "display_name": "Python 3"
    },
    "language_info": {
      "name": "python"
    }
  },
  "cells": [
    {
      "cell_type": "markdown",
      "metadata": {
        "id": "view-in-github",
        "colab_type": "text"
      },
      "source": [
        "<a href=\"https://colab.research.google.com/github/Raytallo/Algoritmo-ESA.2024.1/blob/main/atividade_02.ipynb\" target=\"_parent\"><img src=\"https://colab.research.google.com/assets/colab-badge.svg\" alt=\"Open In Colab\"/></a>"
      ]
    },
    {
      "cell_type": "code",
      "source": [
        "print(\"Calculadora de média ponderada do IFRN\")\n",
        "#Float, tipagem explícita, para garantir número fracionário\n",
        "\n",
        "while True:\n",
        "  n1 = float( input(\"Digite a nota 1: \") )\n",
        "\n",
        "  if n1 < 0 or n1 > 10:\n",
        "    print(\"Digite um numero entre 0 e 10 para nota 1\")\n",
        "  else:\n",
        "   break\n",
        "\n",
        "p1 = float(input(\"Digite o peso da nota 1: \"))\n",
        "\n",
        "while True:\n",
        "  n2 = float( input(\"Digite a nota 2: \") )\n",
        "\n",
        "  if n1 < 0 or n2 > 10:\n",
        "    print(\"Digite um numero entre 0 e 10 para nota 2\")\n",
        "  else:\n",
        "   break\n",
        "\n",
        "p2 = float(input(\"Digite o peso da nota 2: \"))\n",
        "\n",
        "#calculo de media ponderada\n",
        "soma_peso = p1 + p2\n",
        "media = (n1 * p1 + n2 * p2) / soma_peso\n",
        "\n",
        "print(f\"A média ponderada das notas é: {media:.2f}\")\n",
        "\n",
        "#apresentar se o aluno foi aprovado ou não\n",
        "if media >= 6:\n",
        "  print(\"Aprovado\")\n",
        "else:\n",
        "  if n1 >= 4 and n2 >=4:\n",
        "    print(\"Prova final\")\n",
        "  else:\n",
        "    print(\"Reprovado\")\n",
        ""
      ],
      "metadata": {
        "colab": {
          "base_uri": "https://localhost:8080/"
        },
        "id": "aB-25PDkEBNk",
        "outputId": "82438953-ec65-479f-becf-b588dc214536"
      },
      "execution_count": 4,
      "outputs": [
        {
          "output_type": "stream",
          "name": "stdout",
          "text": [
            "Calculadora de média ponderada do IFRN\n",
            "Digite a nota 1: 11\n",
            "Digite um numero entre 0 e 10 para nota 1\n",
            "Digite a nota 1: 10\n",
            "Digite o peso da nota 1: 11\n",
            "Digite a nota 2: 10\n",
            "Digite o peso da nota 2: 11\n",
            "A média ponderada das notas é: 10.00\n",
            "Aprovado\n"
          ]
        }
      ]
    }
  ]
}