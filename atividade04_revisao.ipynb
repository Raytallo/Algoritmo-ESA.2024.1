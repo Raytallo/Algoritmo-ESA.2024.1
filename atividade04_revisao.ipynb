{
  "nbformat": 4,
  "nbformat_minor": 0,
  "metadata": {
    "colab": {
      "provenance": [],
      "authorship_tag": "ABX9TyMDfzMV4YOX7jkOGnvgTqBc",
      "include_colab_link": true
    },
    "kernelspec": {
      "name": "python3",
      "display_name": "Python 3"
    },
    "language_info": {
      "name": "python"
    }
  },
  "cells": [
    {
      "cell_type": "markdown",
      "metadata": {
        "id": "view-in-github",
        "colab_type": "text"
      },
      "source": [
        "<a href=\"https://colab.research.google.com/github/Raytallo/Algoritmo-ESA.2024.1/blob/main/atividade04_revisao.ipynb\" target=\"_parent\"><img src=\"https://colab.research.google.com/assets/colab-badge.svg\" alt=\"Open In Colab\"/></a>"
      ]
    },
    {
      "cell_type": "markdown",
      "source": [
        "1- Escreva um programa que imprima \"Olá, Mundo!\" na tela.\n"
      ],
      "metadata": {
        "id": "A0rRw6g550ti"
      }
    },
    {
      "cell_type": "code",
      "source": [
        "print(\"Olá, Mundo!\")"
      ],
      "metadata": {
        "colab": {
          "base_uri": "https://localhost:8080/"
        },
        "id": "5r3XjpSN53-C",
        "outputId": "e8262312-6b30-4950-ddbe-8ed4718ca620"
      },
      "execution_count": 3,
      "outputs": [
        {
          "output_type": "stream",
          "name": "stdout",
          "text": [
            "Olá, Mundo!\n"
          ]
        }
      ]
    },
    {
      "cell_type": "markdown",
      "source": [
        "2- Crie um programa que leia três notas de um aluno e calcule a média final."
      ],
      "metadata": {
        "id": "_JXwVDWe6HDo"
      }
    },
    {
      "cell_type": "code",
      "source": [
        "n1 = float(input(\"Digite a primeira nota:\"))\n",
        "n2 = float(input(\"Digite a segunda nota:\"))\n",
        "n3 = float(input(\"Digite a terceira nota:\"))\n",
        "\n",
        "media = (n1 + n2 + n3) / 3\n",
        "print(\"A média final é:{}\".format(media))"
      ],
      "metadata": {
        "colab": {
          "base_uri": "https://localhost:8080/"
        },
        "id": "z8D2yT116Llg",
        "outputId": "772c80c9-1a58-427d-a59b-aeb21e64c5d3"
      },
      "execution_count": 4,
      "outputs": [
        {
          "output_type": "stream",
          "name": "stdout",
          "text": [
            "Digite a primeira nota:10\n",
            "Digite a segunda nota:10\n",
            "Digite a terceira nota:10\n",
            "A média final é:10.0\n"
          ]
        }
      ]
    },
    {
      "cell_type": "markdown",
      "source": [
        "3- Escreva um programa que calcule a média de notas, permitindo a entrada repetida de notas até que o usuário indique que não deseja mais inserir.\n"
      ],
      "metadata": {
        "id": "l0zC7IRW68V1"
      }
    },
    {
      "cell_type": "code",
      "source": [
        " notas = []\n",
        "\n",
        "while True:\n",
        "    nota1 = input(\"Digite a nota (ou 'fim' para encerrar): \")\n",
        "\n",
        "    if nota1.lower() == 'fim':\n",
        "        break\n",
        "\n",
        "    try:\n",
        "        nota = float(nota1)\n",
        "        notas.append(nota)\n",
        "    except ValueError:\n",
        "        print(\"Digite um número válido ou 'fim' para encerrar.\")\n",
        "\n",
        "if len(notas) > 0:\n",
        "    media = sum(notas) / len(notas)\n",
        "    print(\"A média das notas é: {:.2f}\".format(media))\n",
        "else:\n",
        "    print(\"Nenhuma nota válida inserida.\")"
      ],
      "metadata": {
        "colab": {
          "base_uri": "https://localhost:8080/"
        },
        "id": "RW3GmJh5_iuO",
        "outputId": "3f9446d1-84f5-4f39-bdfa-5bef1d9ba3c9"
      },
      "execution_count": 13,
      "outputs": [
        {
          "output_type": "stream",
          "name": "stdout",
          "text": [
            "Digite a nota (ou 'fim' para encerrar): 10\n",
            "Digite a nota (ou 'fim' para encerrar): 10\n",
            "Digite a nota (ou 'fim' para encerrar): 10\n",
            "Digite a nota (ou 'fim' para encerrar): 10\n",
            "Digite a nota (ou 'fim' para encerrar): 10\n",
            "Digite a nota (ou 'fim' para encerrar): 10\n",
            "Digite a nota (ou 'fim' para encerrar): 10\n",
            "Digite a nota (ou 'fim' para encerrar): fim\n",
            "A média das notas é: 10.00\n"
          ]
        }
      ]
    },
    {
      "cell_type": "markdown",
      "source": [
        "4- Crie um programa que leia três números e determine o maior deles.\n"
      ],
      "metadata": {
        "id": "4ldbntcn_jXh"
      }
    },
    {
      "cell_type": "code",
      "source": [
        "n1 = float(input(\"Digite o primeiro número: \"))\n",
        "n2 = float(input(\"Digite o segundo número: \"))\n",
        "n3 = float(input(\"Digite o terceiro número: \"))\n",
        "\n",
        "\n",
        "maior = max(n1, n2, n3)\n",
        "\n",
        "print(\"O maior número é:{}\".format(maior))"
      ],
      "metadata": {
        "colab": {
          "base_uri": "https://localhost:8080/"
        },
        "id": "Rg2IzKfs_qpL",
        "outputId": "8c9da487-f09c-4a33-8172-784be8e985e0"
      },
      "execution_count": 14,
      "outputs": [
        {
          "output_type": "stream",
          "name": "stdout",
          "text": [
            "Digite o primeiro número: 10\n",
            "Digite o segundo número: 3\n",
            "Digite o terceiro número: 2\n",
            "O maior número é:10.0\n"
          ]
        }
      ]
    },
    {
      "cell_type": "markdown",
      "source": [
        "5- Desenvolva um programa que monitore a qualidade da água de um reservatório usando um loop while."
      ],
      "metadata": {
        "id": "zbZVI3HZ_q7R"
      }
    },
    {
      "cell_type": "code",
      "source": [
        "a = True\n",
        "\n",
        "while a:\n",
        "    nivel_cloro = float(input(\"Digite o nível de cloro em mg/L: \"))\n",
        "\n",
        "    if nivel_cloro < 0.2:\n",
        "        print(\"O nível de cloro está abaixo do padrão\")\n",
        "    elif nivel_cloro > 2.0:\n",
        "        print(\"O nível de cloro está acima do padrão aceitável.\")\n",
        "    else:\n",
        "        print(\"O nível de cloro está dentro do padrão\")\n",
        "\n",
        "    resposta = input(\"Deseja continuar? (s/n): \")\n",
        "    if resposta.lower() != 's':\n",
        "        a = False\n",
        ""
      ],
      "metadata": {
        "colab": {
          "base_uri": "https://localhost:8080/"
        },
        "id": "JGzY2YjO_t7J",
        "outputId": "3f2ffa73-b556-481e-f2a6-5fb3e8de7491"
      },
      "execution_count": 7,
      "outputs": [
        {
          "name": "stdout",
          "output_type": "stream",
          "text": [
            "Digite o nível de cloro em mg/L: 0.2\n",
            "O nível de cloro está dentro do padrão\n",
            "Deseja continuar? (s/n): s\n",
            "Digite o nível de cloro em mg/L: 3\n",
            "O nível de cloro está acima do padrão aceitável.\n",
            "Deseja continuar? (s/n): s\n",
            "Digite o nível de cloro em mg/L: 0.1\n",
            "O nível de cloro está abaixo do padrão\n",
            "Deseja continuar? (s/n): n\n"
          ]
        }
      ]
    },
    {
      "cell_type": "markdown",
      "source": [
        "6- Implemente um programa que utilize um loop while para calcular a soma dos números de 1 a 100.\n"
      ],
      "metadata": {
        "id": "ntkyEUjyASKk"
      }
    },
    {
      "cell_type": "code",
      "source": [
        "s= 0\n",
        "\n",
        "num = 1\n",
        "\n",
        "while num <= 100:\n",
        "    s += num\n",
        "    num += 1\n",
        "\n",
        "print(\"A soma dos números de 1 a 100 é:{}\".format(s))"
      ],
      "metadata": {
        "colab": {
          "base_uri": "https://localhost:8080/"
        },
        "id": "dDV1aYhJ_50Z",
        "outputId": "51273777-7724-4b0e-f6b2-460ad15d1e64"
      },
      "execution_count": 3,
      "outputs": [
        {
          "output_type": "stream",
          "name": "stdout",
          "text": [
            "A soma dos números de 1 a 100 é:5050\n"
          ]
        }
      ]
    },
    {
      "cell_type": "markdown",
      "source": [
        "7- Escreva um programa que imprima todos os números ímpares de 1 a 50 usando um loop for."
      ],
      "metadata": {
        "id": "eclcsdcQAdez"
      }
    },
    {
      "cell_type": "code",
      "source": [
        "for num in range(1, 51):\n",
        "    if num % 2 != 0:\n",
        "        print(num)"
      ],
      "metadata": {
        "colab": {
          "base_uri": "https://localhost:8080/"
        },
        "id": "r0nymBsvAf4Y",
        "outputId": "c36de2a6-d17e-4b5c-8c46-8e9ce78e6855"
      },
      "execution_count": 4,
      "outputs": [
        {
          "output_type": "stream",
          "name": "stdout",
          "text": [
            "1\n",
            "3\n",
            "5\n",
            "7\n",
            "9\n",
            "11\n",
            "13\n",
            "15\n",
            "17\n",
            "19\n",
            "21\n",
            "23\n",
            "25\n",
            "27\n",
            "29\n",
            "31\n",
            "33\n",
            "35\n",
            "37\n",
            "39\n",
            "41\n",
            "43\n",
            "45\n",
            "47\n",
            "49\n"
          ]
        }
      ]
    },
    {
      "cell_type": "markdown",
      "source": [
        "8- Desenvolva um programa que utilize os objetos built-in do Python para realizar operações com listas e dicionários."
      ],
      "metadata": {
        "id": "w5tLvsgXAjYL"
      }
    },
    {
      "cell_type": "code",
      "source": [
        "def main():\n",
        "    # Lista de times do estado de São Paulo na série A do Brasileirão\n",
        "    times = ['Palmeiras', 'São Paulo', 'Corinthians', 'Bragantino']\n",
        "\n",
        "\n",
        "    dados_times = {'Palmeiras': {'Títulos Internacionais': 6, 'Idade (anos)': 109},\n",
        "        'São Paulo': {'Títulos Internacionais': 12, 'Idade (anos)': 96},\n",
        "        'Corinthians': {'Títulos Internacionais': 4, 'Idade (anos)': 112}, 'Bragantino': {'Títulos Internacionais': 0, 'Idade (anos)': 93} }\n",
        "\n",
        "    #lista de times de São Paulo na série A\n",
        "    print(\"Times de São Paulo na Série A do Brasileirão:\")\n",
        "    for time in times:\n",
        "        print(time)\n",
        "\n",
        "    #Dados adicionais sobre cada time\n",
        "    print(\"Dados adicionais:\")\n",
        "    for time, info in dados_times.items():\n",
        "        print(f\"{time}: Títulos Internacionais - {info['Títulos Internacionais']}, Idade - {info['Idade (anos)']}\")\n",
        "\n",
        "if __name__ == \"__main__\":\n",
        "    main()"
      ],
      "metadata": {
        "colab": {
          "base_uri": "https://localhost:8080/"
        },
        "id": "y6pUhgNYKynO",
        "outputId": "a1c61f85-c296-4e07-a30e-85f62228d8d8"
      },
      "execution_count": 5,
      "outputs": [
        {
          "output_type": "stream",
          "name": "stdout",
          "text": [
            "Times de São Paulo na Série A do Brasileirão:\n",
            "Palmeiras\n",
            "São Paulo\n",
            "Corinthians\n",
            "Bragantino\n",
            "Dados adicionais:\n",
            "Palmeiras: Títulos Internacionais - 6, Idade - 109\n",
            "São Paulo: Títulos Internacionais - 12, Idade - 96\n",
            "Corinthians: Títulos Internacionais - 4, Idade - 112\n",
            "Bragantino: Títulos Internacionais - 0, Idade - 93\n"
          ]
        }
      ]
    }
  ]
}