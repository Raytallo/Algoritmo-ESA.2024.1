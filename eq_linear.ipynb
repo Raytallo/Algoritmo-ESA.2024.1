{
  "nbformat": 4,
  "nbformat_minor": 0,
  "metadata": {
    "colab": {
      "provenance": [],
      "authorship_tag": "ABX9TyNMQBov+fBA+5AazKTPaXfh",
      "include_colab_link": true
    },
    "kernelspec": {
      "name": "python3",
      "display_name": "Python 3"
    },
    "language_info": {
      "name": "python"
    }
  },
  "cells": [
    {
      "cell_type": "markdown",
      "metadata": {
        "id": "view-in-github",
        "colab_type": "text"
      },
      "source": [
        "<a href=\"https://colab.research.google.com/github/Raytallo/Algoritmo-ESA.2024.1/blob/main/eq_linear.ipynb\" target=\"_parent\"><img src=\"https://colab.research.google.com/assets/colab-badge.svg\" alt=\"Open In Colab\"/></a>"
      ]
    },
    {
      "cell_type": "code",
      "execution_count": 1,
      "metadata": {
        "id": "y4Gp9wllqY9N"
      },
      "outputs": [],
      "source": [
        "#funcao linear com TDD em python\n",
        "def funcao_linear(x):\n",
        "    #f(x)=2x\n",
        "    return 2 * x\n",
        "\n",
        "#print(funcao_linear(2))"
      ]
    }
  ]
}