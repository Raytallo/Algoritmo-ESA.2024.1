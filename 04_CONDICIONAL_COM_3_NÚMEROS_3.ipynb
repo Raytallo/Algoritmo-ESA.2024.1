{
  "nbformat": 4,
  "nbformat_minor": 0,
  "metadata": {
    "colab": {
      "provenance": [],
      "authorship_tag": "ABX9TyPt1v1yk+gH7LAp+eJXH6xR",
      "include_colab_link": true
    },
    "kernelspec": {
      "name": "python3",
      "display_name": "Python 3"
    },
    "language_info": {
      "name": "python"
    }
  },
  "cells": [
    {
      "cell_type": "markdown",
      "metadata": {
        "id": "view-in-github",
        "colab_type": "text"
      },
      "source": [
        "<a href=\"https://colab.research.google.com/github/Raytallo/Algoritmo-ESA.2024.1/blob/main/04_CONDICIONAL_COM_3_N%C3%9AMEROS_3.ipynb\" target=\"_parent\"><img src=\"https://colab.research.google.com/assets/colab-badge.svg\" alt=\"Open In Colab\"/></a>"
      ]
    },
    {
      "cell_type": "code",
      "execution_count": 4,
      "metadata": {
        "colab": {
          "base_uri": "https://localhost:8080/"
        },
        "id": "3GNQg7dXu8yY",
        "outputId": "8fdbde3a-0f0c-4af0-cd88-d64e33c22ce8"
      },
      "outputs": [
        {
          "output_type": "stream",
          "name": "stdout",
          "text": [
            "30\n"
          ]
        }
      ],
      "source": [
        "#Crie um código que, a partir de 3 variiáveis \"a\", \"b\" e \"C\"\n",
        "\n",
        "a=10\n",
        "b=20\n",
        "c=30\n",
        "\n",
        "if a < b:\n",
        "  if b < c:\n",
        "    print(c)\n",
        "else:\n",
        "  print(b)\n",
        "  if a < c:\n",
        "    print(c)\n",
        "  else:\n",
        "    print(a)"
      ]
    },
    {
      "cell_type": "code",
      "source": [
        "#Simplificando com funções do python\n",
        "a=10\n",
        "b=20\n",
        "c=30\n",
        "d=40\n",
        "e=50\n",
        "\n",
        "print(max(a,b,c,d,e))"
      ],
      "metadata": {
        "colab": {
          "base_uri": "https://localhost:8080/"
        },
        "id": "DqxuZYJSx9cy",
        "outputId": "6abe9d9b-850f-490c-d2db-217f16ff9770"
      },
      "execution_count": 9,
      "outputs": [
        {
          "output_type": "stream",
          "name": "stdout",
          "text": [
            "50\n"
          ]
        }
      ]
    }
  ]
}