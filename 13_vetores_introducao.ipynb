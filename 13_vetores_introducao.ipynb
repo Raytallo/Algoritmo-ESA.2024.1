{
  "nbformat": 4,
  "nbformat_minor": 0,
  "metadata": {
    "colab": {
      "provenance": [],
      "authorship_tag": "ABX9TyM9pDn4243OMUyW17b8nfIr",
      "include_colab_link": true
    },
    "kernelspec": {
      "name": "python3",
      "display_name": "Python 3"
    },
    "language_info": {
      "name": "python"
    }
  },
  "cells": [
    {
      "cell_type": "markdown",
      "metadata": {
        "id": "view-in-github",
        "colab_type": "text"
      },
      "source": [
        "<a href=\"https://colab.research.google.com/github/Raytallo/Algoritmo-ESA.2024.1/blob/main/13_vetores_introducao.ipynb\" target=\"_parent\"><img src=\"https://colab.research.google.com/assets/colab-badge.svg\" alt=\"Open In Colab\"/></a>"
      ]
    },
    {
      "cell_type": "code",
      "execution_count": 2,
      "metadata": {
        "colab": {
          "base_uri": "https://localhost:8080/"
        },
        "id": "UxgTJaqJgF6x",
        "outputId": "dfaf5b61-7858-4d9b-cab6-ee91eb1ab2c3"
      },
      "outputs": [
        {
          "output_type": "stream",
          "name": "stdout",
          "text": [
            "Familia Revoredo\n",
            "Familia Menezes\n"
          ]
        }
      ],
      "source": [
        "#Considere um edificio com diversas familias e/ou moradores por andar\n",
        "edificio_terreo = \"Familia Revoredo\"\n",
        "edificio_1o_andar = \"Familia Menezes\"\n",
        "edificio_2o_andar = \"Familia Martins\"\n",
        "edificio_3o_andar = \"Familia Pinheiro\"\n",
        "\n",
        "#Como atribuir em localizacoes do vetor, abstraindo o andar\n",
        "edificio = [\n",
        "    edificio_terreo,\n",
        "    edificio_1o_andar,\n",
        "    edificio_2o_andar,\n",
        "    edificio_3o_andar\n",
        "]\n",
        "\n",
        "print(edificio[0])\n",
        "print(edificio[1])\n",
        ""
      ]
    },
    {
      "cell_type": "markdown",
      "source": [
        "P2"
      ],
      "metadata": {
        "id": "SHdSMF3BhKmB"
      }
    },
    {
      "cell_type": "code",
      "source": [
        "my_array = [7, 24, 'Fish', 'hat stand']\n",
        "print(my_array [2])"
      ],
      "metadata": {
        "colab": {
          "base_uri": "https://localhost:8080/"
        },
        "id": "9Vj42wqNhMBB",
        "outputId": "b498a24f-a169-43e4-8b31-af4f552139ea"
      },
      "execution_count": 1,
      "outputs": [
        {
          "output_type": "stream",
          "name": "stdout",
          "text": [
            "Fish\n"
          ]
        }
      ]
    },
    {
      "cell_type": "code",
      "source": [
        "my_words = ['dudes', 'and']\n",
        "print(my_words[0])\n",
        "print(my_words[1])\n",
        "my_words.append('bettys')\n",
        "print(my_words[2])"
      ],
      "metadata": {
        "colab": {
          "base_uri": "https://localhost:8080/"
        },
        "id": "IUVul-ohhgTA",
        "outputId": "06dced83-ba40-4d6f-f512-b584a9074086"
      },
      "execution_count": 6,
      "outputs": [
        {
          "output_type": "stream",
          "name": "stdout",
          "text": [
            "dudes\n",
            "and\n",
            "bettys\n"
          ]
        }
      ]
    },
    {
      "cell_type": "code",
      "source": [],
      "metadata": {
        "id": "LoGAnH87jUHU"
      },
      "execution_count": null,
      "outputs": []
    },
    {
      "cell_type": "code",
      "source": [
        "#calcule a média das notas\n",
        "notas = [6,7,5,8,9]\n",
        "soma = 0 #acumulador\n",
        "x = 0 #iteração\n",
        "while(x<5):\n",
        "  #soma = soma + notas[x]\n",
        "  #simplificando em python\n",
        "  soma += notas[x]\n",
        "  #impressão de depuração\n",
        "  #print(x)\n",
        "  #print(soma)\n",
        "  #controle de iteração\n",
        "  #x = x + 1 é equivalente a x +=1\n",
        "  x += 1\n",
        "  print('Média: %5.2f' % (soma/x))\n"
      ],
      "metadata": {
        "colab": {
          "base_uri": "https://localhost:8080/"
        },
        "id": "763rJf4ekFWT",
        "outputId": "ac542b98-6857-43cc-db9d-5d00ed89faee"
      },
      "execution_count": 13,
      "outputs": [
        {
          "output_type": "stream",
          "name": "stdout",
          "text": [
            "Média:  6.00\n",
            "Média:  6.50\n",
            "Média:  6.00\n",
            "Média:  6.50\n",
            "Média:  7.00\n"
          ]
        }
      ]
    },
    {
      "cell_type": "code",
      "source": [
        "#Considere um edificio com diversas familias e/ou moradores por andar\n",
        "edificio_terreo = \"Familia Revoredo\"\n",
        "edificio_1o_andar = \"Familia Menezes\"\n",
        "edificio_2o_andar = \"Familia Martins\"\n",
        "edificio_3o_andar = \"Familia Pinheiro\"\n",
        "\n",
        "#Como atribuir em localizacoes do vetor, abstraindo o andar\n",
        "edificio = [\n",
        "    edificio_terreo,\n",
        "    edificio_1o_andar,\n",
        "    edificio_2o_andar,\n",
        "    edificio_3o_andar\n",
        "]\n",
        "\n",
        "print(edificio[0])\n",
        "print(edificio[1])\n",
        ""
      ],
      "metadata": {
        "colab": {
          "base_uri": "https://localhost:8080/"
        },
        "id": "bOUz_v1Undf5",
        "outputId": "4fffd300-122b-4996-c7bc-fbe6a76a540c"
      },
      "execution_count": 14,
      "outputs": [
        {
          "output_type": "stream",
          "name": "stdout",
          "text": [
            "Familia Revoredo\n",
            "Familia Menezes\n"
          ]
        }
      ]
    },
    {
      "cell_type": "code",
      "source": [
        "#lista vazia\n",
        "lista = []\n",
        "\n",
        "#uma lista com três notas\n",
        "notas = [7.5,9,8.3]\n",
        "\n",
        "#Acessar uma nota\n",
        "print(notas[0])\n",
        "\n",
        "#modificar a primeira nota\n",
        "notas[0] = 8.7\n",
        "print(notas[0])"
      ],
      "metadata": {
        "colab": {
          "base_uri": "https://localhost:8080/"
        },
        "id": "GE3Rg_UIngYR",
        "outputId": "8aad8bad-c746-4867-f230-688d699922e1"
      },
      "execution_count": 15,
      "outputs": [
        {
          "output_type": "stream",
          "name": "stdout",
          "text": [
            "7.5\n",
            "8.7\n"
          ]
        }
      ]
    },
    {
      "cell_type": "code",
      "source": [
        "#Calcule a média de 5 notas\n",
        "notas = [6,7,5,8,9]\n",
        "soma = 0 #somador\n",
        "x = 0 #iteração\n",
        "while(x<5):\n",
        "  #somador\n",
        "  #soma = soma + notas[x]\n",
        "  #simplificando em python\n",
        "  soma += notas[x]\n",
        "\n",
        "  #Impressão para depuração\n",
        "  #print(x)\n",
        "  #print(soma)\n",
        "\n",
        "  #controle da iteração\n",
        "  #x = x + 1 é equiavalente a x +=1\n",
        "  x += 1\n",
        "print(\"Média: %5.2f\" % (soma/x))"
      ],
      "metadata": {
        "colab": {
          "base_uri": "https://localhost:8080/"
        },
        "id": "gOFDihPUnmT7",
        "outputId": "9a4e162b-98f2-4373-b0e0-5f6ee6177979"
      },
      "execution_count": 16,
      "outputs": [
        {
          "output_type": "stream",
          "name": "stdout",
          "text": [
            "Média:  7.00\n"
          ]
        }
      ]
    }
  ]
}