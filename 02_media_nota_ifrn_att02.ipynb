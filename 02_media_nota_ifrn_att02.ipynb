{
  "nbformat": 4,
  "nbformat_minor": 0,
  "metadata": {
    "colab": {
      "provenance": [],
      "authorship_tag": "ABX9TyM7eLLe3DRsU2+rVTLVvlqw",
      "include_colab_link": true
    },
    "kernelspec": {
      "name": "python3",
      "display_name": "Python 3"
    },
    "language_info": {
      "name": "python"
    }
  },
  "cells": [
    {
      "cell_type": "markdown",
      "metadata": {
        "id": "view-in-github",
        "colab_type": "text"
      },
      "source": [
        "<a href=\"https://colab.research.google.com/github/Raytallo/Algoritmo-ESA.2024.1/blob/main/02_media_nota_ifrn_att02.ipynb\" target=\"_parent\"><img src=\"https://colab.research.google.com/assets/colab-badge.svg\" alt=\"Open In Colab\"/></a>"
      ]
    },
    {
      "cell_type": "code",
      "execution_count": 11,
      "metadata": {
        "colab": {
          "base_uri": "https://localhost:8080/"
        },
        "id": "1PFnUCPVxPFl",
        "outputId": "7c228b5b-69f1-4c1c-a825-f2dd71438513"
      },
      "outputs": [
        {
          "output_type": "stream",
          "name": "stdout",
          "text": [
            "calculadora de média ponderada do IFRN\n",
            "Digite a nota 1 (com peso 2):7.0\n",
            "Digite a nota 2 (com peso 3):6.0\n",
            "A média ponderada das notas é:   6.40\n",
            "Aprovado\n"
          ]
        }
      ],
      "source": [
        "print(\"calculadora de média ponderada do IFRN\")\n",
        "#Float, tipagem explícita, para garantir número fracionário\n",
        "n1 = float (input(\"Digite a nota 1 (com peso 2):\"))\n",
        "n2 = float (input(\"Digite a nota 2 (com peso 3):\"))\n",
        "\n",
        "#calculo de media ponderada\n",
        "media = (n1 * 2 + n2 * 3) / 5\n",
        "\n",
        "#impressão da média\n",
        "print(f\"A média ponderada das notas é:  {media: .2f}\")\n",
        "\n",
        "if media >= 6:\n",
        "  print(\"Aprovado\")\n",
        "else:\n",
        "  print(\"Reprovado\")\n",
        "  if n1 >= 4 and n2 >= 4:\n",
        "    print(\"Prova Final\")"
      ]
    }
  ]
}