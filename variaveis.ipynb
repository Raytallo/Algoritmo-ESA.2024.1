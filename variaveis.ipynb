{
  "nbformat": 4,
  "nbformat_minor": 0,
  "metadata": {
    "colab": {
      "provenance": [],
      "authorship_tag": "ABX9TyNI0+6q6b0x7EWjD+ZuSlg5",
      "include_colab_link": true
    },
    "kernelspec": {
      "name": "python3",
      "display_name": "Python 3"
    },
    "language_info": {
      "name": "python"
    }
  },
  "cells": [
    {
      "cell_type": "markdown",
      "metadata": {
        "id": "view-in-github",
        "colab_type": "text"
      },
      "source": [
        "<a href=\"https://colab.research.google.com/github/Raytallo/Algoritmo-ESA.2024.1/blob/main/variaveis.ipynb\" target=\"_parent\"><img src=\"https://colab.research.google.com/assets/colab-badge.svg\" alt=\"Open In Colab\"/></a>"
      ]
    },
    {
      "cell_type": "code",
      "execution_count": null,
      "metadata": {
        "id": "Gap1biE4kSjZ"
      },
      "outputs": [],
      "source": []
    },
    {
      "cell_type": "markdown",
      "source": [
        "Escopo de variáveis"
      ],
      "metadata": {
        "id": "u-0oyPclmEUd"
      }
    },
    {
      "cell_type": "code",
      "source": [
        "a = 5\n",
        "def muda_e_imprime():\n",
        "  a = 10\n",
        "  print('a dentro da função: ', a) #a = 5\n",
        "\n",
        "print('a antes da função: ', a) #chamada da função a=10\n",
        "muda_e_imprime()\n",
        "print('a depois de mudar:', a) # a = 5\n"
      ],
      "metadata": {
        "colab": {
          "base_uri": "https://localhost:8080/"
        },
        "id": "lCoHE2h_mGX-",
        "outputId": "8e8b88b2-41c6-4b5c-db9d-52d91c4318e8"
      },
      "execution_count": 3,
      "outputs": [
        {
          "output_type": "stream",
          "name": "stdout",
          "text": [
            "a antes da função:  5\n",
            "a dentro da função:  10\n",
            "a depois de mudar: 5\n"
          ]
        }
      ]
    },
    {
      "cell_type": "code",
      "source": [
        "a = 5\n",
        "def muda_e_imprime():\n",
        "  global a #declara que é uma variável global\n",
        "  a = 10\n",
        "  print('a dentro da função: ', a) #a = 5\n",
        "\n",
        "print('a antes da função: ', a) #chamada da função a=10\n",
        "muda_e_imprime()\n",
        "print('a depois de mudar:', a) # a = 5\n"
      ],
      "metadata": {
        "colab": {
          "base_uri": "https://localhost:8080/"
        },
        "id": "ro-7AmNVntiz",
        "outputId": "c3a9ccb2-14f3-42b6-fa53-99c81469242a"
      },
      "execution_count": 4,
      "outputs": [
        {
          "output_type": "stream",
          "name": "stdout",
          "text": [
            "a antes da função:  5\n",
            "a dentro da função:  10\n",
            "a depois de mudar: 10\n"
          ]
        }
      ]
    }
  ]
}