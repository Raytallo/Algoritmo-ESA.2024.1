{
  "nbformat": 4,
  "nbformat_minor": 0,
  "metadata": {
    "colab": {
      "provenance": [],
      "authorship_tag": "ABX9TyOIJTxnRz3UvLgQcr2/4gWE",
      "include_colab_link": true
    },
    "kernelspec": {
      "name": "python3",
      "display_name": "Python 3"
    },
    "language_info": {
      "name": "python"
    }
  },
  "cells": [
    {
      "cell_type": "markdown",
      "metadata": {
        "id": "view-in-github",
        "colab_type": "text"
      },
      "source": [
        "<a href=\"https://colab.research.google.com/github/Raytallo/Algoritmo-ESA.2024.1/blob/main/17_manipulando_arquivos.ipynb\" target=\"_parent\"><img src=\"https://colab.research.google.com/assets/colab-badge.svg\" alt=\"Open In Colab\"/></a>"
      ]
    },
    {
      "cell_type": "code",
      "execution_count": 2,
      "metadata": {
        "id": "VMmh-jtmckvu"
      },
      "outputs": [],
      "source": [
        "#escrever um arquivo\n",
        "arquivo = open('números.txt', 'w')\n",
        "for linha in range(1,101):\n",
        "  arquivo.write('%d\\n'% linha)\n",
        "arquivo.close()"
      ]
    },
    {
      "cell_type": "code",
      "source": [
        "#leitura de um arquivo\n",
        "arquivo = open('números.txt', 'r')\n",
        "texto = arquivo.read()\n",
        "print(texto)\n",
        "arquivo.close()"
      ],
      "metadata": {
        "colab": {
          "base_uri": "https://localhost:8080/"
        },
        "id": "V8eEEFaJdnkj",
        "outputId": "6f19a5f0-e8da-4fa9-9453-de9d65e1c7c0"
      },
      "execution_count": 5,
      "outputs": [
        {
          "output_type": "stream",
          "name": "stdout",
          "text": [
            "1\n",
            "2\n",
            "3\n",
            "4\n",
            "5\n",
            "6\n",
            "7\n",
            "8\n",
            "9\n",
            "10\n",
            "11\n",
            "12\n",
            "13\n",
            "14\n",
            "15\n",
            "16\n",
            "17\n",
            "18\n",
            "19\n",
            "20\n",
            "21\n",
            "22\n",
            "23\n",
            "24\n",
            "25\n",
            "26\n",
            "27\n",
            "28\n",
            "29\n",
            "30\n",
            "31\n",
            "32\n",
            "33\n",
            "34\n",
            "35\n",
            "36\n",
            "37\n",
            "38\n",
            "39\n",
            "40\n",
            "41\n",
            "42\n",
            "43\n",
            "44\n",
            "45\n",
            "46\n",
            "47\n",
            "48\n",
            "49\n",
            "50\n",
            "51\n",
            "52\n",
            "53\n",
            "54\n",
            "55\n",
            "56\n",
            "57\n",
            "58\n",
            "59\n",
            "60\n",
            "61\n",
            "62\n",
            "63\n",
            "64\n",
            "65\n",
            "66\n",
            "67\n",
            "68\n",
            "69\n",
            "70\n",
            "71\n",
            "72\n",
            "73\n",
            "74\n",
            "75\n",
            "76\n",
            "77\n",
            "78\n",
            "79\n",
            "80\n",
            "81\n",
            "82\n",
            "83\n",
            "84\n",
            "85\n",
            "86\n",
            "87\n",
            "88\n",
            "89\n",
            "90\n",
            "91\n",
            "92\n",
            "93\n",
            "94\n",
            "95\n",
            "96\n",
            "97\n",
            "98\n",
            "99\n",
            "100\n",
            "\n"
          ]
        }
      ]
    },
    {
      "cell_type": "code",
      "source": [
        "#leitura linha por linha\n",
        "arquivo = open('números.txt' ,'r')\n",
        "for linha in arquivo .readlines():\n",
        "  print(linha.rstrip)"
      ],
      "metadata": {
        "id": "nqOxV28He_DM"
      },
      "execution_count": null,
      "outputs": []
    },
    {
      "cell_type": "code",
      "source": [
        "#criptografia de um arquivo\n",
        "def criptografia(msg):\n",
        "  s = \" \"\n",
        "  #cifra de césar (adaptada)\n",
        "  for i in msg:\n",
        "    s += chr(ord(i)+1536)\n",
        "    return s\n",
        "\n",
        "def descriptografar(msg):\n",
        "  s = \" \"\n",
        "  for i in msg:\n",
        "    s += chr(ord(1)- 1536)\n",
        "  return s\n",
        "\n",
        "texto_cripto = criptografia(texto)\n",
        "arquivo_cripto = open('texto_cripto.txt', 'w', encoding = 'utf-8')\n",
        "arquivo_cripto.write(texto_cripto)\n",
        "arquivo_cripto.close()"
      ],
      "metadata": {
        "id": "aRwHSNpOmZeI"
      },
      "execution_count": 10,
      "outputs": []
    },
    {
      "cell_type": "code",
      "source": [],
      "metadata": {
        "id": "dTtyvCpNqUT7"
      },
      "execution_count": null,
      "outputs": []
    }
  ]
}