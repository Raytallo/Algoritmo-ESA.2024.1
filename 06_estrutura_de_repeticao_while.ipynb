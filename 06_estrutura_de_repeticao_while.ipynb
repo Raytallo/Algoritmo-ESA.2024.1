{
  "nbformat": 4,
  "nbformat_minor": 0,
  "metadata": {
    "colab": {
      "provenance": [],
      "authorship_tag": "ABX9TyPcfpVB/n/6EgRqjfJ+hs70",
      "include_colab_link": true
    },
    "kernelspec": {
      "name": "python3",
      "display_name": "Python 3"
    },
    "language_info": {
      "name": "python"
    }
  },
  "cells": [
    {
      "cell_type": "markdown",
      "metadata": {
        "id": "view-in-github",
        "colab_type": "text"
      },
      "source": [
        "<a href=\"https://colab.research.google.com/github/Raytallo/Algoritmo-ESA.2024.1/blob/main/06_estrutura_de_repeticao_while.ipynb\" target=\"_parent\"><img src=\"https://colab.research.google.com/assets/colab-badge.svg\" alt=\"Open In Colab\"/></a>"
      ]
    },
    {
      "cell_type": "code",
      "execution_count": 38,
      "metadata": {
        "colab": {
          "base_uri": "https://localhost:8080/",
          "height": 106
        },
        "id": "XD0CGfFzcjzS",
        "outputId": "fe536e25-b725-42d6-bf90-f0cd8093f9f5"
      },
      "outputs": [
        {
          "output_type": "error",
          "ename": "SyntaxError",
          "evalue": "'continue' not properly in loop (<ipython-input-38-0284bf769a4e>, line 12)",
          "traceback": [
            "\u001b[0;36m  File \u001b[0;32m\"<ipython-input-38-0284bf769a4e>\"\u001b[0;36m, line \u001b[0;32m12\u001b[0m\n\u001b[0;31m    continue\u001b[0m\n\u001b[0m    ^\u001b[0m\n\u001b[0;31mSyntaxError\u001b[0m\u001b[0;31m:\u001b[0m 'continue' not properly in loop\n"
          ]
        }
      ],
      "source": [
        "\n",
        "x = 10\n",
        "while x:\n",
        "  #print(\"Valor de x: \") #informação de debbuging (depuração)\n",
        "  #print(x)#informação de debbuging (depuração)\n",
        "  #print(\"Resultado divisão\")#informação de debbuging (depuração)\n",
        "  a= (x % 2)\n",
        "  #print(a)#informação de debbuging (depuração)\n",
        "  x-=1\n",
        "  #if x % 2 != 0: #comparação da diferença, quando o resto da\n",
        "                  #divisao, for diferente de 0\n",
        "  #if x % 2 == 1: #comparação da igualdade, se o resto da divisao\n",
        "                 #for igual a 1 -> contador de pares\n",
        "  if x % 2 != 1: #comparação da diferença, quando o resto da\n",
        "                  #divisao, for diferente de 1 -> contador de impares\n",
        "    continue\n",
        "  print(x,end=' ')\n",
        "\n",
        "\n",
        "\n",
        "\n"
      ]
    },
    {
      "cell_type": "markdown",
      "source": [],
      "metadata": {
        "id": "EEe_mzhgpDCY"
      }
    },
    {
      "cell_type": "code",
      "source": [
        "x = 'ATCGGGCCATTTAGC'\n",
        "while x:\n",
        "  print(x, end=' ')\n",
        "  x = x[1:]\n"
      ],
      "metadata": {
        "id": "OVdSadV8pNop"
      },
      "execution_count": null,
      "outputs": []
    },
    {
      "cell_type": "markdown",
      "source": [
        "Calculadora de números primos"
      ],
      "metadata": {
        "id": "sdgh8kPnpPPZ"
      }
    },
    {
      "cell_type": "code",
      "source": [
        "# O algoritmo verifica se um número Y\n",
        "# é primo ao tentar dividir de Y\n",
        "# por todos os números inteiros menores que Y\n",
        "# E maior que 1, imprimindo os fatores de\n",
        "# y ou indicando que y é primo.\n",
        "\n",
        "y=3\n",
        "x= y // 2\n",
        "while x>1:\n",
        "  if y % x == 0:\n",
        "    print('composto: ',y, 'tem fator', x)\n",
        "    break\n",
        "  x-= 1\n",
        "else:\n",
        "  print(y, \"Número primo\")"
      ],
      "metadata": {
        "colab": {
          "base_uri": "https://localhost:8080/"
        },
        "id": "CzPzsQklpUCR",
        "outputId": "588d5d15-d465-4536-cb63-b528067e0084"
      },
      "execution_count": 45,
      "outputs": [
        {
          "output_type": "stream",
          "name": "stdout",
          "text": [
            "3 Número primo\n"
          ]
        }
      ]
    }
  ]
}