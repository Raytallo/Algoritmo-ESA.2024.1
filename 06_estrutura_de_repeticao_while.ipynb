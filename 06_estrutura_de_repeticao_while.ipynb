{
  "nbformat": 4,
  "nbformat_minor": 0,
  "metadata": {
    "colab": {
      "provenance": [],
      "authorship_tag": "ABX9TyPaMRRIRMk007pnlMJBE0Ch",
      "include_colab_link": true
    },
    "kernelspec": {
      "name": "python3",
      "display_name": "Python 3"
    },
    "language_info": {
      "name": "python"
    }
  },
  "cells": [
    {
      "cell_type": "markdown",
      "metadata": {
        "id": "view-in-github",
        "colab_type": "text"
      },
      "source": [
        "<a href=\"https://colab.research.google.com/github/Raytallo/Algoritmo-ESA.2024.1/blob/main/06_estrutura_de_repeticao_while.ipynb\" target=\"_parent\"><img src=\"https://colab.research.google.com/assets/colab-badge.svg\" alt=\"Open In Colab\"/></a>"
      ]
    },
    {
      "cell_type": "code",
      "execution_count": 16,
      "metadata": {
        "colab": {
          "base_uri": "https://localhost:8080/"
        },
        "id": "XD0CGfFzcjzS",
        "outputId": "edcf43f4-60a9-421c-8054-50cacf0a89a4"
      },
      "outputs": [
        {
          "output_type": "stream",
          "name": "stdout",
          "text": [
            "raytallo aytallo ytallo tallo allo llo lo o "
          ]
        }
      ],
      "source": [
        "\n",
        "x = \"raytallo\"\n",
        "while x:\n",
        "  print(x, end= \" \")\n",
        "  x = x[1:]\n",
        "\n",
        "\n",
        "\n"
      ]
    }
  ]
}