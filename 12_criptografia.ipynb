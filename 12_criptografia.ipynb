{
  "nbformat": 4,
  "nbformat_minor": 0,
  "metadata": {
    "colab": {
      "provenance": [],
      "authorship_tag": "ABX9TyNDNuNyXlQjvAhwAPDvuvj0",
      "include_colab_link": true
    },
    "kernelspec": {
      "name": "python3",
      "display_name": "Python 3"
    },
    "language_info": {
      "name": "python"
    }
  },
  "cells": [
    {
      "cell_type": "markdown",
      "metadata": {
        "id": "view-in-github",
        "colab_type": "text"
      },
      "source": [
        "<a href=\"https://colab.research.google.com/github/Raytallo/Algoritmo-ESA.2024.1/blob/main/12_criptografia.ipynb\" target=\"_parent\"><img src=\"https://colab.research.google.com/assets/colab-badge.svg\" alt=\"Open In Colab\"/></a>"
      ]
    },
    {
      "cell_type": "code",
      "execution_count": 5,
      "metadata": {
        "colab": {
          "base_uri": "https://localhost:8080/",
          "height": 228
        },
        "id": "8ibMsQ0AX_GX",
        "outputId": "0f2f3a21-8fba-47c5-9b70-907c03e56451"
      },
      "outputs": [
        {
          "output_type": "stream",
          "name": "stdout",
          "text": [
            "Digite a mensagem para criptografar:Ronaldo\n",
            "Mensagem criptografada: a~}p{s~\n"
          ]
        },
        {
          "output_type": "error",
          "ename": "NameError",
          "evalue": "name 'descriptografar' is not defined",
          "traceback": [
            "\u001b[0;31m---------------------------------------------------------------------------\u001b[0m",
            "\u001b[0;31mNameError\u001b[0m                                 Traceback (most recent call last)",
            "\u001b[0;32m<ipython-input-5-3464b316239c>\u001b[0m in \u001b[0;36m<cell line: 19>\u001b[0;34m()\u001b[0m\n\u001b[1;32m     17\u001b[0m \u001b[0mprint\u001b[0m\u001b[0;34m(\u001b[0m\u001b[0;34m'Mensagem criptografada:'\u001b[0m\u001b[0;34m,\u001b[0m \u001b[0mmensagem_criptografada\u001b[0m\u001b[0;34m)\u001b[0m\u001b[0;34m\u001b[0m\u001b[0;34m\u001b[0m\u001b[0m\n\u001b[1;32m     18\u001b[0m \u001b[0;34m\u001b[0m\u001b[0m\n\u001b[0;32m---> 19\u001b[0;31m \u001b[0mmensagem_descriptografada\u001b[0m \u001b[0;34m=\u001b[0m \u001b[0mdescriptografar\u001b[0m\u001b[0;34m(\u001b[0m\u001b[0mmensagem_criptografada\u001b[0m\u001b[0;34m)\u001b[0m\u001b[0;34m\u001b[0m\u001b[0;34m\u001b[0m\u001b[0m\n\u001b[0m\u001b[1;32m     20\u001b[0m \u001b[0mprint\u001b[0m\u001b[0;34m(\u001b[0m\u001b[0;34m\"mensagem criptografada:\"\u001b[0m\u001b[0;34m,\u001b[0m \u001b[0mmensagem_descriptografada\u001b[0m\u001b[0;34m)\u001b[0m\u001b[0;34m\u001b[0m\u001b[0;34m\u001b[0m\u001b[0m\n",
            "\u001b[0;31mNameError\u001b[0m: name 'descriptografar' is not defined"
          ]
        }
      ],
      "source": [
        "#criptografia\n",
        "def criptografa(msg):\n",
        "  s = ''\n",
        "  #Cifra de césar (adaptada)\n",
        "  for i in msg:\n",
        "    s += chr(ord(i) + 15)\n",
        "  return s\n",
        "\n",
        "def descriptografa(msg):\n",
        "  s = ''\n",
        "  for i in msg:\n",
        "    s += chr(ord(i)- 15)\n",
        "  return s\n",
        "\n",
        "mensagem = input('Digite a mensagem para criptografar:')\n",
        "mensagem_criptografada = criptografa(mensagem)\n",
        "print('Mensagem criptografada:', mensagem_criptografada)\n",
        "\n",
        "mensagem_descriptografada = descriptografar(mensagem_criptografada)\n",
        "print(\"mensagem criptografada:\", mensagem_descriptografada)"
      ]
    },
    {
      "cell_type": "markdown",
      "source": [
        "Do professor"
      ],
      "metadata": {
        "id": "QG8Vcyyefz7g"
      }
    },
    {
      "cell_type": "code",
      "source": [
        "#Criptografia\n",
        "def criptografa(msg):\n",
        "  s = \"\"\n",
        "  #Cifra de césar (adaptada)\n",
        "  for i in msg:\n",
        "    s += chr(ord(i)+1536)\n",
        "  return s\n",
        "\n",
        "\n",
        "def descriptografar(msg):\n",
        "  s = \"\"\n",
        "  for i in msg:\n",
        "    s += chr(ord(i)-1536)\n",
        "  return s\n",
        "\n",
        "mensagem = input(\"Digite a mensagem para criptografar:\")\n",
        "mensagem_criptografada = criptografa(mensagem)\n",
        "print(\"Mensagem criptografada:\", mensagem_criptografada)\n",
        "\n",
        "mensagem_descriptografada = descriptografar(mensagem_criptografada)\n",
        "print(\"Mensagem descriptografada:\", mensagem_descriptografada)"
      ],
      "metadata": {
        "colab": {
          "base_uri": "https://localhost:8080/"
        },
        "id": "dzrLxPcJf18C",
        "outputId": "2f177c53-b7d4-450a-f650-2a041a7690d4"
      },
      "execution_count": 6,
      "outputs": [
        {
          "output_type": "stream",
          "name": "stdout",
          "text": [
            "Digite a mensagem para criptografar:Ronaldo\n",
            "Mensagem criptografada: ْٯٮ١٬٤ٯ\n",
            "Mensagem descriptografada: Ronaldo\n"
          ]
        }
      ]
    }
  ]
}