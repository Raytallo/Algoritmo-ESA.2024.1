{
  "nbformat": 4,
  "nbformat_minor": 0,
  "metadata": {
    "colab": {
      "provenance": [],
      "authorship_tag": "ABX9TyNKO7FXRa9oFDt3ty9vLsi3",
      "include_colab_link": true
    },
    "kernelspec": {
      "name": "python3",
      "display_name": "Python 3"
    },
    "language_info": {
      "name": "python"
    }
  },
  "cells": [
    {
      "cell_type": "markdown",
      "metadata": {
        "id": "view-in-github",
        "colab_type": "text"
      },
      "source": [
        "<a href=\"https://colab.research.google.com/github/Raytallo/Algoritmo-ESA.2024.1/blob/main/fun%C3%A7oes_esta%C3%A7%C3%A3o.ipynb\" target=\"_parent\"><img src=\"https://colab.research.google.com/assets/colab-badge.svg\" alt=\"Open In Colab\"/></a>"
      ]
    },
    {
      "cell_type": "markdown",
      "source": [
        "Exemplo de função com soma"
      ],
      "metadata": {
        "id": "fLLRDzcJDkXt"
      }
    },
    {
      "cell_type": "code",
      "execution_count": null,
      "metadata": {
        "id": "CGOLcBjfDf-8"
      },
      "outputs": [],
      "source": [
        "# Definição da função soma\n",
        "def soma(a, b):\n",
        "    \"\"\"Esta função retorna a soma de dois números.\"\"\"\n",
        "    return a + b\n",
        "\n",
        "# Chamada da função e impressão do resultado\n",
        "resultado = soma(5, 3)\n",
        "print(\"A soma é:\", resultado)\n"
      ]
    },
    {
      "cell_type": "markdown",
      "source": [
        "Exemplo de funçao par ou ipa"
      ],
      "metadata": {
        "id": "UJePXsUVJt_B"
      }
    },
    {
      "cell_type": "code",
      "source": [
        "# Definição da função par_ou_impar\n",
        "def par_ou_impar(numero):\n",
        "    \"\"\"Esta função verifica se um número é par ou ímpar.\"\"\"\n",
        "    if numero % 2 == 0:\n",
        "        return \"Par\"\n",
        "    else:\n",
        "        return \"Ímpar\"\n",
        "\n",
        "# Chamada da função e impressão do resultado\n",
        "numero = 7\n",
        "print(numero, \"é\", par_ou_impar(numero))\n"
      ],
      "metadata": {
        "id": "x1GbvBkeJyGm"
      },
      "execution_count": null,
      "outputs": []
    },
    {
      "cell_type": "markdown",
      "source": [
        "Exemplo de função fatorial"
      ],
      "metadata": {
        "id": "3IHwXJ8_J2LY"
      }
    },
    {
      "cell_type": "code",
      "source": [
        "# Definição da função fatorial\n",
        "def fatorial(n):\n",
        "    \"\"\"Esta função calcula o fatorial de um número.\"\"\"\n",
        "    if n == 0:\n",
        "        return 1\n",
        "    else:\n",
        "        return n * fatorial(n-1)\n",
        "\n",
        "# Chamada da função e impressão do resultado\n",
        "numero = 5\n",
        "print(\"O fatorial de\", numero, \"é\", fatorial(numero))\n"
      ],
      "metadata": {
        "id": "MGCDGdcoJ4St"
      },
      "execution_count": null,
      "outputs": []
    },
    {
      "cell_type": "markdown",
      "source": [
        "Exemplo de função para circulo"
      ],
      "metadata": {
        "id": "8jhaTetoJ59Z"
      }
    },
    {
      "cell_type": "code",
      "source": [
        "import math\n",
        "\n",
        "def calcular_area_circulo(raio):\n",
        "    \"\"\"Calcula a área de um círculo dado o raio.\"\"\"\n",
        "    return math.pi * raio**2\n",
        "\n",
        "# Raio do círculo\n",
        "raio = 3\n",
        "\n",
        "# Chamada da função e impressão do resultado\n",
        "area = calcular_area_circulo(raio)\n",
        "print(\"A área do círculo com raio\", raio, \"é\", area)\n"
      ],
      "metadata": {
        "id": "KcBMDhZkJ9-D"
      },
      "execution_count": null,
      "outputs": []
    },
    {
      "cell_type": "markdown",
      "source": [
        "Exemplo de como ciaria a estação de tratamento com funções (falta os caluclos)"
      ],
      "metadata": {
        "id": "QBNw8nA8KA0o"
      }
    },
    {
      "cell_type": "markdown",
      "source": [],
      "metadata": {
        "id": "f2Wlgr-jDjjM"
      }
    },
    {
      "cell_type": "code",
      "source": [
        "\n",
        "def calcular_dimensionamento(vazao_entrada, composicao_efluentes):\n",
        "    # Implemente aqui as funções para calcular o dimensionamento dos componentes da estação de tratamento\n",
        "    # Exemplo:\n",
        "    tanque_sedimentacao = calcular_dimensionamento_tanque_sedimentacao(vazao_entrada)\n",
        "    filtro = calcular_dimensionamento_filtro(vazao_entrada, composicao_efluentes)\n",
        "    reator_biologico = calcular_dimensionamento_reator_biologico(vazao_entrada, composicao_efluentes)\n",
        "\n",
        "    # Retorne os resultados do dimensionamento\n",
        "    return {\n",
        "        \"Tanque de Sedimentação\": tanque_sedimentacao,\n",
        "        \"Filtro\": filtro,\n",
        "        \"Reator Biológico\": reator_biologico\n",
        "    }\n",
        "\n",
        "def calcular_dimensionamento_tanque_sedimentacao(vazao_entrada):\n",
        "    # Implemente o cálculo do dimensionamento do tanque de sedimentação\n",
        "    # Retorne o dimensionamento calculado\n",
        "    pass\n",
        "\n",
        "def calcular_dimensionamento_filtro(vazao_entrada, composicao_efluentes):\n",
        "    # Implemente o cálculo do dimensionamento do filtro\n",
        "    # Retorne o dimensionamento calculado\n",
        "    pass\n",
        "\n",
        "def calcular_dimensionamento_reator_biologico(vazao_entrada, composicao_efluentes):\n",
        "    # Implemente o cálculo do dimensionamento do reator biológico\n",
        "    # Retorne o dimensionamento calculado\n",
        "    pass\n",
        "\n",
        "# Exemplo de uso:\n",
        "vazao_entrada = 100  # m3/h\n",
        "composicao_efluentes = {\"COD\": 50, \"DBO\": 30}  # Exemplo de composição de efluentes\n",
        "dimensionamento = calcular_dimensionamento(vazao_entrada, composicao_efluentes)\n",
        "print(\"Dimensionamento da estação de tratamento:\")\n",
        "for componente, dimensao in dimensionamento.items():\n",
        "    print(f\"{componente}: {dimensao}\")\n"
      ],
      "metadata": {
        "id": "JLzhae6eKGM3"
      },
      "execution_count": null,
      "outputs": []
    }
  ]
}