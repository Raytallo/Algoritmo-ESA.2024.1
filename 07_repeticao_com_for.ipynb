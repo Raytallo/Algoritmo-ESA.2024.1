{
  "nbformat": 4,
  "nbformat_minor": 0,
  "metadata": {
    "colab": {
      "provenance": [],
      "authorship_tag": "ABX9TyPanK2TG2/Qz55dt+tU1vb+",
      "include_colab_link": true
    },
    "kernelspec": {
      "name": "python3",
      "display_name": "Python 3"
    },
    "language_info": {
      "name": "python"
    }
  },
  "cells": [
    {
      "cell_type": "markdown",
      "metadata": {
        "id": "view-in-github",
        "colab_type": "text"
      },
      "source": [
        "<a href=\"https://colab.research.google.com/github/Raytallo/Algoritmo-ESA.2024.1/blob/main/07_repeticao_com_for.ipynb\" target=\"_parent\"><img src=\"https://colab.research.google.com/assets/colab-badge.svg\" alt=\"Open In Colab\"/></a>"
      ]
    },
    {
      "cell_type": "code",
      "execution_count": 2,
      "metadata": {
        "colab": {
          "base_uri": "https://localhost:8080/"
        },
        "id": "-7brLJkcgs_i",
        "outputId": "a5c25044-8ada-410e-bf18-92b6d53724df"
      },
      "outputs": [
        {
          "output_type": "stream",
          "name": "stdout",
          "text": [
            " 1: spam\n",
            " 2: eggs\n",
            " 3: bacon\n"
          ]
        }
      ],
      "source": [
        "contador = 0\n",
        "for x in [\"spam\", \"eggs\", \"bacon\"]:\n",
        "  contador += 1\n",
        "  print(f\" {contador}: {x}\")"
      ]
    },
    {
      "cell_type": "code",
      "source": [
        "contador = 0\n",
        "for x in [\"spam\", \"eggs\", \"bacon\"]:\n",
        "  print(f\" {contador}: {x}\")\n",
        "  contador += 1"
      ],
      "metadata": {
        "colab": {
          "base_uri": "https://localhost:8080/"
        },
        "id": "p6Wudj22itHu",
        "outputId": "27866fd1-3e9c-4fe1-8b17-c41c1bfec7f3"
      },
      "execution_count": 3,
      "outputs": [
        {
          "output_type": "stream",
          "name": "stdout",
          "text": [
            " 0: spam\n",
            " 1: eggs\n",
            " 2: bacon\n"
          ]
        }
      ]
    },
    {
      "cell_type": "code",
      "source": [
        "T = [(1,2), (3,4), (5,6)]\n",
        "for (a,b) in T:\n",
        "  print(a, \"e\", b)"
      ],
      "metadata": {
        "colab": {
          "base_uri": "https://localhost:8080/"
        },
        "id": "s4r-iIJ1j2sq",
        "outputId": "a4297f87-25cc-43e5-ad07-716516c6dcfd"
      },
      "execution_count": 4,
      "outputs": [
        {
          "output_type": "stream",
          "name": "stdout",
          "text": [
            "1 e 2\n",
            "3 e 4\n",
            "5 e 6\n"
          ]
        }
      ]
    },
    {
      "cell_type": "code",
      "source": [
        "#Dicionário em python\n",
        "D = {\"a\": 1, \"b\": 2, \"c\": 3}\n",
        "for chave in D:\n",
        "  print(chave, \"=>\", D[chave])\n"
      ],
      "metadata": {
        "colab": {
          "base_uri": "https://localhost:8080/"
        },
        "id": "gRNQf6mXknhV",
        "outputId": "c440caf7-8d20-4c5b-e8a6-6e67326129b0"
      },
      "execution_count": 6,
      "outputs": [
        {
          "output_type": "stream",
          "name": "stdout",
          "text": [
            "a => 1\n",
            "b => 2\n",
            "c => 3\n"
          ]
        }
      ]
    },
    {
      "cell_type": "code",
      "source": [
        "list(range(10))"
      ],
      "metadata": {
        "colab": {
          "base_uri": "https://localhost:8080/"
        },
        "id": "vvinNzLpmLRc",
        "outputId": "1ca2416b-f998-45e7-ce80-917224b47a0c"
      },
      "execution_count": 7,
      "outputs": [
        {
          "output_type": "execute_result",
          "data": {
            "text/plain": [
              "[0, 1, 2, 3, 4, 5, 6, 7, 8, 9]"
            ]
          },
          "metadata": {},
          "execution_count": 7
        }
      ]
    },
    {
      "cell_type": "markdown",
      "source": [
        "# Uso do Range"
      ],
      "metadata": {
        "id": "5d8GxZgJqou5"
      }
    },
    {
      "cell_type": "code",
      "source": [
        "for i in range(5):\n",
        "  print(i, \"Pythons\")"
      ],
      "metadata": {
        "colab": {
          "base_uri": "https://localhost:8080/"
        },
        "id": "G6zONfIZnBmD",
        "outputId": "adc73387-e9bc-4020-b01c-e57748b23745"
      },
      "execution_count": 8,
      "outputs": [
        {
          "output_type": "stream",
          "name": "stdout",
          "text": [
            "0 Pythons\n",
            "1 Pythons\n",
            "2 Pythons\n",
            "3 Pythons\n",
            "4 Pythons\n"
          ]
        }
      ]
    },
    {
      "cell_type": "code",
      "source": [
        "s = \"Raytallo\"\n",
        "print(\"Tamanho da palavra:\", len(s))\n",
        "for i in range(len(s)):\n",
        "  print(i, s [i], sep = \"-\", end= ' ')"
      ],
      "metadata": {
        "colab": {
          "base_uri": "https://localhost:8080/"
        },
        "id": "L7nFIvUWnoNa",
        "outputId": "46b7dc2b-4e78-46ba-8628-921fc6d4e927"
      },
      "execution_count": 19,
      "outputs": [
        {
          "output_type": "stream",
          "name": "stdout",
          "text": [
            "Tamanho da palavra: 8\n",
            "0-R 1-a 2-y 3-t 4-a 5-l 6-l 7-o "
          ]
        }
      ]
    },
    {
      "cell_type": "markdown",
      "source": [
        "Usos do Zip"
      ],
      "metadata": {
        "id": "ZukGA6xBrAEa"
      }
    },
    {
      "cell_type": "code",
      "source": [
        "L1 = [\"a\", \"b\", \"c\", \"d\"]\n",
        "L2 = [1, 2, 3, 4]\n",
        "print(list(L1))\n",
        "print(list(L2))\n",
        "compactado = zip (L1, L2)\n",
        "print(list(compactado))\n",
        "print(type(compactado)) #qual o tipo de classe? R= Utilizar type\n",
        "print(type(list(zip(L1, L2))))\n",
        "for (x,y) in list(zip(L1,L2)):\n",
        "  print(x, \"-\", y)"
      ],
      "metadata": {
        "colab": {
          "base_uri": "https://localhost:8080/"
        },
        "id": "xYw6C-R0rB56",
        "outputId": "3f3612af-17ef-4897-afc7-d200eef7ea71"
      },
      "execution_count": 26,
      "outputs": [
        {
          "output_type": "stream",
          "name": "stdout",
          "text": [
            "['a', 'b', 'c', 'd']\n",
            "[1, 2, 3, 4]\n",
            "[('a', 1), ('b', 2), ('c', 3), ('d', 4)]\n",
            "<class 'zip'>\n",
            "<class 'list'>\n",
            "a - 1\n",
            "b - 2\n",
            "c - 3\n",
            "d - 4\n"
          ]
        }
      ]
    },
    {
      "cell_type": "code",
      "source": [
        "# zip crie um dicionário a partir de listas\n",
        "chaves = [\"a\", \"b\", \"c\", \"d\"]\n",
        "valores = [1,2,3,4]\n",
        "D1 = dict(zip(chaves,valores))\n",
        "print(D1)"
      ],
      "metadata": {
        "colab": {
          "base_uri": "https://localhost:8080/"
        },
        "id": "NWmK9BBbt4Dl",
        "outputId": "ec595079-8edc-47e5-ff73-607c718bf7bd"
      },
      "execution_count": 27,
      "outputs": [
        {
          "output_type": "stream",
          "name": "stdout",
          "text": [
            "{'a': 1, 'b': 2, 'c': 3, 'd': 4}\n"
          ]
        }
      ]
    },
    {
      "cell_type": "markdown",
      "source": [
        "Enumerate"
      ],
      "metadata": {
        "id": "gzh-UdQHuh9n"
      }
    },
    {
      "cell_type": "code",
      "source": [
        "s = \"raytallo\"\n",
        "print(enumerate(s))\n",
        "print(list(enumerate(s)))\n",
        "for (offset, valor) in enumerate(s):\n",
        "  print(offset,valor)"
      ],
      "metadata": {
        "colab": {
          "base_uri": "https://localhost:8080/"
        },
        "id": "EnPrtNkKujxe",
        "outputId": "6213cb75-4c47-4037-ab37-75e4b19665dd"
      },
      "execution_count": 31,
      "outputs": [
        {
          "output_type": "stream",
          "name": "stdout",
          "text": [
            "<enumerate object at 0x783465db0d00>\n",
            "[(0, 'r'), (1, 'a'), (2, 'y'), (3, 't'), (4, 'a'), (5, 'l'), (6, 'l'), (7, 'o')]\n",
            "0 r\n",
            "1 a\n",
            "2 y\n",
            "3 t\n",
            "4 a\n",
            "5 l\n",
            "6 l\n",
            "7 o\n"
          ]
        }
      ]
    }
  ]
}