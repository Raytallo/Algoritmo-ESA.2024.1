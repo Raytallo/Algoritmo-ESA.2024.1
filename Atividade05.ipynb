{
  "nbformat": 4,
  "nbformat_minor": 0,
  "metadata": {
    "colab": {
      "provenance": [],
      "authorship_tag": "ABX9TyN11YGqfK5mUHRAJBKOPGfm",
      "include_colab_link": true
    },
    "kernelspec": {
      "name": "python3",
      "display_name": "Python 3"
    },
    "language_info": {
      "name": "python"
    }
  },
  "cells": [
    {
      "cell_type": "markdown",
      "metadata": {
        "id": "view-in-github",
        "colab_type": "text"
      },
      "source": [
        "<a href=\"https://colab.research.google.com/github/Raytallo/Algoritmo-ESA.2024.1/blob/main/Atividade05.ipynb\" target=\"_parent\"><img src=\"https://colab.research.google.com/assets/colab-badge.svg\" alt=\"Open In Colab\"/></a>"
      ]
    },
    {
      "cell_type": "markdown",
      "source": [
        "1. Crie um programa que leia um número inteiro. Quando este for negativo,\n",
        "some-o com 100; quando positivo, apenas faça sua impressão."
      ],
      "metadata": {
        "id": "KzrXfIgvIhhh"
      }
    },
    {
      "cell_type": "code",
      "source": [
        "num = int(input(\"Digite um número inteiro:\"))\n",
        "\n",
        "if num >= 0:\n",
        "  print(\"O número digitado é:\", num)\n",
        "else:\n",
        "  print(\"A soma do número {} com 100 dá:{}\".format(num, (num + 100)))"
      ],
      "metadata": {
        "colab": {
          "base_uri": "https://localhost:8080/"
        },
        "id": "ayw41P6qIqjB",
        "outputId": "915ed4ee-694c-4ba6-9f8d-710b054e1813"
      },
      "execution_count": 12,
      "outputs": [
        {
          "output_type": "stream",
          "name": "stdout",
          "text": [
            "Digite um número inteiro:-50\n",
            "A soma do número -50 com 100 dá:50\n"
          ]
        }
      ]
    },
    {
      "cell_type": "markdown",
      "source": [
        "2. Crie um programa que leia o código de um curso do IFRN, Campus\n",
        "Natal Central, e indique o nome do curso de acordo com a tabela abaixo. Se o\n",
        "programa ler um código inexistente no Instituto, uma mensagem de alerta deve\n",
        "ser informada ao usuário."
      ],
      "metadata": {
        "id": "qrcTVFjHMM4H"
      }
    },
    {
      "cell_type": "code",
      "source": [
        "cod_cur = {\"1\": \"Técnico em Informática Subseqüente\", \"2\": \"Técnico em Informática EJA\", \"3\": \"Técnico em Cooperativismo\", \"4\": \"Técnico em Cooperativismo EJA\",\n",
        "\"5\": \"Licenciatura em Física\"}\n",
        "\n",
        "cod = input(\"Digite o código do curso:\")\n",
        "\n",
        "if cod in cod_cur:\n",
        "  print(\"O curso do  IFRN (Campus Natal Central) com código {} é {}.\".format(cod, cod_cur[cod]))\n",
        "else:\n",
        "  print(\"Aviso: código inexistente, tente novamente!\")"
      ],
      "metadata": {
        "colab": {
          "base_uri": "https://localhost:8080/"
        },
        "id": "4gOvNhfaMp55",
        "outputId": "ac933256-779e-4475-ea33-dfae6c2626c0"
      },
      "execution_count": 70,
      "outputs": [
        {
          "output_type": "stream",
          "name": "stdout",
          "text": [
            "Digite o código do curso:5\n",
            "O curso do  IFRN (Campus Natal Central) com código 5 é Licenciatura em Física\n"
          ]
        }
      ]
    },
    {
      "cell_type": "markdown",
      "source": [
        "**3** Leia duas strings e informe o conteúdo delas\n",
        "seguido do seu comprimento.\n",
        "**3a**. Crie uma variável res1 que informa se as duas\n",
        "strings possuem o mesmo comprimento.\n",
        "**3b**. Crie uma variável res2 que informa se as duasstrings são iguais ou diferentes no conteúdo."
      ],
      "metadata": {
        "id": "b8e-x9tfPHSG"
      }
    },
    {
      "cell_type": "code",
      "source": [
        "#3\n",
        "\n",
        "str1 = str(input(\"Digite uma frase:\"))\n",
        "print(\"o tamanho da primeira string: '{}' é {}\".format(str1, len(str1)))\n",
        "str2 = str(input(\"Digite uma segunda frase:\"))\n",
        "print(\"O tamanho da segunda string: '{}' é: {}\".format(str2, len(str2)))\n",
        "\n",
        "#3a\n",
        "\n",
        "if len(str1) == len(str2):\n",
        "  print(\"As duas strings tem o mesmo tamanho\")\n",
        "else:\n",
        "  print(\"As duas strings {} e {} tem tamanhos diferentes\".format(str1, str2))\n",
        "\n",
        "#3b\n",
        "\n",
        "res1 = str1 == str2\n",
        "\n",
        "if res1:\n",
        "  print(\"As duas strings '{}' e '{}', são iguais\".format(str1, str2))\n",
        "else:\n",
        "  print(\"As duas strings '{}' e '{}' são diferentes\".format(str1, str2))\n",
        "\n",
        "\n",
        "\n"
      ],
      "metadata": {
        "colab": {
          "base_uri": "https://localhost:8080/"
        },
        "id": "hNXDvQrvPIcb",
        "outputId": "b9ccbf9d-4366-4766-89de-571d528ff7a5"
      },
      "execution_count": 58,
      "outputs": [
        {
          "output_type": "stream",
          "name": "stdout",
          "text": [
            "Digite uma frase:cr7\n",
            "o tamanho da primeira string: 'cr7' é 3\n",
            "Digite uma segunda frase:cr7\n",
            "O tamanho da segunda string: 'cr7' é: 3\n",
            "As duas strings tem o mesmo tamanho\n",
            "As duas strings 'cr7' e 'cr7', são iguais\n"
          ]
        }
      ]
    },
    {
      "cell_type": "markdown",
      "source": [
        "4. Faça um programa que ler uma string e corta os dois primeiros caracteres e os dois últimos\n",
        "\n",
        "---\n",
        "\n"
      ],
      "metadata": {
        "id": "EImKjvRTV66p"
      }
    },
    {
      "cell_type": "code",
      "source": [
        "str1 = input(\"Digite uma frase:\")\n",
        "cont = len(str1)\n",
        "print(\"Subtraindo as duas primeiras e as duas últimas letras a string '{}'({}), fica '{}'\".format(str1 ,cont, str1 [2 : -2]))"
      ],
      "metadata": {
        "colab": {
          "base_uri": "https://localhost:8080/"
        },
        "id": "MFPdB5x4eZlg",
        "outputId": "00e5c9eb-32b6-48e5-c531-a2072f1d7464"
      },
      "execution_count": 72,
      "outputs": [
        {
          "output_type": "stream",
          "name": "stdout",
          "text": [
            "Digite uma frase:Ronaldo\n",
            "Subtraindo as duas primeiras e as duas últimas letras a string 'Ronaldo'(7), fica 'nal'\n"
          ]
        }
      ]
    }
  ]
}