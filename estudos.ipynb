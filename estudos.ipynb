{
  "cells": [
    {
      "cell_type": "markdown",
      "metadata": {
        "id": "view-in-github",
        "colab_type": "text"
      },
      "source": [
        "<a href=\"https://colab.research.google.com/github/Raytallo/Algoritmo-ESA.2024.1/blob/main/estudos.ipynb\" target=\"_parent\"><img src=\"https://colab.research.google.com/assets/colab-badge.svg\" alt=\"Open In Colab\"/></a>"
      ]
    },
    {
      "cell_type": "markdown",
      "metadata": {
        "id": "uC-gIS9b3XLI"
      },
      "source": [
        "APRENDENDO FUNÇÕES\n"
      ]
    },
    {
      "cell_type": "code",
      "execution_count": null,
      "metadata": {
        "colab": {
          "base_uri": "https://localhost:8080/"
        },
        "id": "34M35VCx33eD",
        "outputId": "25bd07f4-f3bf-477c-8ebd-28547ebff35c"
      },
      "outputs": [
        {
          "name": "stdout",
          "output_type": "stream",
          "text": [
            "30\n"
          ]
        }
      ],
      "source": [
        "#Funções\n",
        "\n",
        "a = 10\n",
        "b = 20\n",
        "c = 30\n",
        "print(max(a,b,c))"
      ]
    },
    {
      "cell_type": "code",
      "execution_count": null,
      "metadata": {
        "colab": {
          "base_uri": "https://localhost:8080/"
        },
        "id": "kZqAM_nn46II",
        "outputId": "54b3dedc-72d7-4d07-8e5e-3cae9f7d28ee"
      },
      "outputs": [
        {
          "name": "stdout",
          "output_type": "stream",
          "text": [
            "10\n"
          ]
        }
      ],
      "source": [
        "a = 10\n",
        "b = 20\n",
        "c= 30\n",
        "print(min(a,b,c))"
      ]
    },
    {
      "cell_type": "code",
      "execution_count": null,
      "metadata": {
        "colab": {
          "base_uri": "https://localhost:8080/"
        },
        "id": "WHyI54QO5ESi",
        "outputId": "ab99544d-0b21-476d-ed21-435d07a2fa4a"
      },
      "outputs": [
        {
          "name": "stdout",
          "output_type": "stream",
          "text": [
            "o resultado é: 60\n"
          ]
        }
      ],
      "source": [
        "a = 10\n",
        "b = 20\n",
        "c = 30\n",
        "soma = a + b + c\n",
        "print(\"o resultado é:\", soma)"
      ]
    },
    {
      "cell_type": "code",
      "execution_count": null,
      "metadata": {
        "colab": {
          "base_uri": "https://localhost:8080/"
        },
        "id": "Pxmmk5Vh5tns",
        "outputId": "a0d502de-a4f3-46ab-e1c7-1ed28844eff0"
      },
      "outputs": [
        {
          "name": "stdout",
          "output_type": "stream",
          "text": [
            "Média padrão\n"
          ]
        }
      ],
      "source": [
        "#calcular a média\n",
        "a = 10\n",
        "b = 20\n",
        "c = 30\n",
        "media = a + b + c / 3\n",
        "if media < 20:\n",
        "  print(\"Média abaixo do esperado\")\n",
        "else:\n",
        "  media >= 20\n",
        "  print(\"Média padrão\")"
      ]
    },
    {
      "cell_type": "markdown",
      "metadata": {
        "id": "aKH7u9uV7fne"
      },
      "source": [
        "Questão 01:\n",
        "Como você faria para garantir que as notas inseridas pelo usuário estejam dentro de um intervalo válido (por exemplo, entre 0 e 10)?"
      ]
    },
    {
      "cell_type": "code",
      "execution_count": null,
      "metadata": {
        "colab": {
          "base_uri": "https://localhost:8080/"
        },
        "id": "RjGduWSB7hPs",
        "outputId": "1841de27-41c6-455d-ecab-49347626b7dd"
      },
      "outputs": [
        {
          "output_type": "stream",
          "name": "stdout",
          "text": [
            "Digite nota 1:100\n",
            "Digite peso da nota 1:2\n",
            "Digite nota 2:90\n",
            "Digite o peso da nota 2:3\n",
            "APROVADO Nota = 94.0\n"
          ]
        }
      ],
      "source": [
        "#Cálculo das notas\n",
        "nota1 = float (input(\"Digite nota 1:\"))\n",
        "\n",
        "peso1 = float (input(\"Digite peso da nota 1:\"))\n",
        "\n",
        "nota2 = float (input(\"Digite nota 2:\"))\n",
        "\n",
        "peso2 = float (input(\"Digite o peso da nota 2:\"))\n",
        "\n",
        "\n",
        "media = float((nota1 * peso1 + nota2 * peso2) / (peso1 + peso2))\n",
        "\n",
        "\n",
        "if media >= 60:\n",
        "  print(\"APROVADO\" + (\" \") + \"Nota = \" + str(media))\n",
        "else:\n",
        "    print(\"REPROVADO\" + ( \" \" ) + \"Nota =\" + str(media))\n",
        "\n",
        "\n"
      ]
    },
    {
      "cell_type": "markdown",
      "source": [
        "Escreva um algoritmo para calcular a área de um círculo."
      ],
      "metadata": {
        "id": "dTDnRmldrnce"
      }
    },
    {
      "cell_type": "code",
      "source": [
        "raio = int(input())\n",
        "#calcular a área do circulo\n",
        "str(area) == 3.1416 * raio**:\n",
        "print(\"A área do círculo é igual a\" area)"
      ],
      "metadata": {
        "colab": {
          "base_uri": "https://localhost:8080/",
          "height": 106
        },
        "id": "3Lgw1nF9rwGY",
        "outputId": "854227c3-43bb-4597-843f-9d7dc08f67a1"
      },
      "execution_count": null,
      "outputs": [
        {
          "output_type": "error",
          "ename": "SyntaxError",
          "evalue": "invalid syntax (<ipython-input-5-280923627092>, line 3)",
          "traceback": [
            "\u001b[0;36m  File \u001b[0;32m\"<ipython-input-5-280923627092>\"\u001b[0;36m, line \u001b[0;32m3\u001b[0m\n\u001b[0;31m    str(area) == 3,1416 * raio^2:\u001b[0m\n\u001b[0m                                ^\u001b[0m\n\u001b[0;31mSyntaxError\u001b[0m\u001b[0;31m:\u001b[0m invalid syntax\n"
          ]
        }
      ]
    },
    {
      "cell_type": "markdown",
      "source": [
        "Variáveis em Python"
      ],
      "metadata": {
        "id": "aCj332npUn9_"
      }
    },
    {
      "cell_type": "code",
      "source": [
        "#Pq usar variávis em python\n",
        "#velocidade maxima = 240 #número\n",
        "#com isso eu atribui avariavel velocidade maxima o valor de 240 (pelo sinal de igual)\n",
        "#print(velocidade maxima)\n",
        "#Usar palavras guardadas na string\n",
        "variavel = \"Roi\"\n",
        "print(variavel)"
      ],
      "metadata": {
        "colab": {
          "base_uri": "https://localhost:8080/"
        },
        "id": "DutWROMnUq7i",
        "outputId": "ff7d5d46-3649-4188-f1e0-507b2df9d719"
      },
      "execution_count": 5,
      "outputs": [
        {
          "output_type": "stream",
          "name": "stdout",
          "text": [
            "Roi\n"
          ]
        }
      ]
    },
    {
      "cell_type": "code",
      "source": [
        "#Também é possível armazenar vários valores na mesma linha em python, basta utilizar as vírgulas\n",
        "#EX:\n",
        "velocidade, frase,  posso_ou_nao = 100, \"Olá\", True\n",
        "print(velocidade)\n",
        "print(frase)\n",
        "print(posso_ou_nao)"
      ],
      "metadata": {
        "colab": {
          "base_uri": "https://localhost:8080/"
        },
        "id": "lO671iMWZFrh",
        "outputId": "27d07686-ec00-46c9-9a77-936ff243e22b"
      },
      "execution_count": 6,
      "outputs": [
        {
          "output_type": "stream",
          "name": "stdout",
          "text": [
            "100\n",
            "Olá\n",
            "True\n"
          ]
        }
      ]
    }
  ],
  "metadata": {
    "colab": {
      "provenance": [],
      "authorship_tag": "ABX9TyPsBeYCsVy4qJQXD/OhYATE",
      "include_colab_link": true
    },
    "kernelspec": {
      "display_name": "Python 3",
      "name": "python3"
    },
    "language_info": {
      "name": "python"
    }
  },
  "nbformat": 4,
  "nbformat_minor": 0
}