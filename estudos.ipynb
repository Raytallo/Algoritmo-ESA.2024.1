{
  "cells": [
    {
      "cell_type": "markdown",
      "metadata": {
        "id": "view-in-github",
        "colab_type": "text"
      },
      "source": [
        "<a href=\"https://colab.research.google.com/github/Raytallo/Algoritmo-ESA.2024.1/blob/main/estudos.ipynb\" target=\"_parent\"><img src=\"https://colab.research.google.com/assets/colab-badge.svg\" alt=\"Open In Colab\"/></a>"
      ]
    },
    {
      "cell_type": "markdown",
      "metadata": {
        "id": "uC-gIS9b3XLI"
      },
      "source": [
        "APRENDENDO FUNÇÕES\n"
      ]
    },
    {
      "cell_type": "code",
      "execution_count": null,
      "metadata": {
        "colab": {
          "base_uri": "https://localhost:8080/"
        },
        "id": "34M35VCx33eD",
        "outputId": "25bd07f4-f3bf-477c-8ebd-28547ebff35c"
      },
      "outputs": [
        {
          "name": "stdout",
          "output_type": "stream",
          "text": [
            "30\n"
          ]
        }
      ],
      "source": [
        "#Funções\n",
        "\n",
        "a = 10\n",
        "b = 20\n",
        "c = 30\n",
        "print(max(a,b,c))"
      ]
    },
    {
      "cell_type": "code",
      "execution_count": null,
      "metadata": {
        "colab": {
          "base_uri": "https://localhost:8080/"
        },
        "id": "kZqAM_nn46II",
        "outputId": "54b3dedc-72d7-4d07-8e5e-3cae9f7d28ee"
      },
      "outputs": [
        {
          "name": "stdout",
          "output_type": "stream",
          "text": [
            "10\n"
          ]
        }
      ],
      "source": [
        "a = 10\n",
        "b = 20\n",
        "c= 30\n",
        "print(min(a,b,c))"
      ]
    },
    {
      "cell_type": "code",
      "execution_count": null,
      "metadata": {
        "colab": {
          "base_uri": "https://localhost:8080/"
        },
        "id": "WHyI54QO5ESi",
        "outputId": "ab99544d-0b21-476d-ed21-435d07a2fa4a"
      },
      "outputs": [
        {
          "name": "stdout",
          "output_type": "stream",
          "text": [
            "o resultado é: 60\n"
          ]
        }
      ],
      "source": [
        "a = 10\n",
        "b = 20\n",
        "c = 30\n",
        "soma = a + b + c\n",
        "print(\"o resultado é:\", soma)"
      ]
    },
    {
      "cell_type": "code",
      "execution_count": null,
      "metadata": {
        "colab": {
          "base_uri": "https://localhost:8080/"
        },
        "id": "Pxmmk5Vh5tns",
        "outputId": "a0d502de-a4f3-46ab-e1c7-1ed28844eff0"
      },
      "outputs": [
        {
          "name": "stdout",
          "output_type": "stream",
          "text": [
            "Média padrão\n"
          ]
        }
      ],
      "source": [
        "#calcular a média\n",
        "a = 10\n",
        "b = 20\n",
        "c = 30\n",
        "media = a + b + c / 3\n",
        "if media < 20:\n",
        "  print(\"Média abaixo do esperado\")\n",
        "else:\n",
        "  media >= 20\n",
        "  print(\"Média padrão\")"
      ]
    },
    {
      "cell_type": "markdown",
      "metadata": {
        "id": "aKH7u9uV7fne"
      },
      "source": [
        "Questão 01:\n",
        "Como você faria para garantir que as notas inseridas pelo usuário estejam dentro de um intervalo válido (por exemplo, entre 0 e 10)?"
      ]
    },
    {
      "cell_type": "code",
      "execution_count": null,
      "metadata": {
        "colab": {
          "base_uri": "https://localhost:8080/"
        },
        "id": "RjGduWSB7hPs",
        "outputId": "1841de27-41c6-455d-ecab-49347626b7dd"
      },
      "outputs": [
        {
          "output_type": "stream",
          "name": "stdout",
          "text": [
            "Digite nota 1:100\n",
            "Digite peso da nota 1:2\n",
            "Digite nota 2:90\n",
            "Digite o peso da nota 2:3\n",
            "APROVADO Nota = 94.0\n"
          ]
        }
      ],
      "source": [
        "#Cálculo das notas\n",
        "nota1 = float (input(\"Digite nota 1:\"))\n",
        "\n",
        "peso1 = float (input(\"Digite peso da nota 1:\"))\n",
        "\n",
        "nota2 = float (input(\"Digite nota 2:\"))\n",
        "\n",
        "peso2 = float (input(\"Digite o peso da nota 2:\"))\n",
        "\n",
        "\n",
        "media = float((nota1 * peso1 + nota2 * peso2) / (peso1 + peso2))\n",
        "\n",
        "\n",
        "if media >= 60:\n",
        "  print(\"APROVADO\" + (\" \") + \"Nota = \" + str(media))\n",
        "else:\n",
        "    print(\"REPROVADO\" + ( \" \" ) + \"Nota =\" + str(media))\n",
        "\n",
        "\n"
      ]
    },
    {
      "cell_type": "markdown",
      "source": [
        "Escreva um algoritmo para calcular a área de um círculo."
      ],
      "metadata": {
        "id": "dTDnRmldrnce"
      }
    },
    {
      "cell_type": "code",
      "source": [
        "raio = int(input())\n",
        "#calcular a área do circulo\n",
        "str(area) == 3.1416 * raio**:\n",
        "print(\"A área do círculo é igual a\" area)"
      ],
      "metadata": {
        "colab": {
          "base_uri": "https://localhost:8080/",
          "height": 106
        },
        "id": "3Lgw1nF9rwGY",
        "outputId": "854227c3-43bb-4597-843f-9d7dc08f67a1"
      },
      "execution_count": null,
      "outputs": [
        {
          "output_type": "error",
          "ename": "SyntaxError",
          "evalue": "invalid syntax (<ipython-input-5-280923627092>, line 3)",
          "traceback": [
            "\u001b[0;36m  File \u001b[0;32m\"<ipython-input-5-280923627092>\"\u001b[0;36m, line \u001b[0;32m3\u001b[0m\n\u001b[0;31m    str(area) == 3,1416 * raio^2:\u001b[0m\n\u001b[0m                                ^\u001b[0m\n\u001b[0;31mSyntaxError\u001b[0m\u001b[0;31m:\u001b[0m invalid syntax\n"
          ]
        }
      ]
    },
    {
      "cell_type": "markdown",
      "source": [
        "Variáveis em Python"
      ],
      "metadata": {
        "id": "aCj332npUn9_"
      }
    },
    {
      "cell_type": "code",
      "source": [
        "#Pq usar variávis em python\n",
        "#velocidade maxima = 240 #número\n",
        "#com isso eu atribui avariavel velocidade maxima o valor de 240 (pelo sinal de igual)\n",
        "#print(velocidade maxima)\n",
        "#Usar palavras guardadas na string\n",
        "variavel = \"Roi\"\n",
        "print(variavel)"
      ],
      "metadata": {
        "colab": {
          "base_uri": "https://localhost:8080/"
        },
        "id": "DutWROMnUq7i",
        "outputId": "ff7d5d46-3649-4188-f1e0-507b2df9d719"
      },
      "execution_count": null,
      "outputs": [
        {
          "output_type": "stream",
          "name": "stdout",
          "text": [
            "Roi\n"
          ]
        }
      ]
    },
    {
      "cell_type": "code",
      "source": [
        "#Também é possível armazenar vários valores na mesma linha em python, basta utilizar as vírgulas\n",
        "#EX:\n",
        "velocidade, frase,  posso_ou_nao = 100, \"Olá\", True\n",
        "print(velocidade)\n",
        "print(frase)\n",
        "print(posso_ou_nao)"
      ],
      "metadata": {
        "colab": {
          "base_uri": "https://localhost:8080/"
        },
        "id": "lO671iMWZFrh",
        "outputId": "27d07686-ec00-46c9-9a77-936ff243e22b"
      },
      "execution_count": null,
      "outputs": [
        {
          "output_type": "stream",
          "name": "stdout",
          "text": [
            "100\n",
            "Olá\n",
            "True\n"
          ]
        }
      ]
    },
    {
      "cell_type": "markdown",
      "source": [
        "Primeiros comandos em python"
      ],
      "metadata": {
        "id": "_XpND9EwiABK"
      }
    },
    {
      "cell_type": "code",
      "source": [
        "#OLÁ, MUNDO!\n",
        "print(\"Hello, world!\")\n",
        "#OPERAÇÕES BÁSICAS\n",
        "\n",
        "#SOMA\n",
        "7\n",
        "2\n",
        "SOMA = 7 + 2\n",
        "print(SOMA)\n",
        "# OU ENTÃO\n",
        "print(7 + 3)\n",
        "#Dando valores a variavéis:\n",
        "a = 10\n",
        "b = 20\n",
        "c = 30\n",
        "print(a + b + c)\n",
        "\n",
        "#pitagóras\n",
        "cateto1 = float(input(print(\"Digite o valor do cateto1:\")))\n",
        "cateto2 = float(input(print(\"Digite o valor do cateto2:\")))\n",
        "hipotenusa = (cateto1**2 + cateto2**2) ** 0.5\n",
        "print(\"O valor da hipotenusa é:\", hipotenusa )\n",
        "\n",
        "\n"
      ],
      "metadata": {
        "colab": {
          "base_uri": "https://localhost:8080/",
          "height": 443
        },
        "id": "PUqpZeHMiDRA",
        "outputId": "b8fc45a4-5e4e-4beb-d229-6326ef2c5b2e"
      },
      "execution_count": null,
      "outputs": [
        {
          "output_type": "stream",
          "name": "stdout",
          "text": [
            "Hello, world!\n",
            "9\n",
            "10\n",
            "60\n",
            "Digite o valor do cateto1:\n"
          ]
        },
        {
          "output_type": "error",
          "ename": "KeyboardInterrupt",
          "evalue": "Interrupted by user",
          "traceback": [
            "\u001b[0;31m---------------------------------------------------------------------------\u001b[0m",
            "\u001b[0;31mKeyboardInterrupt\u001b[0m                         Traceback (most recent call last)",
            "\u001b[0;32m<ipython-input-2-67d7c3313818>\u001b[0m in \u001b[0;36m<cell line: 19>\u001b[0;34m()\u001b[0m\n\u001b[1;32m     17\u001b[0m \u001b[0;34m\u001b[0m\u001b[0m\n\u001b[1;32m     18\u001b[0m \u001b[0;31m#pitagóras\u001b[0m\u001b[0;34m\u001b[0m\u001b[0;34m\u001b[0m\u001b[0m\n\u001b[0;32m---> 19\u001b[0;31m \u001b[0mcateto1\u001b[0m \u001b[0;34m=\u001b[0m \u001b[0mfloat\u001b[0m\u001b[0;34m(\u001b[0m\u001b[0minput\u001b[0m\u001b[0;34m(\u001b[0m\u001b[0mprint\u001b[0m\u001b[0;34m(\u001b[0m\u001b[0;34m\"Digite o valor do cateto1:\"\u001b[0m\u001b[0;34m)\u001b[0m\u001b[0;34m)\u001b[0m\u001b[0;34m)\u001b[0m\u001b[0;34m\u001b[0m\u001b[0;34m\u001b[0m\u001b[0m\n\u001b[0m\u001b[1;32m     20\u001b[0m \u001b[0mcateto2\u001b[0m \u001b[0;34m=\u001b[0m \u001b[0mfloat\u001b[0m\u001b[0;34m(\u001b[0m\u001b[0minput\u001b[0m\u001b[0;34m(\u001b[0m\u001b[0mprint\u001b[0m\u001b[0;34m(\u001b[0m\u001b[0;34m\"Digite o valor do cateto2:\"\u001b[0m\u001b[0;34m)\u001b[0m\u001b[0;34m)\u001b[0m\u001b[0;34m)\u001b[0m\u001b[0;34m\u001b[0m\u001b[0;34m\u001b[0m\u001b[0m\n\u001b[1;32m     21\u001b[0m \u001b[0mhipotenusa\u001b[0m \u001b[0;34m=\u001b[0m \u001b[0;34m(\u001b[0m\u001b[0mcateto1\u001b[0m\u001b[0;34m**\u001b[0m\u001b[0;36m2\u001b[0m \u001b[0;34m+\u001b[0m \u001b[0mcateto2\u001b[0m\u001b[0;34m**\u001b[0m\u001b[0;36m2\u001b[0m\u001b[0;34m)\u001b[0m \u001b[0;34m**\u001b[0m \u001b[0;36m0.5\u001b[0m\u001b[0;34m\u001b[0m\u001b[0;34m\u001b[0m\u001b[0m\n",
            "\u001b[0;32m/usr/local/lib/python3.10/dist-packages/ipykernel/kernelbase.py\u001b[0m in \u001b[0;36mraw_input\u001b[0;34m(self, prompt)\u001b[0m\n\u001b[1;32m    849\u001b[0m                 \u001b[0;34m\"raw_input was called, but this frontend does not support input requests.\"\u001b[0m\u001b[0;34m\u001b[0m\u001b[0;34m\u001b[0m\u001b[0m\n\u001b[1;32m    850\u001b[0m             )\n\u001b[0;32m--> 851\u001b[0;31m         return self._input_request(str(prompt),\n\u001b[0m\u001b[1;32m    852\u001b[0m             \u001b[0mself\u001b[0m\u001b[0;34m.\u001b[0m\u001b[0m_parent_ident\u001b[0m\u001b[0;34m,\u001b[0m\u001b[0;34m\u001b[0m\u001b[0;34m\u001b[0m\u001b[0m\n\u001b[1;32m    853\u001b[0m             \u001b[0mself\u001b[0m\u001b[0;34m.\u001b[0m\u001b[0m_parent_header\u001b[0m\u001b[0;34m,\u001b[0m\u001b[0;34m\u001b[0m\u001b[0;34m\u001b[0m\u001b[0m\n",
            "\u001b[0;32m/usr/local/lib/python3.10/dist-packages/ipykernel/kernelbase.py\u001b[0m in \u001b[0;36m_input_request\u001b[0;34m(self, prompt, ident, parent, password)\u001b[0m\n\u001b[1;32m    893\u001b[0m             \u001b[0;32mexcept\u001b[0m \u001b[0mKeyboardInterrupt\u001b[0m\u001b[0;34m:\u001b[0m\u001b[0;34m\u001b[0m\u001b[0;34m\u001b[0m\u001b[0m\n\u001b[1;32m    894\u001b[0m                 \u001b[0;31m# re-raise KeyboardInterrupt, to truncate traceback\u001b[0m\u001b[0;34m\u001b[0m\u001b[0;34m\u001b[0m\u001b[0m\n\u001b[0;32m--> 895\u001b[0;31m                 \u001b[0;32mraise\u001b[0m \u001b[0mKeyboardInterrupt\u001b[0m\u001b[0;34m(\u001b[0m\u001b[0;34m\"Interrupted by user\"\u001b[0m\u001b[0;34m)\u001b[0m \u001b[0;32mfrom\u001b[0m \u001b[0;32mNone\u001b[0m\u001b[0;34m\u001b[0m\u001b[0;34m\u001b[0m\u001b[0m\n\u001b[0m\u001b[1;32m    896\u001b[0m             \u001b[0;32mexcept\u001b[0m \u001b[0mException\u001b[0m \u001b[0;32mas\u001b[0m \u001b[0me\u001b[0m\u001b[0;34m:\u001b[0m\u001b[0;34m\u001b[0m\u001b[0;34m\u001b[0m\u001b[0m\n\u001b[1;32m    897\u001b[0m                 \u001b[0mself\u001b[0m\u001b[0;34m.\u001b[0m\u001b[0mlog\u001b[0m\u001b[0;34m.\u001b[0m\u001b[0mwarning\u001b[0m\u001b[0;34m(\u001b[0m\u001b[0;34m\"Invalid Message:\"\u001b[0m\u001b[0;34m,\u001b[0m \u001b[0mexc_info\u001b[0m\u001b[0;34m=\u001b[0m\u001b[0;32mTrue\u001b[0m\u001b[0;34m)\u001b[0m\u001b[0;34m\u001b[0m\u001b[0;34m\u001b[0m\u001b[0m\n",
            "\u001b[0;31mKeyboardInterrupt\u001b[0m: Interrupted by user"
          ]
        }
      ]
    },
    {
      "cell_type": "markdown",
      "source": [
        "Primeiros comandos python"
      ],
      "metadata": {
        "id": "lfqg3eBuzPxR"
      }
    },
    {
      "cell_type": "code",
      "source": [
        "print(\"7\"+ \"4\") #aqui ele junta os dois números que estão entre aspas\n",
        "print(\"Setenta e quatro\") #aqui como é uma palavra é necessário estar entre aspas para ele jogar na saida de dados a palavra\n",
        "print(7 + 4) #aqui como são números e tem uma operação de soma (os números devem estar sem aspas) o python somou os dois números"
      ],
      "metadata": {
        "colab": {
          "base_uri": "https://localhost:8080/"
        },
        "id": "vOVGS5sVzTOD",
        "outputId": "30fe7415-f010-4393-a5d6-1ec5f605a090"
      },
      "execution_count": null,
      "outputs": [
        {
          "output_type": "stream",
          "name": "stdout",
          "text": [
            "74\n",
            "Setenta e quatro\n",
            "11\n"
          ]
        }
      ]
    },
    {
      "cell_type": "markdown",
      "source": [
        "Para junção de palavras usa-se \"+\" ou \",\". Diferenças no uso de \"+\" e \",\" :"
      ],
      "metadata": {
        "id": "IvVRgjfU10FD"
      }
    },
    {
      "cell_type": "code",
      "source": [
        "print(\"7\" + \"4\") #melhor forma\n",
        "print(\"7\",\"4\") #dá um espaçamento entre os números\n",
        "#print(\"Olá, mundo!\" + 5) dá erro no código\n",
        "print(\"Olá, mundo!\" , 5)"
      ],
      "metadata": {
        "colab": {
          "base_uri": "https://localhost:8080/"
        },
        "id": "2zP_nvlA2B4Q",
        "outputId": "6bed045a-975c-4bb7-8d04-8102be7ec8d6"
      },
      "execution_count": null,
      "outputs": [
        {
          "output_type": "stream",
          "name": "stdout",
          "text": [
            "74\n",
            "7 4\n",
            "Olá, mundo! 5\n"
          ]
        }
      ]
    },
    {
      "cell_type": "markdown",
      "source": [
        "Variáveis em python"
      ],
      "metadata": {
        "id": "qXwHJNb73AU1"
      }
    },
    {
      "cell_type": "code",
      "source": [
        "# \"=\" para o python é \"recebe\"\n",
        "nome = \"Raytallo\"\n",
        "idade = 18\n",
        "peso = 76\n",
        "print(nome, \"tem\", idade, \"anos e\", peso, \"kg\")\n",
        "\n",
        "nome = (input(print(\"Digite seu nome:\")))\n",
        "idade = (input(print(\"Digite sua idade:\")))\n",
        "peso = float(input(print(\"Digite seu peso\")))\n",
        "print(nome, \"tem\", idade, \"anos\", \"e pesa\", peso, \"kg\")"
      ],
      "metadata": {
        "colab": {
          "base_uri": "https://localhost:8080/"
        },
        "id": "bPgKtUR23ETA",
        "outputId": "b11093f3-b739-47a2-dc7e-1f0e765d0a3b"
      },
      "execution_count": null,
      "outputs": [
        {
          "output_type": "stream",
          "name": "stdout",
          "text": [
            "Raytallo tem 18 anos e 76 kg\n",
            "Digite seu nome:\n",
            "NoneRaytallo\n",
            "Digite sua idade:\n",
            "None18\n",
            "Digite seu peso\n",
            "None76\n",
            "Raytallo tem 18 anos e pesa 76.0 kg\n"
          ]
        }
      ]
    },
    {
      "cell_type": "markdown",
      "source": [
        "Desafio: crie um código python que LEIA o nome de uma pessoa e mostre uma mensagem de boas-vidas de acordo com o valor digitado."
      ],
      "metadata": {
        "id": "-PrDDmkGJxK2"
      }
    },
    {
      "cell_type": "code",
      "source": [
        "nome = input(\"Digite seu nome:\")\n",
        "valor_digitado = int(input(\"Digite um número:\"))\n",
        "if valor_digitado >= 5:\n",
        "  print(\"Seja bem-vindo(a),\", nome + \"!\")\n",
        "else:\n",
        "  print(\"Olá,\", nome +\"!\")"
      ],
      "metadata": {
        "colab": {
          "base_uri": "https://localhost:8080/",
          "height": 356
        },
        "id": "GqoLEtY0KHq8",
        "outputId": "a35b0c52-e4d8-4e59-bcdc-e4fad71bc99f"
      },
      "execution_count": null,
      "outputs": [
        {
          "output_type": "error",
          "ename": "KeyboardInterrupt",
          "evalue": "Interrupted by user",
          "traceback": [
            "\u001b[0;31m---------------------------------------------------------------------------\u001b[0m",
            "\u001b[0;31mKeyboardInterrupt\u001b[0m                         Traceback (most recent call last)",
            "\u001b[0;32m<ipython-input-6-4777d7fa6f37>\u001b[0m in \u001b[0;36m<cell line: 1>\u001b[0;34m()\u001b[0m\n\u001b[0;32m----> 1\u001b[0;31m \u001b[0mnome\u001b[0m \u001b[0;34m=\u001b[0m \u001b[0minput\u001b[0m\u001b[0;34m(\u001b[0m\u001b[0;34m\"Digite seu nome:\"\u001b[0m\u001b[0;34m)\u001b[0m\u001b[0;34m\u001b[0m\u001b[0;34m\u001b[0m\u001b[0m\n\u001b[0m\u001b[1;32m      2\u001b[0m \u001b[0mvalor_digitado\u001b[0m \u001b[0;34m=\u001b[0m \u001b[0mint\u001b[0m\u001b[0;34m(\u001b[0m\u001b[0minput\u001b[0m\u001b[0;34m(\u001b[0m\u001b[0;34m\"Digite um número:\"\u001b[0m\u001b[0;34m)\u001b[0m\u001b[0;34m)\u001b[0m\u001b[0;34m\u001b[0m\u001b[0;34m\u001b[0m\u001b[0m\n\u001b[1;32m      3\u001b[0m \u001b[0;32mif\u001b[0m \u001b[0mvalor_digitado\u001b[0m \u001b[0;34m>=\u001b[0m \u001b[0;36m5\u001b[0m\u001b[0;34m:\u001b[0m\u001b[0;34m\u001b[0m\u001b[0;34m\u001b[0m\u001b[0m\n\u001b[1;32m      4\u001b[0m   \u001b[0mprint\u001b[0m\u001b[0;34m(\u001b[0m\u001b[0;34m\"Seja bem-vindo(a),\"\u001b[0m\u001b[0;34m,\u001b[0m \u001b[0mnome\u001b[0m \u001b[0;34m+\u001b[0m \u001b[0;34m\"!\"\u001b[0m\u001b[0;34m)\u001b[0m\u001b[0;34m\u001b[0m\u001b[0;34m\u001b[0m\u001b[0m\n\u001b[1;32m      5\u001b[0m \u001b[0;32melse\u001b[0m\u001b[0;34m:\u001b[0m\u001b[0;34m\u001b[0m\u001b[0;34m\u001b[0m\u001b[0m\n",
            "\u001b[0;32m/usr/local/lib/python3.10/dist-packages/ipykernel/kernelbase.py\u001b[0m in \u001b[0;36mraw_input\u001b[0;34m(self, prompt)\u001b[0m\n\u001b[1;32m    849\u001b[0m                 \u001b[0;34m\"raw_input was called, but this frontend does not support input requests.\"\u001b[0m\u001b[0;34m\u001b[0m\u001b[0;34m\u001b[0m\u001b[0m\n\u001b[1;32m    850\u001b[0m             )\n\u001b[0;32m--> 851\u001b[0;31m         return self._input_request(str(prompt),\n\u001b[0m\u001b[1;32m    852\u001b[0m             \u001b[0mself\u001b[0m\u001b[0;34m.\u001b[0m\u001b[0m_parent_ident\u001b[0m\u001b[0;34m,\u001b[0m\u001b[0;34m\u001b[0m\u001b[0;34m\u001b[0m\u001b[0m\n\u001b[1;32m    853\u001b[0m             \u001b[0mself\u001b[0m\u001b[0;34m.\u001b[0m\u001b[0m_parent_header\u001b[0m\u001b[0;34m,\u001b[0m\u001b[0;34m\u001b[0m\u001b[0;34m\u001b[0m\u001b[0m\n",
            "\u001b[0;32m/usr/local/lib/python3.10/dist-packages/ipykernel/kernelbase.py\u001b[0m in \u001b[0;36m_input_request\u001b[0;34m(self, prompt, ident, parent, password)\u001b[0m\n\u001b[1;32m    893\u001b[0m             \u001b[0;32mexcept\u001b[0m \u001b[0mKeyboardInterrupt\u001b[0m\u001b[0;34m:\u001b[0m\u001b[0;34m\u001b[0m\u001b[0;34m\u001b[0m\u001b[0m\n\u001b[1;32m    894\u001b[0m                 \u001b[0;31m# re-raise KeyboardInterrupt, to truncate traceback\u001b[0m\u001b[0;34m\u001b[0m\u001b[0;34m\u001b[0m\u001b[0m\n\u001b[0;32m--> 895\u001b[0;31m                 \u001b[0;32mraise\u001b[0m \u001b[0mKeyboardInterrupt\u001b[0m\u001b[0;34m(\u001b[0m\u001b[0;34m\"Interrupted by user\"\u001b[0m\u001b[0;34m)\u001b[0m \u001b[0;32mfrom\u001b[0m \u001b[0;32mNone\u001b[0m\u001b[0;34m\u001b[0m\u001b[0;34m\u001b[0m\u001b[0m\n\u001b[0m\u001b[1;32m    896\u001b[0m             \u001b[0;32mexcept\u001b[0m \u001b[0mException\u001b[0m \u001b[0;32mas\u001b[0m \u001b[0me\u001b[0m\u001b[0;34m:\u001b[0m\u001b[0;34m\u001b[0m\u001b[0;34m\u001b[0m\u001b[0m\n\u001b[1;32m    897\u001b[0m                 \u001b[0mself\u001b[0m\u001b[0;34m.\u001b[0m\u001b[0mlog\u001b[0m\u001b[0;34m.\u001b[0m\u001b[0mwarning\u001b[0m\u001b[0;34m(\u001b[0m\u001b[0;34m\"Invalid Message:\"\u001b[0m\u001b[0;34m,\u001b[0m \u001b[0mexc_info\u001b[0m\u001b[0;34m=\u001b[0m\u001b[0;32mTrue\u001b[0m\u001b[0;34m)\u001b[0m\u001b[0;34m\u001b[0m\u001b[0;34m\u001b[0m\u001b[0m\n",
            "\u001b[0;31mKeyboardInterrupt\u001b[0m: Interrupted by user"
          ]
        }
      ]
    },
    {
      "cell_type": "markdown",
      "source": [
        "Desafio2: crie um código Python que LEIA o dia, o mês e o ano de nascimento de uma pessoa e mostre uma mensagem com a data informada."
      ],
      "metadata": {
        "id": "1TQqrL6zNyS-"
      }
    },
    {
      "cell_type": "code",
      "source": [
        "nome = input(\"Digite seu nome:\")\n",
        "dias = int(input(\"Digite seu dia de nascimento:\"))\n",
        "mes = input(\"Digite seu mês de nascimento:\")\n",
        "ano = int(input(\"Digite seu ano de nascimento:\"))\n",
        "\n",
        "print(nome, \"nasceu em\", dias, \"de\", mes, \"de\", ano)"
      ],
      "metadata": {
        "id": "7KMq97D_OGdU",
        "colab": {
          "base_uri": "https://localhost:8080/"
        },
        "outputId": "921f7b41-8d29-4bcd-fd51-eb39b6597251"
      },
      "execution_count": null,
      "outputs": [
        {
          "output_type": "stream",
          "name": "stdout",
          "text": [
            "Digite seu nome:Raytallo\n",
            "Digite seu dia de nascimento:16\n",
            "Digite seu mês de nascimento:Maio\n",
            "Digite seu ano de nascimento:2005\n",
            "Raytallo nasceu em 16 de Maio de 2005\n"
          ]
        }
      ]
    },
    {
      "cell_type": "code",
      "source": [
        "#fazendo por dicionário\n",
        "nome = input(\"Digite seu nome:\")\n",
        "ano = int(input(\"Digite seu ano de nascimento:\"))\n",
        "dia = int(input(\"Digite o dia de seu nascimento\"))\n",
        "meses = {\"janeiro\" : 1, \"feveriero\" : 2, \"março\" : 3, \"abril\" : 4, \"maio\" : 5, \"junho\" : 6, \"julho\" : 7, \"agosto\" : 8, \"setembro\" : 9, \"outubro\" : 10, \"novembro\" : 11, \"dezembro\" : 12}\n",
        "mes = int(input(\"Digite um número correspondente ao seu mês de nascimento (de 1 a 12)\"))\n",
        "\n",
        "while True:\n",
        "  if mes > 1 or < 12\n",
        "  print(nome, \"nasceu em\", meses)\n",
        "  print(\"data não correspondida, digite uma data existente\":)\n",
        "break\n",
        "print(nome, \"nasceu em\", dia, \"de\", mes, \"de\", ano)"
      ],
      "metadata": {
        "colab": {
          "base_uri": "https://localhost:8080/",
          "height": 106
        },
        "id": "exyxpynFeIp7",
        "outputId": "4f088264-a31c-42f1-b9ee-5d90e1e1da64"
      },
      "execution_count": null,
      "outputs": [
        {
          "output_type": "error",
          "ename": "SyntaxError",
          "evalue": "invalid syntax (<ipython-input-15-606cd98252e7>, line 9)",
          "traceback": [
            "\u001b[0;36m  File \u001b[0;32m\"<ipython-input-15-606cd98252e7>\"\u001b[0;36m, line \u001b[0;32m9\u001b[0m\n\u001b[0;31m    if mes > 1 or < 12\u001b[0m\n\u001b[0m                  ^\u001b[0m\n\u001b[0;31mSyntaxError\u001b[0m\u001b[0;31m:\u001b[0m invalid syntax\n"
          ]
        }
      ]
    },
    {
      "cell_type": "code",
      "source": [
        "#Desafio 2 pelo vídeo\n",
        "dia = int(input(\"Digite o dia do seu nascimento:\"))\n",
        "mes = input(\"Escreva o mês do seu nascimento:\")\n",
        "ano = int(input(\"Digite o ano de seu nascimento:\"))\n",
        "a = \".\"\n",
        "\n",
        "print(\"Você nasceu em\", dia, \"de\", mes, \"de\", ano, a , \"Correto?\")"
      ],
      "metadata": {
        "colab": {
          "base_uri": "https://localhost:8080/"
        },
        "id": "YtAdkEi9ygXD",
        "outputId": "d0192a50-e9de-41d8-a0fd-ac6fb068d17b"
      },
      "execution_count": null,
      "outputs": [
        {
          "output_type": "stream",
          "name": "stdout",
          "text": [
            "Digite o dia do seu nascimento:16\n",
            "Escreva o mês do seu nascimento:Maio\n",
            "Digite o ano de seu nascimento:2005\n",
            "Você nasceu em 16 de Maio de 2005 . Correto?\n"
          ]
        }
      ]
    },
    {
      "cell_type": "markdown",
      "source": [
        "Desafio 3: Crie um código python que leia dois números e tente mostrar a soma deles"
      ],
      "metadata": {
        "id": "vFBdlGE-1BJ2"
      }
    },
    {
      "cell_type": "code",
      "source": [
        "a = 2\n",
        "b = 5\n",
        "soma = a + b\n",
        "print(soma)\n",
        "\n",
        "#do jeito que ele pede no vídeo\n",
        "num1 = int(input(\"Digite o primero número:\"))\n",
        "num2 = int(input(\"Digite o segundo número:\"))\n",
        "soma = num1 + num2\n",
        "print(\"o resultado da soma é\", num1, \"+\", num2, \"=\", soma)"
      ],
      "metadata": {
        "colab": {
          "base_uri": "https://localhost:8080/"
        },
        "id": "R_iNJU6D1OWV",
        "outputId": "43b42ee4-9a1d-4561-c383-8d4e8a976f17"
      },
      "execution_count": 3,
      "outputs": [
        {
          "output_type": "stream",
          "name": "stdout",
          "text": [
            "7\n",
            "Digite o primero número:2\n",
            "Digite o segundo número:5\n",
            "o resultado da soma é 2 + 5 = 7\n"
          ]
        }
      ]
    },
    {
      "cell_type": "code",
      "source": [
        "i"
      ],
      "metadata": {
        "id": "KGh2qFxr27Hv"
      },
      "execution_count": null,
      "outputs": []
    },
    {
      "cell_type": "markdown",
      "source": [
        "**AULA 06** TIPOS PRIMITIVOS DE DADOS\n"
      ],
      "metadata": {
        "id": "KWcEDwD025xF"
      }
    },
    {
      "cell_type": "code",
      "source": [
        "int #São números inteiros. Ex: 7, 4, 0, -5, 1986\n",
        "float #São números reias ou pontos flutuantes. EX: 4.5, 9.4444, 15.38473, 7.0\n",
        "bool #São valores lógicos ou boleanos. EX: True e False\n",
        "#True \"e\" False\n",
        "str #São valores de caracteres ou string. EX: \"olá\", \"7,6\", \" \", \"arc\"\n",
        "\n",
        "#Código usando ferramenta .format\n",
        "n1 = int(input(\"Digite um número:\"))\n",
        "n2 = int(input(\"Digite um número:\"))\n",
        "soma = n1 + n2\n",
        "print(\"a soma vale {}\".format(soma))"
      ],
      "metadata": {
        "colab": {
          "base_uri": "https://localhost:8080/"
        },
        "id": "cQN9YQns3Hl1",
        "outputId": "7e1e9a60-2126-4861-e35a-f20b32b2f66b"
      },
      "execution_count": 8,
      "outputs": [
        {
          "output_type": "stream",
          "name": "stdout",
          "text": [
            "Digite um número:2\n",
            "Digite um número:5\n",
            "a soma vale 7\n"
          ]
        }
      ]
    },
    {
      "cell_type": "code",
      "source": [
        "n1 = int(input(\"Digite um número:\"))\n",
        "n2 = int(input(\"Digite um número:\")),\n",
        "s = n1 + n2\n",
        "print(\"A soma entre\", n1, 'e', n2, \"Vale {}\".format(s))"
      ],
      "metadata": {
        "id": "AhZsYEst6Kgv"
      },
      "execution_count": null,
      "outputs": []
    }
  ],
  "metadata": {
    "colab": {
      "provenance": [],
      "authorship_tag": "ABX9TyNUUOW9Bu5cEBq5378nBp/y",
      "include_colab_link": true
    },
    "kernelspec": {
      "display_name": "Python 3",
      "name": "python3"
    },
    "language_info": {
      "name": "python"
    }
  },
  "nbformat": 4,
  "nbformat_minor": 0
}