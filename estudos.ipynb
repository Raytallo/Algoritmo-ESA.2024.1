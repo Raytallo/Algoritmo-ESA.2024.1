{
  "nbformat": 4,
  "nbformat_minor": 0,
  "metadata": {
    "colab": {
      "provenance": [],
      "authorship_tag": "ABX9TyMhlxAFbenU6YuOwunGJ3/6",
      "include_colab_link": true
    },
    "kernelspec": {
      "name": "python3",
      "display_name": "Python 3"
    },
    "language_info": {
      "name": "python"
    }
  },
  "cells": [
    {
      "cell_type": "markdown",
      "metadata": {
        "id": "view-in-github",
        "colab_type": "text"
      },
      "source": [
        "<a href=\"https://colab.research.google.com/github/Raytallo/Algoritmo-ESA.2024.1/blob/main/estudos.ipynb\" target=\"_parent\"><img src=\"https://colab.research.google.com/assets/colab-badge.svg\" alt=\"Open In Colab\"/></a>"
      ]
    },
    {
      "cell_type": "markdown",
      "source": [
        "APRENDENDO FUNÇÕES\n"
      ],
      "metadata": {
        "id": "uC-gIS9b3XLI"
      }
    },
    {
      "cell_type": "code",
      "source": [
        "#Funções\n",
        "\n",
        "a = 10\n",
        "b = 20\n",
        "c = 30\n",
        "print(max(a,b,c))"
      ],
      "metadata": {
        "colab": {
          "base_uri": "https://localhost:8080/"
        },
        "id": "34M35VCx33eD",
        "outputId": "25bd07f4-f3bf-477c-8ebd-28547ebff35c"
      },
      "execution_count": 1,
      "outputs": [
        {
          "output_type": "stream",
          "name": "stdout",
          "text": [
            "30\n"
          ]
        }
      ]
    },
    {
      "cell_type": "code",
      "source": [
        "a = 10\n",
        "b = 20\n",
        "c= 30\n",
        "print(min(a,b,c))"
      ],
      "metadata": {
        "colab": {
          "base_uri": "https://localhost:8080/"
        },
        "id": "kZqAM_nn46II",
        "outputId": "54b3dedc-72d7-4d07-8e5e-3cae9f7d28ee"
      },
      "execution_count": 2,
      "outputs": [
        {
          "output_type": "stream",
          "name": "stdout",
          "text": [
            "10\n"
          ]
        }
      ]
    },
    {
      "cell_type": "code",
      "source": [
        "a = 10\n",
        "b = 20\n",
        "c = 30\n",
        "soma = a + b + c\n",
        "print(\"o resultado é:\", soma)"
      ],
      "metadata": {
        "colab": {
          "base_uri": "https://localhost:8080/"
        },
        "id": "WHyI54QO5ESi",
        "outputId": "ab99544d-0b21-476d-ed21-435d07a2fa4a"
      },
      "execution_count": 7,
      "outputs": [
        {
          "output_type": "stream",
          "name": "stdout",
          "text": [
            "o resultado é: 60\n"
          ]
        }
      ]
    },
    {
      "cell_type": "code",
      "source": [
        "#calcular a média\n",
        "a = 10\n",
        "b = 20\n",
        "c = 30\n",
        "media = a + b + c / 3\n",
        "if media < 20:\n",
        "  print(\"Média abaixo do esperado\")\n",
        "else:\n",
        "  media >= 20\n",
        "  print(\"Média padrão\")"
      ],
      "metadata": {
        "colab": {
          "base_uri": "https://localhost:8080/"
        },
        "id": "Pxmmk5Vh5tns",
        "outputId": "a0d502de-a4f3-46ab-e1c7-1ed28844eff0"
      },
      "execution_count": 10,
      "outputs": [
        {
          "output_type": "stream",
          "name": "stdout",
          "text": [
            "Média padrão\n"
          ]
        }
      ]
    },
    {
      "cell_type": "markdown",
      "source": [
        "Questão 01:\n",
        "Como você faria para garantir que as notas inseridas pelo usuário estejam dentro de um intervalo válido (por exemplo, entre 0 e 10)?"
      ],
      "metadata": {
        "id": "aKH7u9uV7fne"
      }
    },
    {
      "cell_type": "code",
      "source": [
        "#Cálculo das notas\n",
        "\n",
        "print(\"Digite a nota 1:\")\n",
        "input()\n",
        "print(\"Digite o peso da nota 1\")\n",
        "input()\n",
        "\n",
        "print(\"Digite nota 2\")\n",
        "input()\n",
        "print(\"Digite o peso da nota 2\")\n",
        "\n",
        "\n"
      ],
      "metadata": {
        "colab": {
          "base_uri": "https://localhost:8080/"
        },
        "id": "RjGduWSB7hPs",
        "outputId": "9441c4a0-aaf1-4382-e820-80ab0cf367e6"
      },
      "execution_count": null,
      "outputs": [
        {
          "output_type": "stream",
          "name": "stdout",
          "text": [
            "Digite a nota 1:\n"
          ]
        }
      ]
    }
  ]
}