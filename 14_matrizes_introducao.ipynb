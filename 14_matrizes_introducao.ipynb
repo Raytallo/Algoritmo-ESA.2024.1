{
  "nbformat": 4,
  "nbformat_minor": 0,
  "metadata": {
    "colab": {
      "provenance": [],
      "authorship_tag": "ABX9TyMKU1VPpnkTfKUbDGp6EM1k",
      "include_colab_link": true
    },
    "kernelspec": {
      "name": "python3",
      "display_name": "Python 3"
    },
    "language_info": {
      "name": "python"
    }
  },
  "cells": [
    {
      "cell_type": "markdown",
      "metadata": {
        "id": "view-in-github",
        "colab_type": "text"
      },
      "source": [
        "<a href=\"https://colab.research.google.com/github/Raytallo/Algoritmo-ESA.2024.1/blob/main/14_matrizes_introducao.ipynb\" target=\"_parent\"><img src=\"https://colab.research.google.com/assets/colab-badge.svg\" alt=\"Open In Colab\"/></a>"
      ]
    },
    {
      "cell_type": "markdown",
      "source": [
        "libgen.is = acervo de livros\n",
        "a mente do imperador"
      ],
      "metadata": {
        "id": "DwhfzehYojEx"
      }
    },
    {
      "cell_type": "markdown",
      "source": [
        "Matrizes / arranjos em python"
      ],
      "metadata": {
        "id": "rJeZRG3FzjtZ"
      }
    },
    {
      "cell_type": "code",
      "source": [
        "M = [1,2,3,4,5,6] # (unidimensional)\n",
        "print(M) # M é uma lista com 6 itens"
      ],
      "metadata": {
        "colab": {
          "base_uri": "https://localhost:8080/"
        },
        "id": "c2qXJ_Mszpjq",
        "outputId": "3a92180f-196a-4f5d-ca89-5731a2c9a57d"
      },
      "execution_count": 1,
      "outputs": [
        {
          "output_type": "stream",
          "name": "stdout",
          "text": [
            "[1, 2, 3, 4, 5, 6]\n"
          ]
        }
      ]
    },
    {
      "cell_type": "code",
      "source": [
        "M = [[1,1,1], [1,1,1],[1,1,1]]\n",
        "print(M)\n",
        "M = [[1]*3]*3 #bidimensional\n",
        "print(M)"
      ],
      "metadata": {
        "colab": {
          "base_uri": "https://localhost:8080/"
        },
        "id": "AAeqMY0n0GVT",
        "outputId": "36c45f70-749d-4e2a-ff99-3b0b1413e363"
      },
      "execution_count": 3,
      "outputs": [
        {
          "output_type": "stream",
          "name": "stdout",
          "text": [
            "[[1, 1, 1], [1, 1, 1], [1, 1, 1]]\n",
            "[[1, 1, 1], [1, 1, 1], [1, 1, 1]]\n"
          ]
        }
      ]
    }
  ]
}