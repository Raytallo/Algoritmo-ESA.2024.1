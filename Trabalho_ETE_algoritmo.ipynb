{
  "nbformat": 4,
  "nbformat_minor": 0,
  "metadata": {
    "colab": {
      "provenance": [],
      "authorship_tag": "ABX9TyNjskROfDear+LxDtQLUwby",
      "include_colab_link": true
    },
    "kernelspec": {
      "name": "python3",
      "display_name": "Python 3"
    },
    "language_info": {
      "name": "python"
    }
  },
  "cells": [
    {
      "cell_type": "markdown",
      "metadata": {
        "id": "view-in-github",
        "colab_type": "text"
      },
      "source": [
        "<a href=\"https://colab.research.google.com/github/Raytallo/Algoritmo-ESA.2024.1/blob/main/Trabalho_ETE_algoritmo.ipynb\" target=\"_parent\"><img src=\"https://colab.research.google.com/assets/colab-badge.svg\" alt=\"Open In Colab\"/></a>"
      ]
    },
    {
      "cell_type": "markdown",
      "source": [
        "Ponto 1 - Controle de residuos"
      ],
      "metadata": {
        "id": "-tzziSzv4k4l"
      }
    },
    {
      "cell_type": "code",
      "source": [
        "volumecolet = int(input(\"Digite o valor do esgoto coletado em metros cúbicos:\"))\n",
        "volumeaguacons = int(input(\"Digite o valor da água consumida metros cúbicos:\"))\n",
        "volumeaguatrat = int(input(\"Digite o valor da água tratada em metros cúbicos:\"))\n",
        "#cálculo\n",
        "calculocontrol = volumecolet / (volumeaguacons - volumeaguatrat)\n",
        "print(calculocontrol,\"m³\")"
      ],
      "metadata": {
        "colab": {
          "base_uri": "https://localhost:8080/"
        },
        "id": "biA2Yf784uqS",
        "outputId": "04468b6d-acf4-4026-e9aa-3982dad85bb1"
      },
      "execution_count": 3,
      "outputs": [
        {
          "output_type": "stream",
          "name": "stdout",
          "text": [
            "Digite o valor do esgoto coletado em metros cúbicos:10000\n",
            "Digite o valor da água consumida metros cúbicos:5000\n",
            "Digite o valor da água tratada em metros cúbicos:4000\n",
            "10.0 m³\n"
          ]
        }
      ]
    },
    {
      "cell_type": "markdown",
      "source": [
        "Ponto 2 - Quantificar os índices pluviometricos"
      ],
      "metadata": {
        "id": "lZQRzjzY5AlK"
      }
    },
    {
      "cell_type": "code",
      "source": [
        "# Equação 1: contribuição pluviométrica\n",
        "chuv = float(input(\"Digite a quantidade no período chuvoso em (mm):\"))\n",
        "seco = float(input(\"Digite a quantidade no período seco em (mm):\"))\n",
        "km = float(input(\"Digite a extensão em quilômetros da rede coletora:\"))\n",
        "qcp = (chuv - seco)\n",
        "print(f\"A contribuição pluviométrica do período chuvosos é:{qcp} mm\")\n",
        "# Equação 2: percentual em relação ao tempo seco\n",
        "porcentagem = (qcp/seco)\n",
        "print(f\"O percentual em relação ao tempo seco é: {(porcentagem * 100):.2f}%\")\n",
        "# Equação 3: A taxa de contribuição pluviométrica por km de rede coletora\n",
        "taxa = (qcp/km) * 100\n",
        "print(f\"A taxa de contribuição é: {taxa:.2f}%\")"
      ],
      "metadata": {
        "colab": {
          "base_uri": "https://localhost:8080/"
        },
        "id": "fvEjwhcP5I1y",
        "outputId": "b18e3b64-517f-4017-c555-c276595c3602"
      },
      "execution_count": 1,
      "outputs": [
        {
          "output_type": "stream",
          "name": "stdout",
          "text": [
            "Digite a quantidade no período chuvoso em (mm):200\n",
            "Digite a quantidade no período seco em (mm):50\n",
            "Digite a extensão em quilômetros da rede coletora:500\n",
            "A contribuição pluviométrica do período chuvosos é:150.0 mm\n",
            "O percentual em relação ao tempo seco é: 300.00%\n",
            "A taxa de contribuição é: 30.00%\n"
          ]
        }
      ]
    },
    {
      "cell_type": "markdown",
      "source": [
        "Ponto 2.1 - Testando"
      ],
      "metadata": {
        "id": "UTBjg7Zw5N6b"
      }
    },
    {
      "cell_type": "code",
      "source": [
        "p = float(input(\"Digite a quantidade de precipitação em (mm):\"))\n",
        "seco = 50\n",
        "km = float(input(\"Digite a extensão em quilômetros da rede coletora:\"))\n",
        "qcp = (p - seco)\n",
        "print(f\"A contribuição pluviométrica nesse período é:{qcp}mm\")\n",
        "taxa = (qcp/km) * 100\n",
        "print(f\"A taxa de contribuição é: {taxa:.2f}%\")\n",
        "if p >= 200 or taxa >= 30.00:\n",
        " print(\"CUIDADO SUA ETE CORRE RISCO DE TRASNBORDAR!!!\")\n",
        "else:\n",
        "  print(\"Sua ete está dentro do limite aceitável\")"
      ],
      "metadata": {
        "colab": {
          "base_uri": "https://localhost:8080/"
        },
        "id": "YcEg-CzI5VPr",
        "outputId": "b083bc50-efc5-4d5e-ac89-b50325d93908"
      },
      "execution_count": 2,
      "outputs": [
        {
          "output_type": "stream",
          "name": "stdout",
          "text": [
            "Digite a quantidade de precipitação em (mm):200\n",
            "Digite a extensão em quilômetros da rede coletora:500\n",
            "A contribuição pluviométrica nesse período é:150.0mm\n",
            "A taxa de contribuição é: 30.00%\n",
            "CUIDADO SUA ETE CORRE RISCO DE TRASNBORDAR!!!\n"
          ]
        }
      ]
    }
  ]
}