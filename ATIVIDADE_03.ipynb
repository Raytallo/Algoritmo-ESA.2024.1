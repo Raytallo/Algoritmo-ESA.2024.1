{
  "nbformat": 4,
  "nbformat_minor": 0,
  "metadata": {
    "colab": {
      "provenance": [],
      "authorship_tag": "ABX9TyNn33XX57PHU6VO3N+/oRYa",
      "include_colab_link": true
    },
    "kernelspec": {
      "name": "python3",
      "display_name": "Python 3"
    },
    "language_info": {
      "name": "python"
    }
  },
  "cells": [
    {
      "cell_type": "markdown",
      "metadata": {
        "id": "view-in-github",
        "colab_type": "text"
      },
      "source": [
        "<a href=\"https://colab.research.google.com/github/Raytallo/Algoritmo-ESA.2024.1/blob/main/ATIVIDADE_03.ipynb\" target=\"_parent\"><img src=\"https://colab.research.google.com/assets/colab-badge.svg\" alt=\"Open In Colab\"/></a>"
      ]
    },
    {
      "cell_type": "markdown",
      "source": [
        "1. Calculadora de IMC (Índice de Massa Corporal):\n",
        "\n",
        "Solicite ao usuário seu peso e altura.\n",
        "Calcule o IMC usando a fórmula: IMC = peso / (altura * altura).\n",
        "Classifique o resultado em baixo peso, peso normal, sobrepeso ou obesidade, utilizando as faixas de IMC comuns."
      ],
      "metadata": {
        "id": "U6Du3ouPu5Hy"
      }
    },
    {
      "cell_type": "code",
      "source": [
        "#calculcadora de IMC\n",
        "\n",
        "peso = float(input(\"Digite seu peso\"))\n",
        "altura = float(input(\"Digite sua altura\"))\n",
        "\n",
        "imc = peso/(altura * altura)\n",
        "\n",
        "if imc < 18.5: classificacao = \"Abaixo do Peso\"\n",
        "elif imc < 25: classificacao = \"Peso Normal\"\n",
        "elif imc < 30: classificacao = \"Sobrepeso\"\n",
        "else: classificacao = \"Obesidade\"\n",
        "\n",
        "print(\"Seu imc é:\", imc)\n",
        "print(\"classificação\", classificacao)"
      ],
      "metadata": {
        "colab": {
          "base_uri": "https://localhost:8080/"
        },
        "id": "6MVy43B6u9dC",
        "outputId": "c85d0d96-85dd-4a3c-dcff-734c47437011"
      },
      "execution_count": 2,
      "outputs": [
        {
          "output_type": "stream",
          "name": "stdout",
          "text": [
            "Digite seu peso80\n",
            "Digite sua altura1.82\n",
            "Seu imc é: 24.151672503320853\n",
            "classificação Peso Normal\n"
          ]
        }
      ]
    },
    {
      "cell_type": "markdown",
      "source": [
        "2. Verificador de Número Par ou Ímpar:\n",
        "\n",
        "Solicite ao usuário um número inteiro.\n",
        "Verifique se o número é par ou ímpar.\n",
        "Exiba uma mensagem correspondente."
      ],
      "metadata": {
        "id": "a4mnrKPQu9zh"
      }
    },
    {
      "cell_type": "code",
      "source": [
        "#Verificador de número par ou ímpar\n",
        "\n",
        "num = int(input(\"Digite um número: \"))\n",
        "\n",
        "if num % 2 == 0:\n",
        "  print(\"O número é par\")\n",
        "else:\n",
        "  print(\"O número é ímpar\")"
      ],
      "metadata": {
        "colab": {
          "base_uri": "https://localhost:8080/"
        },
        "id": "2j5uCAYnvAyx",
        "outputId": "a02306f8-0f3b-4c98-f7cc-47abac2473a7"
      },
      "execution_count": 4,
      "outputs": [
        {
          "output_type": "stream",
          "name": "stdout",
          "text": [
            "Digite um número: 4\n",
            "O número é par\n"
          ]
        }
      ]
    },
    {
      "cell_type": "markdown",
      "source": [
        "3. Conversor de Temperatura:\n",
        "\n",
        "Solicite ao usuário uma temperatura em Celsius.\n",
        "Converta a temperatura para Fahrenheit usando a fórmula: F = C * 9/5 + 32.\n",
        "Exiba o resultado da conversão."
      ],
      "metadata": {
        "id": "El7LE_7GvBG6"
      }
    },
    {
      "cell_type": "code",
      "source": [
        "#Conversor de Temperatura\n",
        "\n",
        "c = float(input(\"Digite o valor em celsius\"))\n",
        "\n",
        "f = c * 9/5 + 32\n",
        "\n",
        "print(\"O valor em Fahrenheit: \", f)"
      ],
      "metadata": {
        "colab": {
          "base_uri": "https://localhost:8080/"
        },
        "id": "nA87MWFUvH0Q",
        "outputId": "d9bc474e-deb4-4386-e5d9-3c80d9c948ae"
      },
      "execution_count": 6,
      "outputs": [
        {
          "output_type": "stream",
          "name": "stdout",
          "text": [
            "Digite o valor em celsius30\n",
            "O valor em Fahrenheit:  86.0\n"
          ]
        }
      ]
    },
    {
      "cell_type": "markdown",
      "source": [
        "4. Tabuada de Multiplicação:\n",
        "\n",
        "Solicite ao usuário um número.\n",
        "Exiba a tabuada de multiplicação desse número de 1 a 10."
      ],
      "metadata": {
        "id": "luVShq33vJ3g"
      }
    },
    {
      "cell_type": "code",
      "source": [
        "#Tabuada de Multiplicação\n",
        "\n",
        "num = int(input(\"Digite um número\"))\n",
        "\n",
        "for r in range(1, 11):\n",
        "  resultado = num * r\n",
        "  print(f\"{num} x {r} = {resultado}\")"
      ],
      "metadata": {
        "colab": {
          "base_uri": "https://localhost:8080/"
        },
        "id": "9Aj-0xvOvN3_",
        "outputId": "8c3da589-9244-418f-c071-2e0d6ebcbfe4"
      },
      "execution_count": 7,
      "outputs": [
        {
          "output_type": "stream",
          "name": "stdout",
          "text": [
            "Digite um número7\n",
            "7 x 1 = 7\n",
            "7 x 2 = 14\n",
            "7 x 3 = 21\n",
            "7 x 4 = 28\n",
            "7 x 5 = 35\n",
            "7 x 6 = 42\n",
            "7 x 7 = 49\n",
            "7 x 8 = 56\n",
            "7 x 9 = 63\n",
            "7 x 10 = 70\n"
          ]
        }
      ]
    },
    {
      "cell_type": "markdown",
      "source": [
        "5. Cálculo de Média Ponderada:\n",
        "\n",
        "Solicite ao usuário três notas e seus respectivos pesos.\n",
        "Calcule a média ponderada das notas.\n",
        "Exiba o resultado da média.\n"
      ],
      "metadata": {
        "id": "xvmhVtMnvOH4"
      }
    },
    {
      "cell_type": "code",
      "source": [
        "#Cálculo de Média Ponderada\n",
        "\n",
        "n1 = float(input(\"Digite nota 1:\"))\n",
        "peso1 = float(input(\"Digite peso da nota 1:\"))\n",
        "\n",
        "n2 = float(input(\"Digite nota 2:\"))\n",
        "peso2 = float(input(\"Digite peso da nota 2:\"))\n",
        "\n",
        "n3 = float(input(\"Digite nota 3:\"))\n",
        "peso3 = float(input(\"Digite peso da nota 3:\"))\n",
        "\n",
        "media_ponderada = (n1 * peso1 + n2 * peso2 + n3 * peso3) / (peso1 + peso2 + peso3)\n",
        "\n",
        "print(\"A média ponderada é:\", media_ponderada)"
      ],
      "metadata": {
        "colab": {
          "base_uri": "https://localhost:8080/"
        },
        "id": "NQ_yhASpvSWA",
        "outputId": "4fd4db50-fef4-48f5-9083-fcb809ccfdb3"
      },
      "execution_count": 10,
      "outputs": [
        {
          "output_type": "stream",
          "name": "stdout",
          "text": [
            "Digite nota 1:10\n",
            "Digite peso da nota 1:2\n",
            "Digite nota 2:10\n",
            "Digite peso da nota 2:2\n",
            "Digite nota 3:10\n",
            "Digite peso da nota 3:2\n",
            "A média ponderada é: 10.0\n"
          ]
        }
      ]
    },
    {
      "cell_type": "markdown",
      "source": [
        "6. Verificador de Ano Bissexto:\n",
        "\n",
        "Solicite ao usuário um ano.\n",
        "Verifique se o ano é bissexto.\n",
        "Exiba uma mensagem correspondente."
      ],
      "metadata": {
        "id": "tw9l-IY3vSmI"
      }
    },
    {
      "cell_type": "code",
      "source": [
        "#Verificador de ano bissexto\n",
        "\n",
        "ano = int(input(\"Digite um ano: \"))\n",
        "\n",
        "if ano % 4 == 0:\n",
        "  if ano % 100 == 0:\n",
        "    if ano % 400 == 0:\n",
        "      print(ano, \"É um ano bissexto\")\n",
        "    else:\n",
        "      print(ano, \"Não é um ano bissexto\")\n",
        "  else:\n",
        "      print(ano, \"É um ano bissexto\")\n",
        "else:\n",
        "      print(ano, \"Não é um ano bissexto\")\n",
        ""
      ],
      "metadata": {
        "colab": {
          "base_uri": "https://localhost:8080/"
        },
        "id": "DDEP9YpgvZDR",
        "outputId": "85be9bdf-d894-470d-d068-e4804271a95b"
      },
      "execution_count": 14,
      "outputs": [
        {
          "output_type": "stream",
          "name": "stdout",
          "text": [
            "Digite um ano: 2020\n",
            "2020 É um ano bissexto\n"
          ]
        }
      ]
    },
    {
      "cell_type": "markdown",
      "source": [
        "7. Contador de Vogais em uma String:\n",
        "\n",
        "Solicite ao usuário uma string.\n",
        "Conte e exiba o número de vogais na string (a, e, i, o, u)."
      ],
      "metadata": {
        "id": "wxzNU31MvZUw"
      }
    },
    {
      "cell_type": "code",
      "source": [
        "#Contador de Vogais em uma String\n",
        "\n",
        "string = input(\"Digite uma String: \")\n",
        "vogais = [\"a\", \"e\", \"i\", \"o\", \"u\"]\n",
        "contagem = 0\n",
        "\n",
        "for caractere in string:\n",
        "  if caractere.lower() in vogais:\n",
        "    contagem +=1\n",
        "\n",
        "print(\"O número e vogais na String é: \", contagem)\n"
      ],
      "metadata": {
        "colab": {
          "base_uri": "https://localhost:8080/"
        },
        "id": "EZ-AB446vbuY",
        "outputId": "a7f95f1d-8a7a-4651-93a7-0457f32a1a89"
      },
      "execution_count": 17,
      "outputs": [
        {
          "output_type": "stream",
          "name": "stdout",
          "text": [
            "Digite uma String: abacaxi\n",
            "O número e vogais na String é:  4\n"
          ]
        }
      ]
    },
    {
      "cell_type": "markdown",
      "source": [
        "8. Calculadora de Fatorial:\n",
        "\n",
        "Solicite ao usuário um número inteiro positivo.\n",
        "Calcule e exiba o fatorial desse número."
      ],
      "metadata": {
        "id": "iU4B-h19vb44"
      }
    },
    {
      "cell_type": "code",
      "source": [
        "#Calculadora de Fatorial\n",
        "\n",
        "num = int (input(\"Digite um número: \"))\n",
        "\n",
        "if num < 0:\n",
        "  print(\"O número deve ser positivo\")\n",
        "else:\n",
        "  resultado = 1\n",
        "  for r in range(1, num + 1):\n",
        "    resultado *= r\n",
        "  print(\"O fatorial de\", num, \"É\", resultado)\n"
      ],
      "metadata": {
        "colab": {
          "base_uri": "https://localhost:8080/"
        },
        "id": "ZX5p2RGwvffJ",
        "outputId": "3d8662c6-16f5-464f-c2b7-50636ce41b70"
      },
      "execution_count": 20,
      "outputs": [
        {
          "output_type": "stream",
          "name": "stdout",
          "text": [
            "Digite um número: 9\n",
            "O fatorial de 9 É 362880\n"
          ]
        }
      ]
    },
    {
      "cell_type": "markdown",
      "source": [
        "9. Soma dos Números Pares em um Intervalo:\n",
        "\n",
        "Solicite ao usuário dois números inteiros que representam um intervalo.\n",
        "Calcule e exiba a soma de todos os números pares dentro desse intervalo."
      ],
      "metadata": {
        "id": "PcspPni6vfoX"
      }
    },
    {
      "cell_type": "code",
      "source": [
        "#Soma dos Números Pares em um Intervalo\n",
        "\n",
        "inicio = int(input(\"Digite o número do inicial do intervalo: \"))\n",
        "fim = int(input(\"Digite o número final do intervalo: \"))\n",
        "print(\"LEMBRE-SE VOCÊ DEFINIU O INTERVALO\")\n",
        "\n",
        "soma_dos_pares = 0\n",
        "for num in range(inicio, fim + 1 ):\n",
        "  if num % 2 == 0:\n",
        "    soma_dos_pares += num\n",
        "print(\"A soma de todos os números dentro do intervalo é:\", soma_dos_pares)"
      ],
      "metadata": {
        "colab": {
          "base_uri": "https://localhost:8080/"
        },
        "id": "9ekqjYNuvkWZ",
        "outputId": "9eef734f-527c-4341-91c9-dcb87d96758b"
      },
      "execution_count": 25,
      "outputs": [
        {
          "output_type": "stream",
          "name": "stdout",
          "text": [
            "Digite o número do inicial do intervalo: 1\n",
            "Digite o número final do intervalo: 5\n",
            "LEMBRE-SE VOCÊ DEFINIU O INTERVALO\n",
            "A soma de todos os números dentro do intervalo é: 6\n"
          ]
        }
      ]
    },
    {
      "cell_type": "markdown",
      "source": [
        "10. Verificador de Número Primo:\n",
        "\n",
        "Solicite ao usuário um número inteiro positivo.\n",
        "Verifique se o número é primo.\n",
        "Exiba uma mensagem correspondente."
      ],
      "metadata": {
        "id": "qapbkWnevkfo"
      }
    },
    {
      "cell_type": "code",
      "source": [
        "#Verificador de Número Primo\n",
        "\n",
        "import math\n",
        "\n",
        "num = int(input(\"Digite um número positivo: \"))\n",
        "\n",
        "if num <= 1:\n",
        "  print(\"O número não é primo: \")\n",
        "else:\n",
        "  e_primo = True\n",
        "  for r in range(2, int(math.sqrt(num))+ 1):\n",
        "    if num % r == 0:\n",
        "      e_primo = False\n",
        "      break\n",
        "  if e_primo:\n",
        "    print(\"O número é primo\")\n",
        "  else:\n",
        "    print(\"O número não é primo\")\n"
      ],
      "metadata": {
        "colab": {
          "base_uri": "https://localhost:8080/"
        },
        "id": "ZzVmN6d4votx",
        "outputId": "c65f3b07-0241-4573-ab01-a1d92d63f4c5"
      },
      "execution_count": 28,
      "outputs": [
        {
          "output_type": "stream",
          "name": "stdout",
          "text": [
            "Digite um número positivo: 6\n",
            "O número não é primo\n"
          ]
        }
      ]
    }
  ]
}