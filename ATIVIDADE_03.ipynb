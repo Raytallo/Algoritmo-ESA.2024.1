{
  "nbformat": 4,
  "nbformat_minor": 0,
  "metadata": {
    "colab": {
      "provenance": [],
      "authorship_tag": "ABX9TyNmd1e5s4qzjtkXJuM4gCHp",
      "include_colab_link": true
    },
    "kernelspec": {
      "name": "python3",
      "display_name": "Python 3"
    },
    "language_info": {
      "name": "python"
    }
  },
  "cells": [
    {
      "cell_type": "markdown",
      "metadata": {
        "id": "view-in-github",
        "colab_type": "text"
      },
      "source": [
        "<a href=\"https://colab.research.google.com/github/Raytallo/Algoritmo-ESA.2024.1/blob/main/ATIVIDADE_03.ipynb\" target=\"_parent\"><img src=\"https://colab.research.google.com/assets/colab-badge.svg\" alt=\"Open In Colab\"/></a>"
      ]
    },
    {
      "cell_type": "markdown",
      "source": [
        "1. Calculadora de IMC (Índice de Massa Corporal):\n",
        "\n",
        "Solicite ao usuário seu peso e altura.\n",
        "Calcule o IMC usando a fórmula: IMC = peso / (altura * altura).\n",
        "Classifique o resultado em baixo peso, peso normal, sobrepeso ou obesidade, utilizando as faixas de IMC comuns."
      ],
      "metadata": {
        "id": "U6Du3ouPu5Hy"
      }
    },
    {
      "cell_type": "code",
      "source": [],
      "metadata": {
        "id": "6MVy43B6u9dC"
      },
      "execution_count": null,
      "outputs": []
    },
    {
      "cell_type": "markdown",
      "source": [
        "2. Verificador de Número Par ou Ímpar:\n",
        "\n",
        "Solicite ao usuário um número inteiro.\n",
        "Verifique se o número é par ou ímpar.\n",
        "Exiba uma mensagem correspondente."
      ],
      "metadata": {
        "id": "a4mnrKPQu9zh"
      }
    },
    {
      "cell_type": "code",
      "source": [],
      "metadata": {
        "id": "2j5uCAYnvAyx"
      },
      "execution_count": null,
      "outputs": []
    },
    {
      "cell_type": "markdown",
      "source": [
        "3. Conversor de Temperatura:\n",
        "\n",
        "Solicite ao usuário uma temperatura em Celsius.\n",
        "Converta a temperatura para Fahrenheit usando a fórmula: F = C * 9/5 + 32.\n",
        "Exiba o resultado da conversão."
      ],
      "metadata": {
        "id": "El7LE_7GvBG6"
      }
    },
    {
      "cell_type": "code",
      "source": [],
      "metadata": {
        "id": "nA87MWFUvH0Q"
      },
      "execution_count": null,
      "outputs": []
    },
    {
      "cell_type": "markdown",
      "source": [
        "4. Tabuada de Multiplicação:\n",
        "\n",
        "Solicite ao usuário um número.\n",
        "Exiba a tabuada de multiplicação desse número de 1 a 10."
      ],
      "metadata": {
        "id": "luVShq33vJ3g"
      }
    },
    {
      "cell_type": "code",
      "source": [],
      "metadata": {
        "id": "9Aj-0xvOvN3_"
      },
      "execution_count": null,
      "outputs": []
    },
    {
      "cell_type": "markdown",
      "source": [
        "5. Cálculo de Média Ponderada:\n",
        "\n",
        "Solicite ao usuário três notas e seus respectivos pesos.\n",
        "Calcule a média ponderada das notas.\n",
        "Exiba o resultado da média.\n"
      ],
      "metadata": {
        "id": "xvmhVtMnvOH4"
      }
    },
    {
      "cell_type": "code",
      "source": [],
      "metadata": {
        "id": "NQ_yhASpvSWA"
      },
      "execution_count": null,
      "outputs": []
    },
    {
      "cell_type": "markdown",
      "source": [
        "6. Verificador de Ano Bissexto:\n",
        "\n",
        "Solicite ao usuário um ano.\n",
        "Verifique se o ano é bissexto.\n",
        "Exiba uma mensagem correspondente."
      ],
      "metadata": {
        "id": "tw9l-IY3vSmI"
      }
    },
    {
      "cell_type": "code",
      "source": [],
      "metadata": {
        "id": "DDEP9YpgvZDR"
      },
      "execution_count": null,
      "outputs": []
    },
    {
      "cell_type": "markdown",
      "source": [
        "7. Contador de Vogais em uma String:\n",
        "\n",
        "Solicite ao usuário uma string.\n",
        "Conte e exiba o número de vogais na string (a, e, i, o, u)."
      ],
      "metadata": {
        "id": "wxzNU31MvZUw"
      }
    },
    {
      "cell_type": "code",
      "source": [],
      "metadata": {
        "id": "EZ-AB446vbuY"
      },
      "execution_count": null,
      "outputs": []
    },
    {
      "cell_type": "markdown",
      "source": [
        "8. Calculadora de Fatorial:\n",
        "\n",
        "Solicite ao usuário um número inteiro positivo.\n",
        "Calcule e exiba o fatorial desse número."
      ],
      "metadata": {
        "id": "iU4B-h19vb44"
      }
    },
    {
      "cell_type": "code",
      "source": [],
      "metadata": {
        "id": "ZX5p2RGwvffJ"
      },
      "execution_count": null,
      "outputs": []
    },
    {
      "cell_type": "markdown",
      "source": [
        "9. Soma dos Números Pares em um Intervalo:\n",
        "\n",
        "Solicite ao usuário dois números inteiros que representam um intervalo.\n",
        "Calcule e exiba a soma de todos os números pares dentro desse intervalo."
      ],
      "metadata": {
        "id": "PcspPni6vfoX"
      }
    },
    {
      "cell_type": "code",
      "source": [],
      "metadata": {
        "id": "9ekqjYNuvkWZ"
      },
      "execution_count": null,
      "outputs": []
    },
    {
      "cell_type": "markdown",
      "source": [
        "10. Verificador de Número Primo:\n",
        "\n",
        "Solicite ao usuário um número inteiro positivo.\n",
        "Verifique se o número é primo.\n",
        "Exiba uma mensagem correspondente."
      ],
      "metadata": {
        "id": "qapbkWnevkfo"
      }
    },
    {
      "cell_type": "code",
      "source": [],
      "metadata": {
        "id": "ZzVmN6d4votx"
      },
      "execution_count": null,
      "outputs": []
    }
  ]
}