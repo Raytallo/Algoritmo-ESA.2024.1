{
  "nbformat": 4,
  "nbformat_minor": 0,
  "metadata": {
    "colab": {
      "provenance": [],
      "authorship_tag": "ABX9TyNG2j1h9XIruxCm2tq+Vxpm",
      "include_colab_link": true
    },
    "kernelspec": {
      "name": "python3",
      "display_name": "Python 3"
    },
    "language_info": {
      "name": "python"
    }
  },
  "cells": [
    {
      "cell_type": "markdown",
      "metadata": {
        "id": "view-in-github",
        "colab_type": "text"
      },
      "source": [
        "<a href=\"https://colab.research.google.com/github/Raytallo/Algoritmo-ESA.2024.1/blob/main/ATIVIDADE_03.ipynb\" target=\"_parent\"><img src=\"https://colab.research.google.com/assets/colab-badge.svg\" alt=\"Open In Colab\"/></a>"
      ]
    },
    {
      "cell_type": "markdown",
      "source": [
        "1. Calculadora de IMC (Índice de Massa Corporal):\n",
        "\n",
        "Solicite ao usuário seu peso e altura.\n",
        "Calcule o IMC usando a fórmula: IMC = peso / (altura * altura).\n",
        "Classifique o resultado em baixo peso, peso normal, sobrepeso ou obesidade, utilizando as faixas de IMC comuns."
      ],
      "metadata": {
        "id": "U6Du3ouPu5Hy"
      }
    },
    {
      "cell_type": "code",
      "source": [
        "#calculcadora de IMC\n",
        "\n",
        "peso = float(input(\"Digite seu peso: \"))\n",
        "altura = float(input(\"Digite sua altura: \"))\n",
        "\n",
        "imc = peso/(altura * altura)\n",
        "\n",
        "if imc < 18.5: classificacao = \"Abaixo do Peso\"\n",
        "elif imc < 25: classificacao = \"Peso Normal\"\n",
        "elif imc < 30: classificacao = \"Sobrepeso\"\n",
        "else: classificacao = \"Obesidade\"\n",
        "\n",
        "print(\"Seu imc é:\", imc)\n",
        "print(\"classificação:\", classificacao)"
      ],
      "metadata": {
        "colab": {
          "base_uri": "https://localhost:8080/"
        },
        "id": "6MVy43B6u9dC",
        "outputId": "b7ad03d4-1e19-4a7d-fc3d-4d9fed98cce7"
      },
      "execution_count": null,
      "outputs": [
        {
          "output_type": "stream",
          "name": "stdout",
          "text": [
            "Digite seu peso: 80\n",
            "Digite sua altura: 1.60\n",
            "Seu imc é: 31.249999999999993\n",
            "classificação: Obesidade\n"
          ]
        }
      ]
    },
    {
      "cell_type": "markdown",
      "source": [
        "2. Verificador de Número Par ou Ímpar:\n",
        "\n",
        "Solicite ao usuário um número inteiro.\n",
        "Verifique se o número é par ou ímpar.\n",
        "Exiba uma mensagem correspondente."
      ],
      "metadata": {
        "id": "a4mnrKPQu9zh"
      }
    },
    {
      "cell_type": "code",
      "source": [
        "#Verificador de número par ou ímpar\n",
        "\n",
        "num = int(input(\"Digite um número: \"))\n",
        "\n",
        "if num % 2 == 0:\n",
        "  print(\"O número é par\")\n",
        "else:\n",
        "  print(\"O número é ímpar\")"
      ],
      "metadata": {
        "colab": {
          "base_uri": "https://localhost:8080/"
        },
        "id": "2j5uCAYnvAyx",
        "outputId": "84e9ab9f-ecba-467f-e5ee-4b8bd09ab39a"
      },
      "execution_count": null,
      "outputs": [
        {
          "output_type": "stream",
          "name": "stdout",
          "text": [
            "Digite um número: 2\n",
            "O número é par\n"
          ]
        }
      ]
    },
    {
      "cell_type": "markdown",
      "source": [
        "3. Conversor de Temperatura:\n",
        "\n",
        "Solicite ao usuário uma temperatura em Celsius.\n",
        "Converta a temperatura para Fahrenheit usando a fórmula: F = C * 9/5 + 32.\n",
        "Exiba o resultado da conversão."
      ],
      "metadata": {
        "id": "El7LE_7GvBG6"
      }
    },
    {
      "cell_type": "code",
      "source": [
        "#Conversor de Temperatura\n",
        "\n",
        "c = float(input(\"Digite o valor em celsius: \"))\n",
        "\n",
        "f = c * 9/5 + 32\n",
        "\n",
        "print(\"O valor em Fahrenheit: \", f)"
      ],
      "metadata": {
        "colab": {
          "base_uri": "https://localhost:8080/"
        },
        "id": "nA87MWFUvH0Q",
        "outputId": "a81be399-3752-4eb9-a861-60a23b00f64e"
      },
      "execution_count": null,
      "outputs": [
        {
          "output_type": "stream",
          "name": "stdout",
          "text": [
            "Digite o valor em celsius: 36\n",
            "O valor em Fahrenheit:  96.8\n"
          ]
        }
      ]
    },
    {
      "cell_type": "markdown",
      "source": [
        "4. Tabuada de Multiplicação:\n",
        "\n",
        "Solicite ao usuário um número.\n",
        "Exiba a tabuada de multiplicação desse número de 1 a 10."
      ],
      "metadata": {
        "id": "luVShq33vJ3g"
      }
    },
    {
      "cell_type": "code",
      "source": [
        "#Tabuada de Multiplicação\n",
        "\n",
        "num = int(input(\"Digite um número: \"))\n",
        "\n",
        "for r in range(1, 11):\n",
        "  resultado = num * r\n",
        "  print(f\"{num} x {r} = {resultado}\")"
      ],
      "metadata": {
        "colab": {
          "base_uri": "https://localhost:8080/"
        },
        "id": "9Aj-0xvOvN3_",
        "outputId": "3a8472b0-4111-497a-ae85-14cff9995afd"
      },
      "execution_count": null,
      "outputs": [
        {
          "output_type": "stream",
          "name": "stdout",
          "text": [
            "Digite um número: 8\n",
            "8 x 1 = 8\n",
            "8 x 2 = 16\n",
            "8 x 3 = 24\n",
            "8 x 4 = 32\n",
            "8 x 5 = 40\n",
            "8 x 6 = 48\n",
            "8 x 7 = 56\n",
            "8 x 8 = 64\n",
            "8 x 9 = 72\n",
            "8 x 10 = 80\n"
          ]
        }
      ]
    },
    {
      "cell_type": "markdown",
      "source": [
        "5. Cálculo de Média Ponderada:\n",
        "\n",
        "Solicite ao usuário três notas e seus respectivos pesos.\n",
        "Calcule a média ponderada das notas.\n",
        "Exiba o resultado da média.\n"
      ],
      "metadata": {
        "id": "xvmhVtMnvOH4"
      }
    },
    {
      "cell_type": "code",
      "source": [
        "#Cálculo de Média Ponderada\n",
        "\n",
        "n1 = float(input(\"Digite nota 1:\"))\n",
        "peso1 = float(input(\"Digite peso da nota 1:\"))\n",
        "\n",
        "n2 = float(input(\"Digite nota 2:\"))\n",
        "peso2 = float(input(\"Digite peso da nota 2:\"))\n",
        "\n",
        "n3 = float(input(\"Digite nota 3:\"))\n",
        "peso3 = float(input(\"Digite peso da nota 3:\"))\n",
        "\n",
        "media_ponderada = (n1 * peso1 + n2 * peso2 + n3 * peso3) / (peso1 + peso2 + peso3)\n",
        "\n",
        "print(\"A média ponderada é:\", media_ponderada)"
      ],
      "metadata": {
        "colab": {
          "base_uri": "https://localhost:8080/"
        },
        "id": "NQ_yhASpvSWA",
        "outputId": "19828adb-43bd-4654-f3b2-938f1bbe6634"
      },
      "execution_count": null,
      "outputs": [
        {
          "output_type": "stream",
          "name": "stdout",
          "text": [
            "Digite nota 1:50\n",
            "Digite peso da nota 1:3\n",
            "Digite nota 2:40\n",
            "Digite peso da nota 2:2\n",
            "Digite nota 3:75\n",
            "Digite peso da nota 3:1\n",
            "A média ponderada é: 50.833333333333336\n"
          ]
        }
      ]
    },
    {
      "cell_type": "markdown",
      "source": [
        "6. Verificador de Ano Bissexto:\n",
        "\n",
        "Solicite ao usuário um ano.\n",
        "Verifique se o ano é bissexto.\n",
        "Exiba uma mensagem correspondente."
      ],
      "metadata": {
        "id": "tw9l-IY3vSmI"
      }
    },
    {
      "cell_type": "code",
      "source": [
        "#Verificador de ano bissexto\n",
        "\n",
        "ano = int(input(\"Digite um ano: \"))\n",
        "\n",
        "if ano % 4 == 0:\n",
        "  if ano % 100 == 0:\n",
        "    if ano % 400 == 0:\n",
        "      print(ano, \"É um ano bissexto\")\n",
        "    else:\n",
        "      print(ano, \"Não é um ano bissexto\")\n",
        "  else:\n",
        "      print(ano, \"É um ano bissexto\")\n",
        "else:\n",
        "      print(ano, \"Não é um ano bissexto\")\n"
      ],
      "metadata": {
        "colab": {
          "base_uri": "https://localhost:8080/"
        },
        "id": "DDEP9YpgvZDR",
        "outputId": "adc8ebec-c15d-463d-c786-d68a9470a1d3"
      },
      "execution_count": null,
      "outputs": [
        {
          "output_type": "stream",
          "name": "stdout",
          "text": [
            "Digite um ano: 1735\n",
            "1735 Não é um ano bissexto\n"
          ]
        }
      ]
    },
    {
      "cell_type": "markdown",
      "source": [
        "7. Contador de Vogais em uma String:\n",
        "\n",
        "Solicite ao usuário uma string.\n",
        "Conte e exiba o número de vogais na string (a, e, i, o, u)."
      ],
      "metadata": {
        "id": "wxzNU31MvZUw"
      }
    },
    {
      "cell_type": "code",
      "source": [
        "\n",
        "#Contador de Vogais em uma String\n",
        "\n",
        "string = input(\"Digite uma String: \")\n",
        "vogais = [\"a\", \"e\", \"i\", \"o\", \"u\"]\n",
        "contagem = 0\n",
        "\n",
        "for caractere in string:\n",
        "  if caractere.lower() in vogais:\n",
        "    contagem +=1\n",
        "\n",
        "print(\"O número e vogais na String é: \", contagem)\n"
      ],
      "metadata": {
        "colab": {
          "base_uri": "https://localhost:8080/"
        },
        "id": "EZ-AB446vbuY",
        "outputId": "121d01ea-6d6f-4cd7-a692-7561a831a2f1"
      },
      "execution_count": null,
      "outputs": [
        {
          "output_type": "stream",
          "name": "stdout",
          "text": [
            "Digite uma String: jumentinho\n",
            "O número e vogais na String é:  4\n"
          ]
        }
      ]
    },
    {
      "cell_type": "markdown",
      "source": [
        "8. Calculadora de Fatorial:\n",
        "\n",
        "Solicite ao usuário um número inteiro positivo.\n",
        "Calcule e exiba o fatorial desse número."
      ],
      "metadata": {
        "id": "iU4B-h19vb44"
      }
    },
    {
      "cell_type": "code",
      "source": [
        "#Calculadora de Fatorial\n",
        "\n",
        "num = int (input(\"Digite um número: \"))\n",
        "\n",
        "if num < 0:\n",
        "  print(\"O número deve ser positivo\")\n",
        "else:\n",
        "  resultado = 1\n",
        "  for r in range(1, num + 1):\n",
        "    resultado *= r\n",
        "  print(\"O fatorial de\", num, \"É\", resultado)\n"
      ],
      "metadata": {
        "colab": {
          "base_uri": "https://localhost:8080/"
        },
        "id": "ZX5p2RGwvffJ",
        "outputId": "50e694cb-05aa-48e4-9ce7-48c96c5aeded"
      },
      "execution_count": null,
      "outputs": [
        {
          "output_type": "stream",
          "name": "stdout",
          "text": [
            "Digite um número: 3\n",
            "O fatorial de 3 É 6\n"
          ]
        }
      ]
    },
    {
      "cell_type": "markdown",
      "source": [
        "9. Soma dos Números Pares em um Intervalo:\n",
        "\n",
        "Solicite ao usuário dois números inteiros que representam um intervalo.\n",
        "Calcule e exiba a soma de todos os números pares dentro desse intervalo."
      ],
      "metadata": {
        "id": "PcspPni6vfoX"
      }
    },
    {
      "cell_type": "code",
      "source": [
        "#Soma dos Números Pares em um Intervalo\n",
        "\n",
        "inicio = int(input(\"Digite o número do inicial do intervalo: \"))\n",
        "fim = int(input(\"Digite o número final do intervalo: \"))\n",
        "print(\"LEMBRE-SE VOCÊ DEFINIU O INTERVALO\")\n",
        "\n",
        "soma_dos_pares = 0\n",
        "for num in range(inicio, fim + 1 ):\n",
        "  if num % 2 == 0:\n",
        "    soma_dos_pares += num\n",
        "print(\"A soma de todos os números pares dentro do intervalo é:\", soma_dos_pares)"
      ],
      "metadata": {
        "colab": {
          "base_uri": "https://localhost:8080/"
        },
        "id": "9ekqjYNuvkWZ",
        "outputId": "9b564bd2-c051-48e9-d21f-f39ee1a35822"
      },
      "execution_count": null,
      "outputs": [
        {
          "output_type": "stream",
          "name": "stdout",
          "text": [
            "Digite o número do inicial do intervalo: 11\n",
            "Digite o número final do intervalo: 57\n",
            "LEMBRE-SE VOCÊ DEFINIU O INTERVALO\n",
            "A soma de todos os números pares dentro do intervalo é: 782\n"
          ]
        }
      ]
    },
    {
      "cell_type": "markdown",
      "source": [
        "10. Verificador de Número Primo:\n",
        "\n",
        "Solicite ao usuário um número inteiro positivo.\n",
        "Verifique se o número é primo.\n",
        "Exiba uma mensagem correspondente."
      ],
      "metadata": {
        "id": "qapbkWnevkfo"
      }
    },
    {
      "cell_type": "code",
      "source": [
        "#Verificador de Número Primo\n",
        "\n",
        "import math\n",
        "\n",
        "num = int(input(\"Digite um número positivo: \"))\n",
        "\n",
        "if num <= 1:\n",
        "  print(\"O número não é primo: \")\n",
        "else:\n",
        "  e_primo = True\n",
        "  for r in range(2, int(math.sqrt(num))+ 1):\n",
        "    if num % r == 0:\n",
        "      e_primo = False\n",
        "      break\n",
        "  if e_primo:\n",
        "    print(\"O número é primo\")\n",
        "  else:\n",
        "    print(\"O número não é primo\")\n"
      ],
      "metadata": {
        "colab": {
          "base_uri": "https://localhost:8080/"
        },
        "id": "ZzVmN6d4votx",
        "outputId": "3c6541d0-714b-4e47-e8e3-3a7906a601f4"
      },
      "execution_count": null,
      "outputs": [
        {
          "output_type": "stream",
          "name": "stdout",
          "text": [
            "Digite um número positivo: 523\n",
            "O número é primo\n"
          ]
        }
      ]
    }
  ]
}