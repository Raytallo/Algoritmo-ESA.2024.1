{
  "nbformat": 4,
  "nbformat_minor": 0,
  "metadata": {
    "colab": {
      "provenance": [],
      "authorship_tag": "ABX9TyPHHVZL7BkiycMgLVD7By8F",
      "include_colab_link": true
    },
    "kernelspec": {
      "name": "python3",
      "display_name": "Python 3"
    },
    "language_info": {
      "name": "python"
    }
  },
  "cells": [
    {
      "cell_type": "markdown",
      "metadata": {
        "id": "view-in-github",
        "colab_type": "text"
      },
      "source": [
        "<a href=\"https://colab.research.google.com/github/Raytallo/Algoritmo-ESA.2024.1/blob/main/Untitled3.ipynb\" target=\"_parent\"><img src=\"https://colab.research.google.com/assets/colab-badge.svg\" alt=\"Open In Colab\"/></a>"
      ]
    },
    {
      "cell_type": "code",
      "source": [
        "print(\"Calculadora de média ponderada do IFRN\")\n",
        "#Float, tipagem explícita, para garantir número fracionário\n",
        "\n",
        "\n",
        "\n",
        "n1 = float( input(\"Digite a nota 1: \") )\n",
        "if n1 < 0 or n1 > 10:\n",
        "  print(\"Digite um numero entre 0 e 10 para nota 1\")\n",
        "  exit()\n",
        "p1 = float(input(\"Digite o peso da nota 1: \"))\n",
        "\n",
        "n2 = float( input(\"Digite a nota 2: \") )\n",
        "if n2 < 0 or n2 > 10:\n",
        "  print(\"Digite um numero entre 0 e 10 para nota 2\")\n",
        "  exit()\n",
        "p2 = float(input(\"Digite o peso da nota 2: \"))\n",
        "\n",
        "#calculo de media ponderada\n",
        "media = (n1 * p1 + n2 * p2) / 5\n",
        "\n",
        "print(f\"A média ponderada das notas é: {media:.2f}\")\n",
        "\n",
        "#apresentar se o aluno foi aprovado ou não\n",
        "if media >= 6:\n",
        "  print(\"Aprovado\")\n",
        "else:\n",
        "  if n1 >= 4 and n2 >=4:\n",
        "    print(\"Prova final\")\n",
        "  else:\n",
        "    print(\"Reprovado\")\n",
        ""
      ],
      "metadata": {
        "colab": {
          "base_uri": "https://localhost:8080/",
          "height": 106
        },
        "id": "aB-25PDkEBNk",
        "outputId": "e703c927-68e2-419c-8738-a3f1ede9aad3"
      },
      "execution_count": 2,
      "outputs": [
        {
          "output_type": "error",
          "ename": "SyntaxError",
          "evalue": "invalid syntax. Maybe you meant '==' or ':=' instead of '='? (<ipython-input-2-e3a2199e4f4d>, line 11)",
          "traceback": [
            "\u001b[0;36m  File \u001b[0;32m\"<ipython-input-2-e3a2199e4f4d>\"\u001b[0;36m, line \u001b[0;32m11\u001b[0m\n\u001b[0;31m    elif p1 = float(input(\"Digite o peso da nota 1: \"))\u001b[0m\n\u001b[0m         ^\u001b[0m\n\u001b[0;31mSyntaxError\u001b[0m\u001b[0;31m:\u001b[0m invalid syntax. Maybe you meant '==' or ':=' instead of '='?\n"
          ]
        }
      ]
    }
  ]
}