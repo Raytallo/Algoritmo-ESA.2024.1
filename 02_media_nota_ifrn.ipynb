{
  "nbformat": 4,
  "nbformat_minor": 0,
  "metadata": {
    "colab": {
      "provenance": [],
      "authorship_tag": "ABX9TyN/6IJN4R3s1SF3uwADYxvZ",
      "include_colab_link": true
    },
    "kernelspec": {
      "name": "python3",
      "display_name": "Python 3"
    },
    "language_info": {
      "name": "python"
    }
  },
  "cells": [
    {
      "cell_type": "markdown",
      "metadata": {
        "id": "view-in-github",
        "colab_type": "text"
      },
      "source": [
        "<a href=\"https://colab.research.google.com/github/Raytallo/Algoritmo-ESA.2024.1/blob/main/02_media_nota_ifrn.ipynb\" target=\"_parent\"><img src=\"https://colab.research.google.com/assets/colab-badge.svg\" alt=\"Open In Colab\"/></a>"
      ]
    },
    {
      "cell_type": "code",
      "source": [],
      "metadata": {
        "id": "K1fRqH8syIIz"
      },
      "execution_count": null,
      "outputs": []
    },
    {
      "cell_type": "code",
      "execution_count": 14,
      "metadata": {
        "colab": {
          "base_uri": "https://localhost:8080/"
        },
        "id": "1PFnUCPVxPFl",
        "outputId": "62e977d6-4927-4a4c-f1ac-eec5f16bd7d8"
      },
      "outputs": [
        {
          "output_type": "stream",
          "name": "stdout",
          "text": [
            "calculadora de média ponderada do IFRN\n",
            "Digite a nota 1 (com peso 2):5.6\n",
            "Digite a nota 2 (com peso 3):4.8\n",
            "A média ponderada das notas é:   5.12\n",
            "A média ponderada das notas é: 5.120\n",
            "A média ponderada das notas é: 5.119999999999999\n"
          ]
        }
      ],
      "source": [
        "print(\"calculadora de média ponderada do IFRN\")\n",
        "#Float, tipagem explícita, para garantir número fracionário\n",
        "n1 = float (input(\"Digite a nota 1 (com peso 2):\"))\n",
        "n2 = float (input(\"Digite a nota 2 (com peso 3):\"))\n",
        "\n",
        "#calculo de media ponderada\n",
        "media = (n1 * 2 + n2 * 3) / 5\n",
        "\n",
        "#impressão da média\n",
        "print(f\"A média ponderada das notas é:  {media: .2f}\")\n",
        "\n",
        "#impressão da média sem formatação\n",
        "print(f\"A média ponderada das notas é: {media:.3f}\")\n",
        "\n",
        "#impressão da média sem formatação\n",
        "print(\"A média ponderada das notas é:\" , media )"
      ]
    }
  ]
}