{
  "cells": [
    {
      "cell_type": "markdown",
      "metadata": {
        "colab_type": "text",
        "id": "view-in-github"
      },
      "source": [
        "<a href=\"https://colab.research.google.com/github/Raytallo/Algoritmo-ESA.2024.1/blob/main/treino3.ipynb\" target=\"_parent\"><img src=\"https://colab.research.google.com/assets/colab-badge.svg\" alt=\"Open In Colab\"/></a>"
      ]
    },
    {
      "cell_type": "code",
      "execution_count": 24,
      "metadata": {
        "id": "jiMESW6TMaHC"
      },
      "outputs": [
        {
          "name": "stdout",
          "output_type": "stream",
          "text": [
            "a) Os primeiros 5 times: ('Flamengo', 'Internacional', 'Atlético-MG', 'São Paulo', 'Fluminense')\n",
            "b) Os últimos 4 times: ('Vasco', 'Goiás', 'Coritiba', 'Botafogo')\n",
            "c) Times em ordem alfabética: ['Athletico-PR', 'Atlético-GO', 'Atlético-MG', 'Bahia', 'Botafogo', 'Bragantino', 'Ceará', 'Corinthians', 'Coritiba', 'Flamengo', 'Fluminense', 'Fortaleza', 'Goiás', 'Grêmio', 'Internacional', 'Palmeiras', 'Santos', 'Sport', 'São Paulo', 'Vasco']\n",
            "d) Posição do time Fortaleza: 16\n"
          ]
        }
      ],
      "source": [
        "# Variável com uma tupla dos nomes dos 20 times na classificação final do Campeonato Brasileiro de Futebol\n",
        "times = ('Flamengo', 'Internacional', 'Atlético-MG', 'São Paulo', 'Fluminense', 'Grêmio', 'Palmeiras', 'Santos', 'Athletico-PR', 'Bragantino', 'Ceará', 'Corinthians', 'Atlético-GO', 'Bahia', 'Sport', 'Fortaleza', 'Vasco', 'Goiás', 'Coritiba', 'Botafogo')\n",
        "# a) Os primeiros 5 times\n",
        "primeiros_cinco_times = times[:5]\n",
        "print(\"a) Os primeiros 5 times:\", primeiros_cinco_times)\n",
        "\n",
        "# b) Os últimos 4 times\n",
        "ultimos_quatro_times = times[-4:]\n",
        "print(\"b) Os últimos 4 times:\", ultimos_quatro_times)\n",
        "\n",
        "# c) Times em ordem alfabética\n",
        "times_em_ordem_alfabetica = sorted(times)\n",
        "print(\"c) Times em ordem alfabética:\", times_em_ordem_alfabetica)\n",
        "\n",
        "# d) Posição do time Fortaleza\n",
        "posicao_fortaleza = times.index('Fortaleza') + 1\n",
        "print(\"d) Posição do time Fortaleza:\", posicao_fortaleza)\n"
      ]
    },
    {
      "cell_type": "code",
      "execution_count": 25,
      "metadata": {},
      "outputs": [
        {
          "name": "stdout",
          "output_type": "stream",
          "text": [
            "Número já existente. Não será adicionado.\n",
            "Número já existente. Não será adicionado.\n",
            "Número já existente. Não será adicionado.\n",
            "Número já existente. Não será adicionado.\n",
            "Número já existente. Não será adicionado.\n",
            "Número já existente. Não será adicionado.\n",
            "Número já existente. Não será adicionado.\n",
            "Número já existente. Não será adicionado.\n",
            "Número já existente. Não será adicionado.\n",
            "Número já existente. Não será adicionado.\n",
            "Número já existente. Não será adicionado.\n",
            "Número já existente. Não será adicionado.\n",
            "Número já existente. Não será adicionado.\n",
            "Número já existente. Não será adicionado.\n",
            "Número já existente. Não será adicionado.\n",
            "Número já existente. Não será adicionado.\n",
            "Valores únicos digitados em ordem crescente:\n",
            "1\n",
            "2\n",
            "3\n",
            "4\n",
            "7\n",
            "10\n",
            "11\n",
            "47\n"
          ]
        }
      ],
      "source": [
        "# Criar uma lista vazia para armazenar os valores únicos\n",
        "valores = []\n",
        "# Loop para obter a entrada do usuário\n",
        "while True:\n",
        "    num = input(\"Digite um valor numérico (ou 'sair' para encerrar): \")\n",
        "    \n",
        "    # Verificar se o usuário deseja sair\n",
        "    if num.lower() == 'sair':\n",
        "        break\n",
        "    \n",
        "    # Converter a entrada para inteiro\n",
        "    num = int(num)\n",
        "    \n",
        "    # Verificar se o número já existe na lista\n",
        "    if num in valores:\n",
        "        print(\"Número já existente. Não será adicionado.\")\n",
        "    else:\n",
        "        # Adicionar o número à lista\n",
        "        valores.append(num)\n",
        "\n",
        "# Ordenar a lista em ordem crescente\n",
        "valores.sort()\n",
        "\n",
        "# Imprimir os valores únicos\n",
        "print(\"Valores únicos digitados em ordem crescente:\")\n",
        "for valor in valores:\n",
        "    print(valor)\n"
      ]
    }
  ],
  "metadata": {
    "colab": {
      "authorship_tag": "ABX9TyPY4Ak6sNTBCkObFYBEMEkl",
      "include_colab_link": true,
      "provenance": []
    },
    "kernelspec": {
      "display_name": "Python 3",
      "name": "python3"
    },
    "language_info": {
      "codemirror_mode": {
        "name": "ipython",
        "version": 3
      },
      "file_extension": ".py",
      "mimetype": "text/x-python",
      "name": "python",
      "nbconvert_exporter": "python",
      "pygments_lexer": "ipython3",
      "version": "3.12.2"
    }
  },
  "nbformat": 4,
  "nbformat_minor": 0
}
