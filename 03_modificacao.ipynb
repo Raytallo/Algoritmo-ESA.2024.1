{
  "nbformat": 4,
  "nbformat_minor": 0,
  "metadata": {
    "colab": {
      "provenance": [],
      "authorship_tag": "ABX9TyNYuViBtxssiTXYMj7NRGYq",
      "include_colab_link": true
    },
    "kernelspec": {
      "name": "python3",
      "display_name": "Python 3"
    },
    "language_info": {
      "name": "python"
    }
  },
  "cells": [
    {
      "cell_type": "markdown",
      "metadata": {
        "id": "view-in-github",
        "colab_type": "text"
      },
      "source": [
        "<a href=\"https://colab.research.google.com/github/Raytallo/Algoritmo-ESA.2024.1/blob/main/03_modificacao.ipynb\" target=\"_parent\"><img src=\"https://colab.research.google.com/assets/colab-badge.svg\" alt=\"Open In Colab\"/></a>"
      ]
    },
    {
      "cell_type": "code",
      "execution_count": 11,
      "metadata": {
        "colab": {
          "base_uri": "https://localhost:8080/"
        },
        "id": "zVuO3nijhqEF",
        "outputId": "40d296d4-0228-4c32-85d4-570a9f048298"
      },
      "outputs": [
        {
          "output_type": "stream",
          "name": "stdout",
          "text": [
            "calculadora de média ponderada do IFRN\n",
            "Digite o número de alunos3\n",
            "\n",
            "Aluno 1:\n",
            "Digite a nota 1 (com peso 2):3\n",
            "Digite a nota 2 (com peso 3):5\n",
            "A média ponderada das notas é:   4.20\n",
            "Reprovado\n",
            "\n",
            "Aluno 2:\n",
            "Digite a nota 1 (com peso 2):4\n",
            "Digite a nota 2 (com peso 3):6\n",
            "A média ponderada das notas é:   5.20\n",
            "Reprovado\n",
            "Prova Final\n",
            "\n",
            "Aluno 3:\n",
            "Digite a nota 1 (com peso 2):5\n",
            "Digite a nota 2 (com peso 3):8\n",
            "A média ponderada das notas é:   6.80\n",
            "Aprovado\n"
          ]
        }
      ],
      "source": [
        "print(\"calculadora de média ponderada do IFRN\")\n",
        "\n",
        "#perguntando, para quantos alunos, desejo calcular média\n",
        "num_alunos = int(input(\"Digite o número de alunos\"))\n",
        "\n",
        "for aluno in range(1, num_alunos+1):\n",
        "  #imprima o numero do aluno da vez\n",
        "  print(f\"\\nAluno { aluno}:\")\n",
        "\n",
        "\n",
        "\n",
        "  #Float, tipagem explícita, para garantir número fracionário\n",
        "  n1 = float (input(\"Digite a nota 1 (com peso 2):\"))\n",
        "  n2 = float (input(\"Digite a nota 2 (com peso 3):\"))\n",
        "\n",
        "\n",
        "  #calculo de media ponderada\n",
        "  media = (n1 * 2 + n2 * 3) / 5\n",
        "\n",
        "  #impressão da média\n",
        "  print(f\"A média ponderada das notas é:  {media: .2f}\")\n",
        "\n",
        "  if media >= 6:\n",
        "    print(\"Aprovado\")\n",
        "  else:\n",
        "    print(\"Reprovado\")\n",
        "    if n1 >= 4 and n2 >= 4:\n",
        "      print(\"Prova Final\")"
      ]
    }
  ]
}