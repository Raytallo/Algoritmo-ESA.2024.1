{
  "nbformat": 4,
  "nbformat_minor": 0,
  "metadata": {
    "colab": {
      "provenance": [],
      "authorship_tag": "ABX9TyPO1HHKXEu0Ll5zC8cgZ/++",
      "include_colab_link": true
    },
    "kernelspec": {
      "name": "python3",
      "display_name": "Python 3"
    },
    "language_info": {
      "name": "python"
    }
  },
  "cells": [
    {
      "cell_type": "markdown",
      "metadata": {
        "id": "view-in-github",
        "colab_type": "text"
      },
      "source": [
        "<a href=\"https://colab.research.google.com/github/Raytallo/Algoritmo-ESA.2024.1/blob/main/Ol%C3%A1_Ray.ipynb\" target=\"_parent\"><img src=\"https://colab.research.google.com/assets/colab-badge.svg\" alt=\"Open In Colab\"/></a>"
      ]
    },
    {
      "cell_type": "code",
      "execution_count": null,
      "metadata": {
        "id": "UBcma0-RLhBc"
      },
      "outputs": [],
      "source": [
        "#Criei esse arquivo em meu computador e o enviei para o repositório do GitHub.\n",
        "print ('Olá Ray!')\n",
        "\n",
        "\n",
        "#olha só essa soma aqui em baixo.\n",
        "a = 10\n",
        "b = 20\n",
        "soma = a + b\n",
        "print(soma)\n",
        "\n",
        "#Manda um abraço pra Moises e manda ele liberar a turma de organização de computadores mais cedo.\n",
        "\n",
        "#Igor :P"
      ]
    }
  ]
}