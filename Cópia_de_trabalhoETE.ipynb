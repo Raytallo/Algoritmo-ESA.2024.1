{
  "nbformat": 4,
  "nbformat_minor": 0,
  "metadata": {
    "colab": {
      "provenance": [],
      "authorship_tag": "ABX9TyMFlsb9Y9FncpH4+zu9m9Lh",
      "include_colab_link": true
    },
    "kernelspec": {
      "name": "python3",
      "display_name": "Python 3"
    },
    "language_info": {
      "name": "python"
    }
  },
  "cells": [
    {
      "cell_type": "markdown",
      "metadata": {
        "id": "view-in-github",
        "colab_type": "text"
      },
      "source": [
        "<a href=\"https://colab.research.google.com/github/Raytallo/Algoritmo-ESA.2024.1/blob/main/C%C3%B3pia_de_trabalhoETE.ipynb\" target=\"_parent\"><img src=\"https://colab.research.google.com/assets/colab-badge.svg\" alt=\"Open In Colab\"/></a>"
      ]
    },
    {
      "cell_type": "code",
      "execution_count": null,
      "metadata": {
        "id": "_lwYK9tVixt3"
      },
      "outputs": [],
      "source": []
    },
    {
      "cell_type": "markdown",
      "source": [
        "PONTO 1 - Controle de residuos"
      ],
      "metadata": {
        "id": "u_u3NzuHi3IU"
      }
    },
    {
      "cell_type": "code",
      "source": [
        "volumecolet = int(input(\"Digite o valor do esgoto celetado em metros cúbicos\"))\n",
        "volumeaguacons = int(input(\"Digite o valor da água consumida metros cúbicos\"))\n",
        "volumeaguatrat = int(input(\"Digite o valor da água tratada em metros cúbicos\"))\n",
        "#cálculo\n",
        "calculocontrol = volumecolet / (volumeaguacons - volumeaguatrat)\n",
        "print(calculocontrol)"
      ],
      "metadata": {
        "colab": {
          "base_uri": "https://localhost:8080/"
        },
        "id": "4FgUZWhri_p8",
        "outputId": "d733a3d3-06a0-4170-f0fd-503012f5ea29"
      },
      "execution_count": null,
      "outputs": [
        {
          "output_type": "stream",
          "name": "stdout",
          "text": [
            "Digite o valor do esgoto celetado em metros cúbicos4\n",
            "Digite o valor da água consumida metros cúbicos4\n",
            "Digite o valor da água tratada em metros cúbicos2\n",
            "2.0\n"
          ]
        }
      ]
    },
    {
      "cell_type": "markdown",
      "source": [
        "PONTO 2 - Quantificar os índices pluviometricos"
      ],
      "metadata": {
        "id": "7tXFWoF-k_SP"
      }
    },
    {
      "cell_type": "code",
      "source": [
        "maxete = input(\"Digite o valor total \")"
      ],
      "metadata": {
        "id": "n_vkt8gFlFfi"
      },
      "execution_count": null,
      "outputs": []
    },
    {
      "cell_type": "markdown",
      "source": [
        "PONTO 3 - Analisar o escoamento"
      ],
      "metadata": {
        "id": "fg2AqVJ9lumd"
      }
    },
    {
      "cell_type": "code",
      "source": [
        "# Equação 1\n",
        "chuv = float(input(\"Digite a quantidade no período chuvoso:\"))\n",
        "seco = float(input(\"Digite a quantidade no período seco:\"))\n",
        "qep = (chuv - seco)\n",
        "print(qep)\n",
        "# Equação 2\n",
        "porcentagem = (qep/seco)*100\n",
        "print(porcentagem)\n",
        "# Equação 3\n"
      ],
      "metadata": {
        "colab": {
          "base_uri": "https://localhost:8080/"
        },
        "id": "lcVD7rIHl5N3",
        "outputId": "831e36af-51d7-43c2-8158-a607ee052348"
      },
      "execution_count": null,
      "outputs": [
        {
          "output_type": "stream",
          "name": "stdout",
          "text": [
            "Digite a quantidade no período chuvoso:10\n",
            "Digite a quantidade no prríodo seco:5\n",
            "5.0\n",
            "100.0\n"
          ]
        }
      ]
    },
    {
      "cell_type": "markdown",
      "source": [],
      "metadata": {
        "id": "x4seDU1Ti2ft"
      }
    }
  ]
}