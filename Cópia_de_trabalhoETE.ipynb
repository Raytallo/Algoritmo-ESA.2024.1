{
  "nbformat": 4,
  "nbformat_minor": 0,
  "metadata": {
    "colab": {
      "provenance": [],
      "authorship_tag": "ABX9TyNEIswFQkhNBcgcjp7ZWY1q",
      "include_colab_link": true
    },
    "kernelspec": {
      "name": "python3",
      "display_name": "Python 3"
    },
    "language_info": {
      "name": "python"
    }
  },
  "cells": [
    {
      "cell_type": "markdown",
      "metadata": {
        "id": "view-in-github",
        "colab_type": "text"
      },
      "source": [
        "<a href=\"https://colab.research.google.com/github/Raytallo/Algoritmo-ESA.2024.1/blob/main/C%C3%B3pia_de_trabalhoETE.ipynb\" target=\"_parent\"><img src=\"https://colab.research.google.com/assets/colab-badge.svg\" alt=\"Open In Colab\"/></a>"
      ]
    },
    {
      "cell_type": "code",
      "execution_count": null,
      "metadata": {
        "id": "_lwYK9tVixt3"
      },
      "outputs": [],
      "source": []
    },
    {
      "cell_type": "markdown",
      "source": [
        "PONTO 3 - Quantificar os índices pluviometricos"
      ],
      "metadata": {
        "id": "_ODS4OmKnYuX"
      }
    },
    {
      "cell_type": "code",
      "source": [
        "# Equação 1: contribuição pluviométrica\n",
        "chuv = float(input(\"Digite a quantidade no período chuvoso em (mm):\"))\n",
        "seco = float(input(\"Digite a quantidade no período seco em (mm):\"))\n",
        "km = float(input(\"Digite a extensão em quilômetros da rede coletora:\"))\n",
        "qcp = (chuv - seco)\n",
        "print(\"A contribuição pluviometrica desses períodos é {}mm\".format(qcp) )\n",
        "# Equação 2: percentual em relação a vazão de tempo seco\n",
        "porcentagem = (qcp / seco)*100\n",
        "print(\"O percentual em relação a vazão de tempo seco é {}%\".format(porcentagem))\n",
        "# Equação 3: A taxa de contribuição pluviométrica por km de rede coletora\n",
        "taxa = (qcp/km)*100\n",
        "print(\"A taxa de contribuição é {}\".format(taxa))\n"
      ],
      "metadata": {
        "colab": {
          "base_uri": "https://localhost:8080/"
        },
        "id": "3_kemXf9neCC",
        "outputId": "259f4f41-b8d5-4473-eb26-4b53a75ffdbb"
      },
      "execution_count": 30,
      "outputs": [
        {
          "output_type": "stream",
          "name": "stdout",
          "text": [
            "Digite a quantidade no período chuvoso em (mm):200\n",
            "Digite a quantidade no período seco em (mm):50\n",
            "Digite a extensão em quilômetros da rede coletora:500\n",
            "A contribuição pluviometrica desses períodos é 150.0mm\n",
            "O percentual em relação a vazão de tempo seco é 300.0%\n",
            "A taxa de contribuição é 30.0\n",
            "O coeficiente de variação é: 4.0\n"
          ]
        }
      ]
    },
    {
      "cell_type": "markdown",
      "source": [
        "PONTO 1 - Controle de residuos"
      ],
      "metadata": {
        "id": "u_u3NzuHi3IU"
      }
    },
    {
      "cell_type": "code",
      "source": [
        "volumecolet = int(input(\"Digite o valor do esgoto coletado em metros cúbicos:\"))\n",
        "volumeaguacons = int(input(\"Digite o valor da água consumida metros cúbicos:\"))\n",
        "volumeaguatrat = int(input(\"Digite o valvolumeor da água tratada em metros cúbicos:\"))\n",
        "#cálculo\n",
        "calculocontrol = volumecolet / (volumeaguacons - volumeaguatrat)\n",
        "print(calculocontrol,\"m³\")\n",
        "porcentagem = (calculocontrol * 100)\n",
        "print(\"{:.2f}% de esgoto foi coletado pelo sistema\".format(porcentagem))\n"
      ],
      "metadata": {
        "colab": {
          "base_uri": "https://localhost:8080/",
          "height": 356
        },
        "id": "4FgUZWhri_p8",
        "outputId": "7064ba3f-8421-44a1-d8a7-1e25b6b92949"
      },
      "execution_count": 27,
      "outputs": [
        {
          "output_type": "error",
          "ename": "KeyboardInterrupt",
          "evalue": "Interrupted by user",
          "traceback": [
            "\u001b[0;31m---------------------------------------------------------------------------\u001b[0m",
            "\u001b[0;31mKeyboardInterrupt\u001b[0m                         Traceback (most recent call last)",
            "\u001b[0;32m<ipython-input-27-af75bc5fc072>\u001b[0m in \u001b[0;36m<cell line: 1>\u001b[0;34m()\u001b[0m\n\u001b[0;32m----> 1\u001b[0;31m \u001b[0mvolumecolet\u001b[0m \u001b[0;34m=\u001b[0m \u001b[0mint\u001b[0m\u001b[0;34m(\u001b[0m\u001b[0minput\u001b[0m\u001b[0;34m(\u001b[0m\u001b[0;34m\"Digite o valor do esgoto coletado em metros cúbicos:\"\u001b[0m\u001b[0;34m)\u001b[0m\u001b[0;34m)\u001b[0m\u001b[0;34m\u001b[0m\u001b[0;34m\u001b[0m\u001b[0m\n\u001b[0m\u001b[1;32m      2\u001b[0m \u001b[0mvolumeaguacons\u001b[0m \u001b[0;34m=\u001b[0m \u001b[0mint\u001b[0m\u001b[0;34m(\u001b[0m\u001b[0minput\u001b[0m\u001b[0;34m(\u001b[0m\u001b[0;34m\"Digite o valor da água consumida metros cúbicos:\"\u001b[0m\u001b[0;34m)\u001b[0m\u001b[0;34m)\u001b[0m\u001b[0;34m\u001b[0m\u001b[0;34m\u001b[0m\u001b[0m\n\u001b[1;32m      3\u001b[0m \u001b[0mvolumeaguatrat\u001b[0m \u001b[0;34m=\u001b[0m \u001b[0mint\u001b[0m\u001b[0;34m(\u001b[0m\u001b[0minput\u001b[0m\u001b[0;34m(\u001b[0m\u001b[0;34m\"Digite o valvolumeor da água tratada em metros cúbicos:\"\u001b[0m\u001b[0;34m)\u001b[0m\u001b[0;34m)\u001b[0m\u001b[0;34m\u001b[0m\u001b[0;34m\u001b[0m\u001b[0m\n\u001b[1;32m      4\u001b[0m \u001b[0;31m#cálculo\u001b[0m\u001b[0;34m\u001b[0m\u001b[0;34m\u001b[0m\u001b[0m\n\u001b[1;32m      5\u001b[0m \u001b[0mcalculocontrol\u001b[0m \u001b[0;34m=\u001b[0m \u001b[0mvolumecolet\u001b[0m \u001b[0;34m/\u001b[0m \u001b[0;34m(\u001b[0m\u001b[0mvolumeaguacons\u001b[0m \u001b[0;34m-\u001b[0m \u001b[0mvolumeaguatrat\u001b[0m\u001b[0;34m)\u001b[0m\u001b[0;34m\u001b[0m\u001b[0;34m\u001b[0m\u001b[0m\n",
            "\u001b[0;32m/usr/local/lib/python3.10/dist-packages/ipykernel/kernelbase.py\u001b[0m in \u001b[0;36mraw_input\u001b[0;34m(self, prompt)\u001b[0m\n\u001b[1;32m    849\u001b[0m                 \u001b[0;34m\"raw_input was called, but this frontend does not support input requests.\"\u001b[0m\u001b[0;34m\u001b[0m\u001b[0;34m\u001b[0m\u001b[0m\n\u001b[1;32m    850\u001b[0m             )\n\u001b[0;32m--> 851\u001b[0;31m         return self._input_request(str(prompt),\n\u001b[0m\u001b[1;32m    852\u001b[0m             \u001b[0mself\u001b[0m\u001b[0;34m.\u001b[0m\u001b[0m_parent_ident\u001b[0m\u001b[0;34m,\u001b[0m\u001b[0;34m\u001b[0m\u001b[0;34m\u001b[0m\u001b[0m\n\u001b[1;32m    853\u001b[0m             \u001b[0mself\u001b[0m\u001b[0;34m.\u001b[0m\u001b[0m_parent_header\u001b[0m\u001b[0;34m,\u001b[0m\u001b[0;34m\u001b[0m\u001b[0;34m\u001b[0m\u001b[0m\n",
            "\u001b[0;32m/usr/local/lib/python3.10/dist-packages/ipykernel/kernelbase.py\u001b[0m in \u001b[0;36m_input_request\u001b[0;34m(self, prompt, ident, parent, password)\u001b[0m\n\u001b[1;32m    893\u001b[0m             \u001b[0;32mexcept\u001b[0m \u001b[0mKeyboardInterrupt\u001b[0m\u001b[0;34m:\u001b[0m\u001b[0;34m\u001b[0m\u001b[0;34m\u001b[0m\u001b[0m\n\u001b[1;32m    894\u001b[0m                 \u001b[0;31m# re-raise KeyboardInterrupt, to truncate traceback\u001b[0m\u001b[0;34m\u001b[0m\u001b[0;34m\u001b[0m\u001b[0m\n\u001b[0;32m--> 895\u001b[0;31m                 \u001b[0;32mraise\u001b[0m \u001b[0mKeyboardInterrupt\u001b[0m\u001b[0;34m(\u001b[0m\u001b[0;34m\"Interrupted by user\"\u001b[0m\u001b[0;34m)\u001b[0m \u001b[0;32mfrom\u001b[0m \u001b[0;32mNone\u001b[0m\u001b[0;34m\u001b[0m\u001b[0;34m\u001b[0m\u001b[0m\n\u001b[0m\u001b[1;32m    896\u001b[0m             \u001b[0;32mexcept\u001b[0m \u001b[0mException\u001b[0m \u001b[0;32mas\u001b[0m \u001b[0me\u001b[0m\u001b[0;34m:\u001b[0m\u001b[0;34m\u001b[0m\u001b[0;34m\u001b[0m\u001b[0m\n\u001b[1;32m    897\u001b[0m                 \u001b[0mself\u001b[0m\u001b[0;34m.\u001b[0m\u001b[0mlog\u001b[0m\u001b[0;34m.\u001b[0m\u001b[0mwarning\u001b[0m\u001b[0;34m(\u001b[0m\u001b[0;34m\"Invalid Message:\"\u001b[0m\u001b[0;34m,\u001b[0m \u001b[0mexc_info\u001b[0m\u001b[0;34m=\u001b[0m\u001b[0;32mTrue\u001b[0m\u001b[0;34m)\u001b[0m\u001b[0;34m\u001b[0m\u001b[0;34m\u001b[0m\u001b[0m\n",
            "\u001b[0;31mKeyboardInterrupt\u001b[0m: Interrupted by user"
          ]
        }
      ]
    },
    {
      "cell_type": "markdown",
      "source": [
        "Ponto 01"
      ],
      "metadata": {
        "id": "DSSP2pdqtRFe"
      }
    },
    {
      "cell_type": "code",
      "source": [
        "volumecolet = int(input(\"Digite o valor do esgoto coletado em metros cúbicos:\"))\n",
        "volumeaguacons = int(input(\"Digite o valor da água consumida metros cúbicos:\"))\n",
        "volumeaguatrat = int(input(\"Digite o valor da água tratada em metros cúbicos:\"))\n",
        "#cálculo\n",
        "calculocontrol = volumecolet / (volumeaguacons - volumeaguatrat)\n",
        "print(calculocontrol\"m³\")"
      ],
      "metadata": {
        "id": "0ErjQZCUtTAM"
      },
      "execution_count": null,
      "outputs": []
    },
    {
      "cell_type": "markdown",
      "source": [
        "PONTO 2 - Quantificar os índices pluviometricos"
      ],
      "metadata": {
        "id": "7tXFWoF-k_SP"
      }
    },
    {
      "cell_type": "code",
      "source": [
        "maxete = input(\"Digite o valor total \")"
      ],
      "metadata": {
        "id": "n_vkt8gFlFfi"
      },
      "execution_count": null,
      "outputs": []
    },
    {
      "cell_type": "markdown",
      "source": [
        "PONTO 3 - Quantificar os índices pluviometricos"
      ],
      "metadata": {
        "id": "fg2AqVJ9lumd"
      }
    },
    {
      "cell_type": "code",
      "source": [
        "# Equação 1: contribuição pluviométrica\n",
        "chuv = float(input(\"Digite a quantidade no período chuvoso em (mm):\"))\n",
        "seco = float(input(\"Digite a quantidade no período seco em (mm):\"))\n",
        "km = float(input(\"Digite a extensão em quilômetros da rede coletora:\"))\n",
        "qcp = (chuv - seco)\n",
        "print(\"A contribuição pluviometrica desses períodos é:\", qcp)\n",
        "# Equação 2: percentual em relação a vazão de tempo seco\n",
        "porcentagem = (qcp / seco)*100\n",
        "print(f\"O percentual em relação a vazão de tempo seco é: {porcentagem:.2}%\")\n",
        "# Equação 3: A taxa de contribuição pluviométrica por km de rede coletora\n",
        "taxa = (qcp/km) * 100\n",
        "print(f\"A taxa de contribuição é: {taxa:.2f}%\")\n",
        "# Equação 4: coeficiente de variação de vazão\n",
        "v_vazao = (chuv / seco)\n",
        "print(\"O coeficiente de variação é:\", v_vazao)"
      ],
      "metadata": {
        "colab": {
          "base_uri": "https://localhost:8080/"
        },
        "id": "lcVD7rIHl5N3",
        "outputId": "3f8ded11-e12d-4db7-edfa-ccd48867b684"
      },
      "execution_count": 26,
      "outputs": [
        {
          "output_type": "stream",
          "name": "stdout",
          "text": [
            "Digite a quantidade no período chuvoso em (mm):200\n",
            "Digite a quantidade no período seco em (mm):50\n",
            "Digite a extensão em quilômetros da rede coletora:500\n",
            "A contribuição pluviometrica desses períodos é: 150.0\n",
            "O percentual em relação a vazão de tempo seco é: 3e+02%\n",
            "A taxa de contribuição é: 30.00%\n",
            "O coeficiente de variação é: 4.0\n"
          ]
        }
      ]
    },
    {
      "cell_type": "markdown",
      "source": [],
      "metadata": {
        "id": "x4seDU1Ti2ft"
      }
    }
  ]
}